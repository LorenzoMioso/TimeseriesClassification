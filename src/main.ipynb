{
 "cells": [
  {
   "cell_type": "code",
   "execution_count": 62,
   "id": "fe0c1307",
   "metadata": {},
   "outputs": [],
   "source": [
    "import numpy as np\n",
    "import pandas as pd\n",
    "import plotly.express as px\n",
    "import plotly.graph_objects as go\n",
    "import json\n",
    "from sklearn import svm"
   ]
  },
  {
   "cell_type": "code",
   "execution_count": 63,
   "id": "e7a04407",
   "metadata": {},
   "outputs": [],
   "source": [
    "# Read train data\n",
    "train_df = pd.read_csv(\"../data/gtrends.csv\")\n",
    "train_labels_df = pd.read_csv(\"../data/labels.csv\", index_col=0)\n",
    "class_meaning = json.load(open(\"../data/class_meaning.json\", \"r\"))"
   ]
  },
  {
   "attachments": {},
   "cell_type": "markdown",
   "id": "31fd18f0",
   "metadata": {},
   "source": [
    "# Feature extraction\n",
    "Computing the features of each time series :\n",
    "\n",
    "- Mean\n",
    "- Maximum z-score :\n",
    "    \n",
    "    $ z = \\frac{x - \\mu}{\\sigma},  $ where:\n",
    "    - $ x $ is the maximum value of the time series\n",
    "    - $ \\mu $ is the mean of the time series\n",
    "    - $ \\sigma $ is the standard deviation of the time series\n",
    "- Autocorrelation coefficient (Pearson's) :\n",
    "\n",
    "    Using the AutoCorrelation function from Pandas library,\n",
    "    it implements the Pearson's correlation coefficient between the time series and a lagged version of itself."
   ]
  },
  {
   "cell_type": "code",
   "execution_count": 64,
   "id": "dd25f519",
   "metadata": {},
   "outputs": [],
   "source": [
    "def feature_ext(dataframe):\n",
    "    df = pd.DataFrame()\n",
    "    for col in dataframe.columns:\n",
    "        if col != \"date\":\n",
    "            data_col = dataframe[col] / 100 # normalize data\n",
    "            d = {\n",
    "                \"mean\": data_col.mean(),\n",
    "                \"max_zscore\": ((max(data_col) - data_col.mean()) / (data_col.std())),\n",
    "                \"autocorr\": data_col.autocorr(lag=53), # 1 year lag\n",
    "                \"topic\": col,\n",
    "            }\n",
    "            i = [0]\n",
    "            df_tmp = pd.DataFrame(data=d, index=i)\n",
    "            df = pd.concat([df, df_tmp], ignore_index=True, sort=False)\n",
    "\n",
    "    return df"
   ]
  },
  {
   "cell_type": "code",
   "execution_count": 65,
   "id": "333e48f6",
   "metadata": {},
   "outputs": [],
   "source": [
    "features = feature_ext(train_df)"
   ]
  },
  {
   "cell_type": "code",
   "execution_count": 66,
   "id": "de7051a7",
   "metadata": {},
   "outputs": [],
   "source": [
    "def plot_data(features, labels_df=\"\"):\n",
    "    if labels_df == \"\":\n",
    "        fig = px.scatter_3d(\n",
    "            features,\n",
    "            y=\"max_zscore\",\n",
    "            x=\"autocorr\",\n",
    "            z=\"mean\",\n",
    "            text=\"topic\",\n",
    "        )\n",
    "    else:\n",
    "        fig = px.scatter_3d(\n",
    "            features,\n",
    "            y=\"max_zscore\",\n",
    "            x=\"autocorr\",\n",
    "            z=\"mean\",\n",
    "            text=\"topic\",\n",
    "            color=labels_df,\n",
    "        )\n",
    "    fig.show()"
   ]
  },
  {
   "cell_type": "code",
   "execution_count": 67,
   "id": "88c8cf06",
   "metadata": {},
   "outputs": [
    {
     "data": {
      "application/vnd.plotly.v1+json": {
       "config": {
        "plotlyServerURL": "https://plot.ly"
       },
       "data": [
        {
         "hovertemplate": "autocorr=%{x}<br>max_zscore=%{y}<br>mean=%{z}<br>topic=%{text}<extra></extra>",
         "legendgroup": "",
         "marker": {
          "color": "#636efa",
          "symbol": "circle"
         },
         "mode": "markers+text",
         "name": "",
         "scene": "scene",
         "showlegend": false,
         "text": [
          "long sleeve",
          "culottes",
          "miniskirt",
          "short sleeves",
          "printed",
          "short cardigan",
          "solid colours",
          "trapeze dress",
          "sleeveless",
          "long cardigan",
          "sheath dress",
          "short coat",
          "medium coat",
          "doll dress",
          "long dress",
          "shorts",
          "long coat",
          "tracksuit",
          "drop sleeve",
          "patterned",
          "kimono dress",
          "medium cardigan",
          "shirt dress",
          "maxi",
          "capris",
          "gitana skirt",
          "long duster",
          "yellow",
          "brown",
          "blue",
          "grey",
          "green",
          "black",
          "red",
          "white",
          "orange",
          "violet",
          "acrylic",
          "scuba crepe",
          "tulle",
          "angora",
          "faux leather",
          "georgette",
          "lurex",
          "nice",
          "crepe",
          "satin cotton",
          "silky satin",
          "fur",
          "matte jersey",
          "plisse",
          "velvet",
          "lace",
          "cotton",
          "piquet",
          "plush",
          "bengaline",
          "jacquard",
          "frise",
          "technical",
          "cady",
          "dark jeans",
          "light jeans",
          "ity",
          "plumetis",
          "polyviscous",
          "dainetto",
          "webbing",
          "foam rubber",
          "chanel",
          "marocain",
          "macrame",
          "embossed",
          "heavy jeans",
          "nylon",
          "tencel",
          "paillettes",
          "chambree",
          "chine crepe",
          "muslin cotton or silk",
          "linen",
          "tactel",
          "viscose twill",
          "cloth",
          "mohair",
          "mutton",
          "scottish",
          "milano stitch",
          "devore",
          "hron",
          "ottoman",
          "fluid",
          "flamed",
          "fluid polyviscous",
          "shiny jersey",
          "goose"
         ],
         "type": "scatter3d",
         "x": [
          0.9298611724804887,
          0.6613660007806006,
          0.44098087773460104,
          0.2889773252988319,
          0.298442424750122,
          0.5072824306750152,
          0.050700128589988756,
          0.39502777495429425,
          0.7620941240213782,
          0.6905695200822007,
          0.2651533900413491,
          0.7486022605174714,
          0.33632172229267776,
          0.4506972098571532,
          0.5971238479646657,
          0.9298400552826617,
          0.9420182419257397,
          0.8925937734107053,
          0.011832666133111062,
          0.09515463644787839,
          0.48166890924546535,
          0.1586404252832477,
          0.6565685536039892,
          0.6862148537331709,
          0.8584278142192203,
          -0.018232481711061732,
          0.12930225786788435,
          0.642884611847801,
          0.139682661211253,
          0.34750388591127257,
          0.4495608619358423,
          -0.1274416892459137,
          0.501163466321076,
          -0.09114545714879381,
          0.29169922671951226,
          0.6607002365278127,
          0.073951858316279,
          0.8815201031736781,
          0.20732296713597612,
          0.4693713018453027,
          0.5875054265557288,
          0.898740641025977,
          0.03488980588011447,
          0.8884066111339611,
          0.23255738086397185,
          0.5269161115225803,
          0.040363209253528945,
          0.12405864831678197,
          0.9366979084534217,
          0.09084172771351635,
          0.6103834571404618,
          0.6679861606156353,
          0.6061981573005643,
          0.7223749722421382,
          0.398469539042796,
          0.8597527267178466,
          0.49135194458228165,
          0.5260221570545086,
          0.4637629473748295,
          0.5019783814250021,
          0.2610325434516827,
          0.3857594300191075,
          0.150488334627393,
          0.1193621845077577,
          0.10891185635268856,
          null,
          0.00835203883296115,
          0.3925058091154287,
          0.07121189129104191,
          0.6816644769370491,
          0.6168797959742212,
          0.8482853171946573,
          0.4118439810398224,
          0.06073579412172293,
          0.28685883058026773,
          0.700849187283031,
          0.467352360874991,
          -0.08810018720743171,
          -0.012148055894823354,
          null,
          0.9002135483544779,
          0.38307527790282614,
          -0.007252662270541094,
          0.3300838360511106,
          0.8060491155596852,
          0.3805061158120722,
          0.41205785416351803,
          -0.04807487383255959,
          0.050296325498094284,
          0.16367391474507365,
          0.5202914116962944,
          0.6232953882149986,
          0.11078037241465997,
          null,
          0.14618990668276952,
          0.8772985908438541
         ],
         "y": [
          2.756128865393022,
          3.2451054351486897,
          4.4842181295553125,
          2.8546967525708933,
          7.140429096803359,
          3.455570202211473,
          3.3558847314870124,
          3.206276347324875,
          2.670455239273934,
          2.615221149178668,
          3.0598547824199014,
          2.7788996844516984,
          4.2140801164886925,
          4.024069397282743,
          2.5117697237664034,
          2.7289624941136466,
          3.0070155730860586,
          3.4197676833511323,
          2.9886216759243274,
          2.848250343958995,
          3.443791983840078,
          5.231713803059874,
          2.227979281838844,
          4.0797764101235545,
          3.3012117170560806,
          8.27591388717676,
          2.691310218124972,
          2.1467134710193405,
          5.611022604113364,
          3.950168623858017,
          5.194513573900545,
          5.794435914373608,
          7.115929845419906,
          7.993083124915215,
          5.460539141904274,
          4.291873048731451,
          6.7399821949575935,
          2.4232280932603745,
          3.9421252684322337,
          3.822084440001444,
          3.03100589747612,
          3.402924925129823,
          7.7805556030623535,
          4.401049109105782,
          14.029583129651582,
          6.6728763579518215,
          3.5379850868313367,
          2.8637571169160694,
          2.657006281755613,
          3.275272525496754,
          2.614742532357046,
          4.069747764807753,
          4.117614808409438,
          2.9975901831340783,
          3.520405465303786,
          5.334592500562475,
          2.5634802573443687,
          2.8395262477192147,
          4.484011123948098,
          2.5410127199411017,
          11.994542163398945,
          2.9686489488485144,
          2.6899866487892456,
          2.622479856472995,
          5.238598796072543,
          -0.9977246841962695,
          3.8965333404427267,
          4.330983691732694,
          2.9250648775009274,
          4.110308893586478,
          2.8605782109379154,
          2.6105503191745,
          3.6364408702963416,
          3.741288798768126,
          4.940027673568129,
          2.3723003444531496,
          6.791411072180704,
          3.463455211376286,
          4.521577715133012,
          -0.9977246841962695,
          2.2876862106205658,
          2.909646964503455,
          3.9527342053054975,
          3.1236437056671744,
          2.681081951246395,
          4.897276023874186,
          6.041412290769715,
          4.646342599960431,
          8.745845006120101,
          4.262084411517447,
          2.6459960954667494,
          3.0553702018414475,
          4.117067943114525,
          -0.9977246841962695,
          4.114390750058018,
          5.171748435191733
         ],
         "z": [
          0.5924545454545455,
          0.5729545454545455,
          0.45681818181818185,
          0.6305000000000001,
          0.658590909090909,
          0.460909090909091,
          0.32368181818181824,
          0.37160909090909094,
          0.7109545454545454,
          0.6045,
          0.6115000000000002,
          0.47027272727272723,
          0.31095454545454543,
          0.5665454545454546,
          0.7818636363636363,
          0.539,
          0.3882727272727272,
          0.45322727272727276,
          0.40595454545454546,
          0.7916363636363638,
          0.5256363636363637,
          0.14859090909090908,
          0.8110545454545454,
          0.7402272727272727,
          0.43836363636363634,
          0.01609090909090909,
          0.5127727272727274,
          0.8588636363636365,
          0.6300454545454546,
          0.7752727272727273,
          0.1686363636363636,
          0.7680909090909089,
          0.2769545454545455,
          0.5974999999999999,
          0.8164545454545454,
          0.5665909090909091,
          0.5840909090909091,
          0.753909090909091,
          0.1884090909090909,
          0.7218636363636364,
          0.5789545454545455,
          0.49272727272727274,
          0.34263636363636363,
          0.3213181818181818,
          0.19518181818181818,
          0.4,
          0.4173181818181818,
          0.4203181818181818,
          0.5530454545454545,
          0.2879545454545454,
          0.5671363636363635,
          0.5843636363636364,
          0.7187727272727272,
          0.7892727272727272,
          0.3032272727272727,
          0.4571363636363636,
          0.4472727272727273,
          0.7320454545454546,
          0.6588181818181819,
          0.780818181818182,
          0.23863636363636365,
          0.6525909090909091,
          0.7263181818181819,
          0.7458181818181817,
          0.27454545454545454,
          -0.009999999999999998,
          0.0726818181818182,
          0.5938636363636365,
          0.6031818181818183,
          0.6815,
          0.6813181818181819,
          0.6741363636363636,
          0.6821363636363637,
          0.34181818181818185,
          0.7726818181818182,
          0.5903181818181819,
          0.20604545454545453,
          0.188,
          0.31327272727272726,
          -0.009999999999999998,
          0.7346818181818182,
          0.5325909090909091,
          0.12581818181818183,
          0.881409090909091,
          0.5824545454545456,
          0.5498181818181818,
          0.6214999999999999,
          0.10754545454545457,
          0.23845454545454542,
          0.20281818181818184,
          0.6962727272727273,
          0.8412727272727272,
          0.4506363636363636,
          -0.009999999999999998,
          0.13945454545454544,
          0.37386363636363634
         ]
        }
       ],
       "layout": {
        "legend": {
         "tracegroupgap": 0
        },
        "margin": {
         "t": 60
        },
        "scene": {
         "domain": {
          "x": [
           0,
           1
          ],
          "y": [
           0,
           1
          ]
         },
         "xaxis": {
          "title": {
           "text": "autocorr"
          }
         },
         "yaxis": {
          "title": {
           "text": "max_zscore"
          }
         },
         "zaxis": {
          "title": {
           "text": "mean"
          }
         }
        },
        "template": {
         "data": {
          "bar": [
           {
            "error_x": {
             "color": "#2a3f5f"
            },
            "error_y": {
             "color": "#2a3f5f"
            },
            "marker": {
             "line": {
              "color": "#E5ECF6",
              "width": 0.5
             },
             "pattern": {
              "fillmode": "overlay",
              "size": 10,
              "solidity": 0.2
             }
            },
            "type": "bar"
           }
          ],
          "barpolar": [
           {
            "marker": {
             "line": {
              "color": "#E5ECF6",
              "width": 0.5
             },
             "pattern": {
              "fillmode": "overlay",
              "size": 10,
              "solidity": 0.2
             }
            },
            "type": "barpolar"
           }
          ],
          "carpet": [
           {
            "aaxis": {
             "endlinecolor": "#2a3f5f",
             "gridcolor": "white",
             "linecolor": "white",
             "minorgridcolor": "white",
             "startlinecolor": "#2a3f5f"
            },
            "baxis": {
             "endlinecolor": "#2a3f5f",
             "gridcolor": "white",
             "linecolor": "white",
             "minorgridcolor": "white",
             "startlinecolor": "#2a3f5f"
            },
            "type": "carpet"
           }
          ],
          "choropleth": [
           {
            "colorbar": {
             "outlinewidth": 0,
             "ticks": ""
            },
            "type": "choropleth"
           }
          ],
          "contour": [
           {
            "colorbar": {
             "outlinewidth": 0,
             "ticks": ""
            },
            "colorscale": [
             [
              0,
              "#0d0887"
             ],
             [
              0.1111111111111111,
              "#46039f"
             ],
             [
              0.2222222222222222,
              "#7201a8"
             ],
             [
              0.3333333333333333,
              "#9c179e"
             ],
             [
              0.4444444444444444,
              "#bd3786"
             ],
             [
              0.5555555555555556,
              "#d8576b"
             ],
             [
              0.6666666666666666,
              "#ed7953"
             ],
             [
              0.7777777777777778,
              "#fb9f3a"
             ],
             [
              0.8888888888888888,
              "#fdca26"
             ],
             [
              1,
              "#f0f921"
             ]
            ],
            "type": "contour"
           }
          ],
          "contourcarpet": [
           {
            "colorbar": {
             "outlinewidth": 0,
             "ticks": ""
            },
            "type": "contourcarpet"
           }
          ],
          "heatmap": [
           {
            "colorbar": {
             "outlinewidth": 0,
             "ticks": ""
            },
            "colorscale": [
             [
              0,
              "#0d0887"
             ],
             [
              0.1111111111111111,
              "#46039f"
             ],
             [
              0.2222222222222222,
              "#7201a8"
             ],
             [
              0.3333333333333333,
              "#9c179e"
             ],
             [
              0.4444444444444444,
              "#bd3786"
             ],
             [
              0.5555555555555556,
              "#d8576b"
             ],
             [
              0.6666666666666666,
              "#ed7953"
             ],
             [
              0.7777777777777778,
              "#fb9f3a"
             ],
             [
              0.8888888888888888,
              "#fdca26"
             ],
             [
              1,
              "#f0f921"
             ]
            ],
            "type": "heatmap"
           }
          ],
          "heatmapgl": [
           {
            "colorbar": {
             "outlinewidth": 0,
             "ticks": ""
            },
            "colorscale": [
             [
              0,
              "#0d0887"
             ],
             [
              0.1111111111111111,
              "#46039f"
             ],
             [
              0.2222222222222222,
              "#7201a8"
             ],
             [
              0.3333333333333333,
              "#9c179e"
             ],
             [
              0.4444444444444444,
              "#bd3786"
             ],
             [
              0.5555555555555556,
              "#d8576b"
             ],
             [
              0.6666666666666666,
              "#ed7953"
             ],
             [
              0.7777777777777778,
              "#fb9f3a"
             ],
             [
              0.8888888888888888,
              "#fdca26"
             ],
             [
              1,
              "#f0f921"
             ]
            ],
            "type": "heatmapgl"
           }
          ],
          "histogram": [
           {
            "marker": {
             "pattern": {
              "fillmode": "overlay",
              "size": 10,
              "solidity": 0.2
             }
            },
            "type": "histogram"
           }
          ],
          "histogram2d": [
           {
            "colorbar": {
             "outlinewidth": 0,
             "ticks": ""
            },
            "colorscale": [
             [
              0,
              "#0d0887"
             ],
             [
              0.1111111111111111,
              "#46039f"
             ],
             [
              0.2222222222222222,
              "#7201a8"
             ],
             [
              0.3333333333333333,
              "#9c179e"
             ],
             [
              0.4444444444444444,
              "#bd3786"
             ],
             [
              0.5555555555555556,
              "#d8576b"
             ],
             [
              0.6666666666666666,
              "#ed7953"
             ],
             [
              0.7777777777777778,
              "#fb9f3a"
             ],
             [
              0.8888888888888888,
              "#fdca26"
             ],
             [
              1,
              "#f0f921"
             ]
            ],
            "type": "histogram2d"
           }
          ],
          "histogram2dcontour": [
           {
            "colorbar": {
             "outlinewidth": 0,
             "ticks": ""
            },
            "colorscale": [
             [
              0,
              "#0d0887"
             ],
             [
              0.1111111111111111,
              "#46039f"
             ],
             [
              0.2222222222222222,
              "#7201a8"
             ],
             [
              0.3333333333333333,
              "#9c179e"
             ],
             [
              0.4444444444444444,
              "#bd3786"
             ],
             [
              0.5555555555555556,
              "#d8576b"
             ],
             [
              0.6666666666666666,
              "#ed7953"
             ],
             [
              0.7777777777777778,
              "#fb9f3a"
             ],
             [
              0.8888888888888888,
              "#fdca26"
             ],
             [
              1,
              "#f0f921"
             ]
            ],
            "type": "histogram2dcontour"
           }
          ],
          "mesh3d": [
           {
            "colorbar": {
             "outlinewidth": 0,
             "ticks": ""
            },
            "type": "mesh3d"
           }
          ],
          "parcoords": [
           {
            "line": {
             "colorbar": {
              "outlinewidth": 0,
              "ticks": ""
             }
            },
            "type": "parcoords"
           }
          ],
          "pie": [
           {
            "automargin": true,
            "type": "pie"
           }
          ],
          "scatter": [
           {
            "fillpattern": {
             "fillmode": "overlay",
             "size": 10,
             "solidity": 0.2
            },
            "type": "scatter"
           }
          ],
          "scatter3d": [
           {
            "line": {
             "colorbar": {
              "outlinewidth": 0,
              "ticks": ""
             }
            },
            "marker": {
             "colorbar": {
              "outlinewidth": 0,
              "ticks": ""
             }
            },
            "type": "scatter3d"
           }
          ],
          "scattercarpet": [
           {
            "marker": {
             "colorbar": {
              "outlinewidth": 0,
              "ticks": ""
             }
            },
            "type": "scattercarpet"
           }
          ],
          "scattergeo": [
           {
            "marker": {
             "colorbar": {
              "outlinewidth": 0,
              "ticks": ""
             }
            },
            "type": "scattergeo"
           }
          ],
          "scattergl": [
           {
            "marker": {
             "colorbar": {
              "outlinewidth": 0,
              "ticks": ""
             }
            },
            "type": "scattergl"
           }
          ],
          "scattermapbox": [
           {
            "marker": {
             "colorbar": {
              "outlinewidth": 0,
              "ticks": ""
             }
            },
            "type": "scattermapbox"
           }
          ],
          "scatterpolar": [
           {
            "marker": {
             "colorbar": {
              "outlinewidth": 0,
              "ticks": ""
             }
            },
            "type": "scatterpolar"
           }
          ],
          "scatterpolargl": [
           {
            "marker": {
             "colorbar": {
              "outlinewidth": 0,
              "ticks": ""
             }
            },
            "type": "scatterpolargl"
           }
          ],
          "scatterternary": [
           {
            "marker": {
             "colorbar": {
              "outlinewidth": 0,
              "ticks": ""
             }
            },
            "type": "scatterternary"
           }
          ],
          "surface": [
           {
            "colorbar": {
             "outlinewidth": 0,
             "ticks": ""
            },
            "colorscale": [
             [
              0,
              "#0d0887"
             ],
             [
              0.1111111111111111,
              "#46039f"
             ],
             [
              0.2222222222222222,
              "#7201a8"
             ],
             [
              0.3333333333333333,
              "#9c179e"
             ],
             [
              0.4444444444444444,
              "#bd3786"
             ],
             [
              0.5555555555555556,
              "#d8576b"
             ],
             [
              0.6666666666666666,
              "#ed7953"
             ],
             [
              0.7777777777777778,
              "#fb9f3a"
             ],
             [
              0.8888888888888888,
              "#fdca26"
             ],
             [
              1,
              "#f0f921"
             ]
            ],
            "type": "surface"
           }
          ],
          "table": [
           {
            "cells": {
             "fill": {
              "color": "#EBF0F8"
             },
             "line": {
              "color": "white"
             }
            },
            "header": {
             "fill": {
              "color": "#C8D4E3"
             },
             "line": {
              "color": "white"
             }
            },
            "type": "table"
           }
          ]
         },
         "layout": {
          "annotationdefaults": {
           "arrowcolor": "#2a3f5f",
           "arrowhead": 0,
           "arrowwidth": 1
          },
          "autotypenumbers": "strict",
          "coloraxis": {
           "colorbar": {
            "outlinewidth": 0,
            "ticks": ""
           }
          },
          "colorscale": {
           "diverging": [
            [
             0,
             "#8e0152"
            ],
            [
             0.1,
             "#c51b7d"
            ],
            [
             0.2,
             "#de77ae"
            ],
            [
             0.3,
             "#f1b6da"
            ],
            [
             0.4,
             "#fde0ef"
            ],
            [
             0.5,
             "#f7f7f7"
            ],
            [
             0.6,
             "#e6f5d0"
            ],
            [
             0.7,
             "#b8e186"
            ],
            [
             0.8,
             "#7fbc41"
            ],
            [
             0.9,
             "#4d9221"
            ],
            [
             1,
             "#276419"
            ]
           ],
           "sequential": [
            [
             0,
             "#0d0887"
            ],
            [
             0.1111111111111111,
             "#46039f"
            ],
            [
             0.2222222222222222,
             "#7201a8"
            ],
            [
             0.3333333333333333,
             "#9c179e"
            ],
            [
             0.4444444444444444,
             "#bd3786"
            ],
            [
             0.5555555555555556,
             "#d8576b"
            ],
            [
             0.6666666666666666,
             "#ed7953"
            ],
            [
             0.7777777777777778,
             "#fb9f3a"
            ],
            [
             0.8888888888888888,
             "#fdca26"
            ],
            [
             1,
             "#f0f921"
            ]
           ],
           "sequentialminus": [
            [
             0,
             "#0d0887"
            ],
            [
             0.1111111111111111,
             "#46039f"
            ],
            [
             0.2222222222222222,
             "#7201a8"
            ],
            [
             0.3333333333333333,
             "#9c179e"
            ],
            [
             0.4444444444444444,
             "#bd3786"
            ],
            [
             0.5555555555555556,
             "#d8576b"
            ],
            [
             0.6666666666666666,
             "#ed7953"
            ],
            [
             0.7777777777777778,
             "#fb9f3a"
            ],
            [
             0.8888888888888888,
             "#fdca26"
            ],
            [
             1,
             "#f0f921"
            ]
           ]
          },
          "colorway": [
           "#636efa",
           "#EF553B",
           "#00cc96",
           "#ab63fa",
           "#FFA15A",
           "#19d3f3",
           "#FF6692",
           "#B6E880",
           "#FF97FF",
           "#FECB52"
          ],
          "font": {
           "color": "#2a3f5f"
          },
          "geo": {
           "bgcolor": "white",
           "lakecolor": "white",
           "landcolor": "#E5ECF6",
           "showlakes": true,
           "showland": true,
           "subunitcolor": "white"
          },
          "hoverlabel": {
           "align": "left"
          },
          "hovermode": "closest",
          "mapbox": {
           "style": "light"
          },
          "paper_bgcolor": "white",
          "plot_bgcolor": "#E5ECF6",
          "polar": {
           "angularaxis": {
            "gridcolor": "white",
            "linecolor": "white",
            "ticks": ""
           },
           "bgcolor": "#E5ECF6",
           "radialaxis": {
            "gridcolor": "white",
            "linecolor": "white",
            "ticks": ""
           }
          },
          "scene": {
           "xaxis": {
            "backgroundcolor": "#E5ECF6",
            "gridcolor": "white",
            "gridwidth": 2,
            "linecolor": "white",
            "showbackground": true,
            "ticks": "",
            "zerolinecolor": "white"
           },
           "yaxis": {
            "backgroundcolor": "#E5ECF6",
            "gridcolor": "white",
            "gridwidth": 2,
            "linecolor": "white",
            "showbackground": true,
            "ticks": "",
            "zerolinecolor": "white"
           },
           "zaxis": {
            "backgroundcolor": "#E5ECF6",
            "gridcolor": "white",
            "gridwidth": 2,
            "linecolor": "white",
            "showbackground": true,
            "ticks": "",
            "zerolinecolor": "white"
           }
          },
          "shapedefaults": {
           "line": {
            "color": "#2a3f5f"
           }
          },
          "ternary": {
           "aaxis": {
            "gridcolor": "white",
            "linecolor": "white",
            "ticks": ""
           },
           "baxis": {
            "gridcolor": "white",
            "linecolor": "white",
            "ticks": ""
           },
           "bgcolor": "#E5ECF6",
           "caxis": {
            "gridcolor": "white",
            "linecolor": "white",
            "ticks": ""
           }
          },
          "title": {
           "x": 0.05
          },
          "xaxis": {
           "automargin": true,
           "gridcolor": "white",
           "linecolor": "white",
           "ticks": "",
           "title": {
            "standoff": 15
           },
           "zerolinecolor": "white",
           "zerolinewidth": 2
          },
          "yaxis": {
           "automargin": true,
           "gridcolor": "white",
           "linecolor": "white",
           "ticks": "",
           "title": {
            "standoff": 15
           },
           "zerolinecolor": "white",
           "zerolinewidth": 2
          }
         }
        }
       }
      }
     },
     "metadata": {},
     "output_type": "display_data"
    }
   ],
   "source": [
    "plot_data(features, \"\")"
   ]
  },
  {
   "cell_type": "code",
   "execution_count": 68,
   "id": "08299d14",
   "metadata": {},
   "outputs": [],
   "source": [
    "def drop_rows_with_nan(df):\n",
    "    # The model can't handle NaN values so we drop them\n",
    "    df = df.dropna(axis=0, how=\"any\")\n",
    "    return df"
   ]
  },
  {
   "cell_type": "code",
   "execution_count": 69,
   "id": "5ca57688",
   "metadata": {},
   "outputs": [],
   "source": [
    "features = drop_rows_with_nan(features)"
   ]
  },
  {
   "cell_type": "code",
   "execution_count": 70,
   "id": "a259e70e",
   "metadata": {},
   "outputs": [],
   "source": [
    "\n",
    "# Appendig labels to features extracted from train data\n",
    "features = features.merge(train_labels_df, left_on=\"topic\", right_index=True)"
   ]
  },
  {
   "cell_type": "code",
   "execution_count": 71,
   "id": "6e3d8c97",
   "metadata": {},
   "outputs": [],
   "source": [
    "def remove_minus_one_label(features):\n",
    "    # remove -1 labels, which are not used to train the model\n",
    "    minus = features[features[\"class\"] == -1]\n",
    "    features = features[features[\"class\"] != -1]\n",
    "    return features, minus"
   ]
  },
  {
   "cell_type": "code",
   "execution_count": 72,
   "id": "95c5869a",
   "metadata": {},
   "outputs": [],
   "source": [
    "features, minus = remove_minus_one_label(features)"
   ]
  },
  {
   "cell_type": "code",
   "execution_count": 73,
   "id": "0975528d",
   "metadata": {},
   "outputs": [
    {
     "data": {
      "application/vnd.plotly.v1+json": {
       "config": {
        "plotlyServerURL": "https://plot.ly"
       },
       "data": [
        {
         "hovertemplate": "autocorr=%{x}<br>max_zscore=%{y}<br>mean=%{z}<br>topic=%{text}<br>class=%{marker.color}<extra></extra>",
         "legendgroup": "",
         "marker": {
          "color": [
           2,
           2,
           3,
           2,
           2,
           2,
           0,
           2,
           2,
           2,
           0,
           1,
           0,
           0,
           2,
           0,
           0,
           3,
           0,
           3,
           1,
           0,
           2,
           2,
           3,
           3,
           2,
           2,
           0,
           0,
           2,
           0,
           0,
           3,
           0,
           0,
           1,
           1,
           2,
           2,
           0,
           2,
           3,
           1,
           2,
           1,
           0,
           2,
           3,
           1,
           1,
           0,
           1,
           2
          ],
          "coloraxis": "coloraxis",
          "symbol": "circle"
         },
         "mode": "markers+text",
         "name": "",
         "scene": "scene",
         "showlegend": false,
         "text": [
          "long sleeve",
          "culottes",
          "printed",
          "sleeveless",
          "long cardigan",
          "short coat",
          "long dress",
          "shorts",
          "long coat",
          "tracksuit",
          "patterned",
          "medium cardigan",
          "shirt dress",
          "maxi",
          "capris",
          "yellow",
          "blue",
          "red",
          "white",
          "violet",
          "scuba crepe",
          "tulle",
          "angora",
          "faux leather",
          "georgette",
          "nice",
          "fur",
          "velvet",
          "lace",
          "cotton",
          "plush",
          "jacquard",
          "technical",
          "cady",
          "light jeans",
          "ity",
          "plumetis",
          "dainetto",
          "chanel",
          "macrame",
          "nylon",
          "tencel",
          "paillettes",
          "chambree",
          "linen",
          "viscose twill",
          "cloth",
          "mohair",
          "scottish",
          "milano stitch",
          "hron",
          "fluid",
          "shiny jersey",
          "goose"
         ],
         "type": "scatter3d",
         "x": [
          0.9298611724804887,
          0.6613660007806006,
          0.298442424750122,
          0.7620941240213782,
          0.6905695200822007,
          0.7486022605174714,
          0.5971238479646657,
          0.9298400552826617,
          0.9420182419257397,
          0.8925937734107053,
          0.09515463644787839,
          0.1586404252832477,
          0.6565685536039892,
          0.6862148537331709,
          0.8584278142192203,
          0.642884611847801,
          0.34750388591127257,
          -0.09114545714879381,
          0.29169922671951226,
          0.073951858316279,
          0.20732296713597612,
          0.4693713018453027,
          0.5875054265557288,
          0.898740641025977,
          0.03488980588011447,
          0.23255738086397185,
          0.9366979084534217,
          0.6679861606156353,
          0.6061981573005643,
          0.7223749722421382,
          0.8597527267178466,
          0.5260221570545086,
          0.5019783814250021,
          0.2610325434516827,
          0.150488334627393,
          0.1193621845077577,
          0.10891185635268856,
          0.00835203883296115,
          0.6816644769370491,
          0.8482853171946573,
          0.28685883058026773,
          0.700849187283031,
          0.467352360874991,
          -0.08810018720743171,
          0.9002135483544779,
          -0.007252662270541094,
          0.3300838360511106,
          0.8060491155596852,
          0.41205785416351803,
          -0.04807487383255959,
          0.16367391474507365,
          0.6232953882149986,
          0.14618990668276952,
          0.8772985908438541
         ],
         "y": [
          2.756128865393022,
          3.2451054351486897,
          7.140429096803359,
          2.670455239273934,
          2.615221149178668,
          2.7788996844516984,
          2.5117697237664034,
          2.7289624941136466,
          3.0070155730860586,
          3.4197676833511323,
          2.848250343958995,
          5.231713803059874,
          2.227979281838844,
          4.0797764101235545,
          3.3012117170560806,
          2.1467134710193405,
          3.950168623858017,
          7.993083124915215,
          5.460539141904274,
          6.7399821949575935,
          3.9421252684322337,
          3.822084440001444,
          3.03100589747612,
          3.402924925129823,
          7.7805556030623535,
          14.029583129651582,
          2.657006281755613,
          4.069747764807753,
          4.117614808409438,
          2.9975901831340783,
          5.334592500562475,
          2.8395262477192147,
          2.5410127199411017,
          11.994542163398945,
          2.6899866487892456,
          2.622479856472995,
          5.238598796072543,
          3.8965333404427267,
          4.110308893586478,
          2.6105503191745,
          4.940027673568129,
          2.3723003444531496,
          6.791411072180704,
          3.463455211376286,
          2.2876862106205658,
          3.9527342053054975,
          3.1236437056671744,
          2.681081951246395,
          6.041412290769715,
          4.646342599960431,
          4.262084411517447,
          3.0553702018414475,
          4.114390750058018,
          5.171748435191733
         ],
         "z": [
          0.5924545454545455,
          0.5729545454545455,
          0.658590909090909,
          0.7109545454545454,
          0.6045,
          0.47027272727272723,
          0.7818636363636363,
          0.539,
          0.3882727272727272,
          0.45322727272727276,
          0.7916363636363638,
          0.14859090909090908,
          0.8110545454545454,
          0.7402272727272727,
          0.43836363636363634,
          0.8588636363636365,
          0.7752727272727273,
          0.5974999999999999,
          0.8164545454545454,
          0.5840909090909091,
          0.1884090909090909,
          0.7218636363636364,
          0.5789545454545455,
          0.49272727272727274,
          0.34263636363636363,
          0.19518181818181818,
          0.5530454545454545,
          0.5843636363636364,
          0.7187727272727272,
          0.7892727272727272,
          0.4571363636363636,
          0.7320454545454546,
          0.780818181818182,
          0.23863636363636365,
          0.7263181818181819,
          0.7458181818181817,
          0.27454545454545454,
          0.0726818181818182,
          0.6815,
          0.6741363636363636,
          0.7726818181818182,
          0.5903181818181819,
          0.20604545454545453,
          0.188,
          0.7346818181818182,
          0.12581818181818183,
          0.881409090909091,
          0.5824545454545456,
          0.6214999999999999,
          0.10754545454545457,
          0.20281818181818184,
          0.8412727272727272,
          0.13945454545454544,
          0.37386363636363634
         ]
        }
       ],
       "layout": {
        "coloraxis": {
         "colorbar": {
          "title": {
           "text": "class"
          }
         },
         "colorscale": [
          [
           0,
           "#0d0887"
          ],
          [
           0.1111111111111111,
           "#46039f"
          ],
          [
           0.2222222222222222,
           "#7201a8"
          ],
          [
           0.3333333333333333,
           "#9c179e"
          ],
          [
           0.4444444444444444,
           "#bd3786"
          ],
          [
           0.5555555555555556,
           "#d8576b"
          ],
          [
           0.6666666666666666,
           "#ed7953"
          ],
          [
           0.7777777777777778,
           "#fb9f3a"
          ],
          [
           0.8888888888888888,
           "#fdca26"
          ],
          [
           1,
           "#f0f921"
          ]
         ]
        },
        "legend": {
         "tracegroupgap": 0
        },
        "margin": {
         "t": 60
        },
        "scene": {
         "domain": {
          "x": [
           0,
           1
          ],
          "y": [
           0,
           1
          ]
         },
         "xaxis": {
          "title": {
           "text": "autocorr"
          }
         },
         "yaxis": {
          "title": {
           "text": "max_zscore"
          }
         },
         "zaxis": {
          "title": {
           "text": "mean"
          }
         }
        },
        "template": {
         "data": {
          "bar": [
           {
            "error_x": {
             "color": "#2a3f5f"
            },
            "error_y": {
             "color": "#2a3f5f"
            },
            "marker": {
             "line": {
              "color": "#E5ECF6",
              "width": 0.5
             },
             "pattern": {
              "fillmode": "overlay",
              "size": 10,
              "solidity": 0.2
             }
            },
            "type": "bar"
           }
          ],
          "barpolar": [
           {
            "marker": {
             "line": {
              "color": "#E5ECF6",
              "width": 0.5
             },
             "pattern": {
              "fillmode": "overlay",
              "size": 10,
              "solidity": 0.2
             }
            },
            "type": "barpolar"
           }
          ],
          "carpet": [
           {
            "aaxis": {
             "endlinecolor": "#2a3f5f",
             "gridcolor": "white",
             "linecolor": "white",
             "minorgridcolor": "white",
             "startlinecolor": "#2a3f5f"
            },
            "baxis": {
             "endlinecolor": "#2a3f5f",
             "gridcolor": "white",
             "linecolor": "white",
             "minorgridcolor": "white",
             "startlinecolor": "#2a3f5f"
            },
            "type": "carpet"
           }
          ],
          "choropleth": [
           {
            "colorbar": {
             "outlinewidth": 0,
             "ticks": ""
            },
            "type": "choropleth"
           }
          ],
          "contour": [
           {
            "colorbar": {
             "outlinewidth": 0,
             "ticks": ""
            },
            "colorscale": [
             [
              0,
              "#0d0887"
             ],
             [
              0.1111111111111111,
              "#46039f"
             ],
             [
              0.2222222222222222,
              "#7201a8"
             ],
             [
              0.3333333333333333,
              "#9c179e"
             ],
             [
              0.4444444444444444,
              "#bd3786"
             ],
             [
              0.5555555555555556,
              "#d8576b"
             ],
             [
              0.6666666666666666,
              "#ed7953"
             ],
             [
              0.7777777777777778,
              "#fb9f3a"
             ],
             [
              0.8888888888888888,
              "#fdca26"
             ],
             [
              1,
              "#f0f921"
             ]
            ],
            "type": "contour"
           }
          ],
          "contourcarpet": [
           {
            "colorbar": {
             "outlinewidth": 0,
             "ticks": ""
            },
            "type": "contourcarpet"
           }
          ],
          "heatmap": [
           {
            "colorbar": {
             "outlinewidth": 0,
             "ticks": ""
            },
            "colorscale": [
             [
              0,
              "#0d0887"
             ],
             [
              0.1111111111111111,
              "#46039f"
             ],
             [
              0.2222222222222222,
              "#7201a8"
             ],
             [
              0.3333333333333333,
              "#9c179e"
             ],
             [
              0.4444444444444444,
              "#bd3786"
             ],
             [
              0.5555555555555556,
              "#d8576b"
             ],
             [
              0.6666666666666666,
              "#ed7953"
             ],
             [
              0.7777777777777778,
              "#fb9f3a"
             ],
             [
              0.8888888888888888,
              "#fdca26"
             ],
             [
              1,
              "#f0f921"
             ]
            ],
            "type": "heatmap"
           }
          ],
          "heatmapgl": [
           {
            "colorbar": {
             "outlinewidth": 0,
             "ticks": ""
            },
            "colorscale": [
             [
              0,
              "#0d0887"
             ],
             [
              0.1111111111111111,
              "#46039f"
             ],
             [
              0.2222222222222222,
              "#7201a8"
             ],
             [
              0.3333333333333333,
              "#9c179e"
             ],
             [
              0.4444444444444444,
              "#bd3786"
             ],
             [
              0.5555555555555556,
              "#d8576b"
             ],
             [
              0.6666666666666666,
              "#ed7953"
             ],
             [
              0.7777777777777778,
              "#fb9f3a"
             ],
             [
              0.8888888888888888,
              "#fdca26"
             ],
             [
              1,
              "#f0f921"
             ]
            ],
            "type": "heatmapgl"
           }
          ],
          "histogram": [
           {
            "marker": {
             "pattern": {
              "fillmode": "overlay",
              "size": 10,
              "solidity": 0.2
             }
            },
            "type": "histogram"
           }
          ],
          "histogram2d": [
           {
            "colorbar": {
             "outlinewidth": 0,
             "ticks": ""
            },
            "colorscale": [
             [
              0,
              "#0d0887"
             ],
             [
              0.1111111111111111,
              "#46039f"
             ],
             [
              0.2222222222222222,
              "#7201a8"
             ],
             [
              0.3333333333333333,
              "#9c179e"
             ],
             [
              0.4444444444444444,
              "#bd3786"
             ],
             [
              0.5555555555555556,
              "#d8576b"
             ],
             [
              0.6666666666666666,
              "#ed7953"
             ],
             [
              0.7777777777777778,
              "#fb9f3a"
             ],
             [
              0.8888888888888888,
              "#fdca26"
             ],
             [
              1,
              "#f0f921"
             ]
            ],
            "type": "histogram2d"
           }
          ],
          "histogram2dcontour": [
           {
            "colorbar": {
             "outlinewidth": 0,
             "ticks": ""
            },
            "colorscale": [
             [
              0,
              "#0d0887"
             ],
             [
              0.1111111111111111,
              "#46039f"
             ],
             [
              0.2222222222222222,
              "#7201a8"
             ],
             [
              0.3333333333333333,
              "#9c179e"
             ],
             [
              0.4444444444444444,
              "#bd3786"
             ],
             [
              0.5555555555555556,
              "#d8576b"
             ],
             [
              0.6666666666666666,
              "#ed7953"
             ],
             [
              0.7777777777777778,
              "#fb9f3a"
             ],
             [
              0.8888888888888888,
              "#fdca26"
             ],
             [
              1,
              "#f0f921"
             ]
            ],
            "type": "histogram2dcontour"
           }
          ],
          "mesh3d": [
           {
            "colorbar": {
             "outlinewidth": 0,
             "ticks": ""
            },
            "type": "mesh3d"
           }
          ],
          "parcoords": [
           {
            "line": {
             "colorbar": {
              "outlinewidth": 0,
              "ticks": ""
             }
            },
            "type": "parcoords"
           }
          ],
          "pie": [
           {
            "automargin": true,
            "type": "pie"
           }
          ],
          "scatter": [
           {
            "fillpattern": {
             "fillmode": "overlay",
             "size": 10,
             "solidity": 0.2
            },
            "type": "scatter"
           }
          ],
          "scatter3d": [
           {
            "line": {
             "colorbar": {
              "outlinewidth": 0,
              "ticks": ""
             }
            },
            "marker": {
             "colorbar": {
              "outlinewidth": 0,
              "ticks": ""
             }
            },
            "type": "scatter3d"
           }
          ],
          "scattercarpet": [
           {
            "marker": {
             "colorbar": {
              "outlinewidth": 0,
              "ticks": ""
             }
            },
            "type": "scattercarpet"
           }
          ],
          "scattergeo": [
           {
            "marker": {
             "colorbar": {
              "outlinewidth": 0,
              "ticks": ""
             }
            },
            "type": "scattergeo"
           }
          ],
          "scattergl": [
           {
            "marker": {
             "colorbar": {
              "outlinewidth": 0,
              "ticks": ""
             }
            },
            "type": "scattergl"
           }
          ],
          "scattermapbox": [
           {
            "marker": {
             "colorbar": {
              "outlinewidth": 0,
              "ticks": ""
             }
            },
            "type": "scattermapbox"
           }
          ],
          "scatterpolar": [
           {
            "marker": {
             "colorbar": {
              "outlinewidth": 0,
              "ticks": ""
             }
            },
            "type": "scatterpolar"
           }
          ],
          "scatterpolargl": [
           {
            "marker": {
             "colorbar": {
              "outlinewidth": 0,
              "ticks": ""
             }
            },
            "type": "scatterpolargl"
           }
          ],
          "scatterternary": [
           {
            "marker": {
             "colorbar": {
              "outlinewidth": 0,
              "ticks": ""
             }
            },
            "type": "scatterternary"
           }
          ],
          "surface": [
           {
            "colorbar": {
             "outlinewidth": 0,
             "ticks": ""
            },
            "colorscale": [
             [
              0,
              "#0d0887"
             ],
             [
              0.1111111111111111,
              "#46039f"
             ],
             [
              0.2222222222222222,
              "#7201a8"
             ],
             [
              0.3333333333333333,
              "#9c179e"
             ],
             [
              0.4444444444444444,
              "#bd3786"
             ],
             [
              0.5555555555555556,
              "#d8576b"
             ],
             [
              0.6666666666666666,
              "#ed7953"
             ],
             [
              0.7777777777777778,
              "#fb9f3a"
             ],
             [
              0.8888888888888888,
              "#fdca26"
             ],
             [
              1,
              "#f0f921"
             ]
            ],
            "type": "surface"
           }
          ],
          "table": [
           {
            "cells": {
             "fill": {
              "color": "#EBF0F8"
             },
             "line": {
              "color": "white"
             }
            },
            "header": {
             "fill": {
              "color": "#C8D4E3"
             },
             "line": {
              "color": "white"
             }
            },
            "type": "table"
           }
          ]
         },
         "layout": {
          "annotationdefaults": {
           "arrowcolor": "#2a3f5f",
           "arrowhead": 0,
           "arrowwidth": 1
          },
          "autotypenumbers": "strict",
          "coloraxis": {
           "colorbar": {
            "outlinewidth": 0,
            "ticks": ""
           }
          },
          "colorscale": {
           "diverging": [
            [
             0,
             "#8e0152"
            ],
            [
             0.1,
             "#c51b7d"
            ],
            [
             0.2,
             "#de77ae"
            ],
            [
             0.3,
             "#f1b6da"
            ],
            [
             0.4,
             "#fde0ef"
            ],
            [
             0.5,
             "#f7f7f7"
            ],
            [
             0.6,
             "#e6f5d0"
            ],
            [
             0.7,
             "#b8e186"
            ],
            [
             0.8,
             "#7fbc41"
            ],
            [
             0.9,
             "#4d9221"
            ],
            [
             1,
             "#276419"
            ]
           ],
           "sequential": [
            [
             0,
             "#0d0887"
            ],
            [
             0.1111111111111111,
             "#46039f"
            ],
            [
             0.2222222222222222,
             "#7201a8"
            ],
            [
             0.3333333333333333,
             "#9c179e"
            ],
            [
             0.4444444444444444,
             "#bd3786"
            ],
            [
             0.5555555555555556,
             "#d8576b"
            ],
            [
             0.6666666666666666,
             "#ed7953"
            ],
            [
             0.7777777777777778,
             "#fb9f3a"
            ],
            [
             0.8888888888888888,
             "#fdca26"
            ],
            [
             1,
             "#f0f921"
            ]
           ],
           "sequentialminus": [
            [
             0,
             "#0d0887"
            ],
            [
             0.1111111111111111,
             "#46039f"
            ],
            [
             0.2222222222222222,
             "#7201a8"
            ],
            [
             0.3333333333333333,
             "#9c179e"
            ],
            [
             0.4444444444444444,
             "#bd3786"
            ],
            [
             0.5555555555555556,
             "#d8576b"
            ],
            [
             0.6666666666666666,
             "#ed7953"
            ],
            [
             0.7777777777777778,
             "#fb9f3a"
            ],
            [
             0.8888888888888888,
             "#fdca26"
            ],
            [
             1,
             "#f0f921"
            ]
           ]
          },
          "colorway": [
           "#636efa",
           "#EF553B",
           "#00cc96",
           "#ab63fa",
           "#FFA15A",
           "#19d3f3",
           "#FF6692",
           "#B6E880",
           "#FF97FF",
           "#FECB52"
          ],
          "font": {
           "color": "#2a3f5f"
          },
          "geo": {
           "bgcolor": "white",
           "lakecolor": "white",
           "landcolor": "#E5ECF6",
           "showlakes": true,
           "showland": true,
           "subunitcolor": "white"
          },
          "hoverlabel": {
           "align": "left"
          },
          "hovermode": "closest",
          "mapbox": {
           "style": "light"
          },
          "paper_bgcolor": "white",
          "plot_bgcolor": "#E5ECF6",
          "polar": {
           "angularaxis": {
            "gridcolor": "white",
            "linecolor": "white",
            "ticks": ""
           },
           "bgcolor": "#E5ECF6",
           "radialaxis": {
            "gridcolor": "white",
            "linecolor": "white",
            "ticks": ""
           }
          },
          "scene": {
           "xaxis": {
            "backgroundcolor": "#E5ECF6",
            "gridcolor": "white",
            "gridwidth": 2,
            "linecolor": "white",
            "showbackground": true,
            "ticks": "",
            "zerolinecolor": "white"
           },
           "yaxis": {
            "backgroundcolor": "#E5ECF6",
            "gridcolor": "white",
            "gridwidth": 2,
            "linecolor": "white",
            "showbackground": true,
            "ticks": "",
            "zerolinecolor": "white"
           },
           "zaxis": {
            "backgroundcolor": "#E5ECF6",
            "gridcolor": "white",
            "gridwidth": 2,
            "linecolor": "white",
            "showbackground": true,
            "ticks": "",
            "zerolinecolor": "white"
           }
          },
          "shapedefaults": {
           "line": {
            "color": "#2a3f5f"
           }
          },
          "ternary": {
           "aaxis": {
            "gridcolor": "white",
            "linecolor": "white",
            "ticks": ""
           },
           "baxis": {
            "gridcolor": "white",
            "linecolor": "white",
            "ticks": ""
           },
           "bgcolor": "#E5ECF6",
           "caxis": {
            "gridcolor": "white",
            "linecolor": "white",
            "ticks": ""
           }
          },
          "title": {
           "x": 0.05
          },
          "xaxis": {
           "automargin": true,
           "gridcolor": "white",
           "linecolor": "white",
           "ticks": "",
           "title": {
            "standoff": 15
           },
           "zerolinecolor": "white",
           "zerolinewidth": 2
          },
          "yaxis": {
           "automargin": true,
           "gridcolor": "white",
           "linecolor": "white",
           "ticks": "",
           "title": {
            "standoff": 15
           },
           "zerolinecolor": "white",
           "zerolinewidth": 2
          }
         }
        }
       }
      }
     },
     "metadata": {},
     "output_type": "display_data"
    }
   ],
   "source": [
    "plot_data(features, \"class\")"
   ]
  },
  {
   "attachments": {},
   "cell_type": "markdown",
   "id": "adcf2f51",
   "metadata": {},
   "source": [
    "# Model training"
   ]
  },
  {
   "cell_type": "code",
   "execution_count": 74,
   "id": "a7571222",
   "metadata": {},
   "outputs": [],
   "source": [
    "def create_svm_model(features):\n",
    "    # Creating a training a SVM model with linear kernel\n",
    "    X = features[[\"max_zscore\", \"autocorr\", \"mean\"]]\n",
    "    Y = features[\"class\"]\n",
    "    clf = svm.SVC(kernel=\"linear\").fit(X, Y)\n",
    "    #print(\"Support vectors: \", clf.support_vectors_)\n",
    "    print(\"Intercept: \", clf.intercept_)\n",
    "    #print(\"Number of support vectors for each class: \", clf.n_support_)\n",
    "    print(\"Coefficients of separating hyperplanes: \", clf.coef_)\n",
    "    return clf"
   ]
  },
  {
   "cell_type": "code",
   "execution_count": 75,
   "id": "9a509c39",
   "metadata": {},
   "outputs": [
    {
     "name": "stdout",
     "output_type": "stream",
     "text": [
      "Intercept:  [-0.58514926 -0.41882322  6.22055968  0.73283403  7.43921992  6.29679827]\n",
      "Coefficients of separating hyperplanes:  [[-0.22967964  0.97472781  2.77785143]\n",
      " [ 0.07720841 -2.238815    2.1740481 ]\n",
      " [-1.09218307 -0.05987852  0.24852723]\n",
      " [ 0.15628067 -2.34686884 -1.20051904]\n",
      " [-1.20910459 -0.28440432 -0.46023121]\n",
      " [-1.10849616  0.54936155 -0.12274472]]\n"
     ]
    }
   ],
   "source": [
    "svm_model = create_svm_model(features)"
   ]
  },
  {
   "attachments": {},
   "cell_type": "markdown",
   "id": "b669d2dc",
   "metadata": {},
   "source": [
    "# Plotting the separation plane of the SVM\n",
    "The smv model of scikit-learn gives back the coefficients to calculate the equation of the separating hyperplane.\n",
    "\n",
    "The equation of the separating hyperplane is :\n",
    "$ f(x,y) = w_0 + w_1x + w_2y $.\n",
    "\n",
    "Where $ w_0 $ is the intercept_ and $ w_1 $ and $ w_2 $ are the coef_."
   ]
  },
  {
   "cell_type": "code",
   "execution_count": 76,
   "id": "212b017c",
   "metadata": {},
   "outputs": [],
   "source": [
    "def plot_svm_nth_separation_plane(features, svm_model, plane_number):\n",
    "    # plot features\n",
    "    fig = px.scatter_3d(\n",
    "        features,\n",
    "        x=\"max_zscore\",\n",
    "        y=\"autocorr\",\n",
    "        z=\"mean\",\n",
    "        text=\"topic\",\n",
    "        color=\"class\",\n",
    "    )\n",
    "    # plot nth separation plane\n",
    "    x_min, x_max = (\n",
    "        features[\"max_zscore\"].min(),\n",
    "        features[\"max_zscore\"].max(),\n",
    "    )\n",
    "    y_min, y_max = (\n",
    "        features[\"autocorr\"].min(),\n",
    "        features[\"autocorr\"].max(),\n",
    "    )\n",
    "    x, y = np.meshgrid(np.arange(x_min, x_max, 0.1), np.arange(y_min, y_max, 0.1))\n",
    "    z = (\n",
    "        lambda x, y: (\n",
    "            -svm_model.intercept_[plane_number]\n",
    "            - svm_model.coef_[plane_number][0] * x\n",
    "            - svm_model.coef_[plane_number][1] * y\n",
    "        )\n",
    "        / svm_model.coef_[plane_number][2]\n",
    "    )\n",
    "    fig.add_traces(\n",
    "        go.Surface(\n",
    "            x=x,\n",
    "            y=y,\n",
    "            z=z(x, y),\n",
    "            showscale=False,\n",
    "            opacity=0.5,\n",
    "            colorscale=\"Blues\",\n",
    "            name=\"SVM separation plane\",\n",
    "        )\n",
    "    )\n",
    "    fig.show()"
   ]
  },
  {
   "cell_type": "code",
   "execution_count": 77,
   "id": "4d64c9d7",
   "metadata": {},
   "outputs": [
    {
     "data": {
      "application/vnd.plotly.v1+json": {
       "config": {
        "plotlyServerURL": "https://plot.ly"
       },
       "data": [
        {
         "hovertemplate": "max_zscore=%{x}<br>autocorr=%{y}<br>mean=%{z}<br>topic=%{text}<br>class=%{marker.color}<extra></extra>",
         "legendgroup": "",
         "marker": {
          "color": [
           2,
           2,
           3,
           2,
           2,
           2,
           0,
           2,
           2,
           2,
           0,
           1,
           0,
           0,
           2,
           0,
           0,
           3,
           0,
           3,
           1,
           0,
           2,
           2,
           3,
           3,
           2,
           2,
           0,
           0,
           2,
           0,
           0,
           3,
           0,
           0,
           1,
           1,
           2,
           2,
           0,
           2,
           3,
           1,
           2,
           1,
           0,
           2,
           3,
           1,
           1,
           0,
           1,
           2
          ],
          "coloraxis": "coloraxis",
          "symbol": "circle"
         },
         "mode": "markers+text",
         "name": "",
         "scene": "scene",
         "showlegend": false,
         "text": [
          "long sleeve",
          "culottes",
          "printed",
          "sleeveless",
          "long cardigan",
          "short coat",
          "long dress",
          "shorts",
          "long coat",
          "tracksuit",
          "patterned",
          "medium cardigan",
          "shirt dress",
          "maxi",
          "capris",
          "yellow",
          "blue",
          "red",
          "white",
          "violet",
          "scuba crepe",
          "tulle",
          "angora",
          "faux leather",
          "georgette",
          "nice",
          "fur",
          "velvet",
          "lace",
          "cotton",
          "plush",
          "jacquard",
          "technical",
          "cady",
          "light jeans",
          "ity",
          "plumetis",
          "dainetto",
          "chanel",
          "macrame",
          "nylon",
          "tencel",
          "paillettes",
          "chambree",
          "linen",
          "viscose twill",
          "cloth",
          "mohair",
          "scottish",
          "milano stitch",
          "hron",
          "fluid",
          "shiny jersey",
          "goose"
         ],
         "type": "scatter3d",
         "x": [
          2.756128865393022,
          3.2451054351486897,
          7.140429096803359,
          2.670455239273934,
          2.615221149178668,
          2.7788996844516984,
          2.5117697237664034,
          2.7289624941136466,
          3.0070155730860586,
          3.4197676833511323,
          2.848250343958995,
          5.231713803059874,
          2.227979281838844,
          4.0797764101235545,
          3.3012117170560806,
          2.1467134710193405,
          3.950168623858017,
          7.993083124915215,
          5.460539141904274,
          6.7399821949575935,
          3.9421252684322337,
          3.822084440001444,
          3.03100589747612,
          3.402924925129823,
          7.7805556030623535,
          14.029583129651582,
          2.657006281755613,
          4.069747764807753,
          4.117614808409438,
          2.9975901831340783,
          5.334592500562475,
          2.8395262477192147,
          2.5410127199411017,
          11.994542163398945,
          2.6899866487892456,
          2.622479856472995,
          5.238598796072543,
          3.8965333404427267,
          4.110308893586478,
          2.6105503191745,
          4.940027673568129,
          2.3723003444531496,
          6.791411072180704,
          3.463455211376286,
          2.2876862106205658,
          3.9527342053054975,
          3.1236437056671744,
          2.681081951246395,
          6.041412290769715,
          4.646342599960431,
          4.262084411517447,
          3.0553702018414475,
          4.114390750058018,
          5.171748435191733
         ],
         "y": [
          0.9298611724804887,
          0.6613660007806006,
          0.298442424750122,
          0.7620941240213782,
          0.6905695200822007,
          0.7486022605174714,
          0.5971238479646657,
          0.9298400552826617,
          0.9420182419257397,
          0.8925937734107053,
          0.09515463644787839,
          0.1586404252832477,
          0.6565685536039892,
          0.6862148537331709,
          0.8584278142192203,
          0.642884611847801,
          0.34750388591127257,
          -0.09114545714879381,
          0.29169922671951226,
          0.073951858316279,
          0.20732296713597612,
          0.4693713018453027,
          0.5875054265557288,
          0.898740641025977,
          0.03488980588011447,
          0.23255738086397185,
          0.9366979084534217,
          0.6679861606156353,
          0.6061981573005643,
          0.7223749722421382,
          0.8597527267178466,
          0.5260221570545086,
          0.5019783814250021,
          0.2610325434516827,
          0.150488334627393,
          0.1193621845077577,
          0.10891185635268856,
          0.00835203883296115,
          0.6816644769370491,
          0.8482853171946573,
          0.28685883058026773,
          0.700849187283031,
          0.467352360874991,
          -0.08810018720743171,
          0.9002135483544779,
          -0.007252662270541094,
          0.3300838360511106,
          0.8060491155596852,
          0.41205785416351803,
          -0.04807487383255959,
          0.16367391474507365,
          0.6232953882149986,
          0.14618990668276952,
          0.8772985908438541
         ],
         "z": [
          0.5924545454545455,
          0.5729545454545455,
          0.658590909090909,
          0.7109545454545454,
          0.6045,
          0.47027272727272723,
          0.7818636363636363,
          0.539,
          0.3882727272727272,
          0.45322727272727276,
          0.7916363636363638,
          0.14859090909090908,
          0.8110545454545454,
          0.7402272727272727,
          0.43836363636363634,
          0.8588636363636365,
          0.7752727272727273,
          0.5974999999999999,
          0.8164545454545454,
          0.5840909090909091,
          0.1884090909090909,
          0.7218636363636364,
          0.5789545454545455,
          0.49272727272727274,
          0.34263636363636363,
          0.19518181818181818,
          0.5530454545454545,
          0.5843636363636364,
          0.7187727272727272,
          0.7892727272727272,
          0.4571363636363636,
          0.7320454545454546,
          0.780818181818182,
          0.23863636363636365,
          0.7263181818181819,
          0.7458181818181817,
          0.27454545454545454,
          0.0726818181818182,
          0.6815,
          0.6741363636363636,
          0.7726818181818182,
          0.5903181818181819,
          0.20604545454545453,
          0.188,
          0.7346818181818182,
          0.12581818181818183,
          0.881409090909091,
          0.5824545454545456,
          0.6214999999999999,
          0.10754545454545457,
          0.20281818181818184,
          0.8412727272727272,
          0.13945454545454544,
          0.37386363636363634
         ]
        },
        {
         "colorscale": [
          [
           0,
           "rgb(247,251,255)"
          ],
          [
           0.125,
           "rgb(222,235,247)"
          ],
          [
           0.25,
           "rgb(198,219,239)"
          ],
          [
           0.375,
           "rgb(158,202,225)"
          ],
          [
           0.5,
           "rgb(107,174,214)"
          ],
          [
           0.625,
           "rgb(66,146,198)"
          ],
          [
           0.75,
           "rgb(33,113,181)"
          ],
          [
           0.875,
           "rgb(8,81,156)"
          ],
          [
           1,
           "rgb(8,48,107)"
          ]
         ],
         "name": "SVM separation plane",
         "opacity": 0.5,
         "showscale": false,
         "type": "surface",
         "x": [
          [
           2.1467134710193405,
           2.2467134710193406,
           2.3467134710193407,
           2.446713471019341,
           2.546713471019341,
           2.646713471019341,
           2.746713471019341,
           2.846713471019341,
           2.9467134710193412,
           3.0467134710193413,
           3.1467134710193414,
           3.2467134710193415,
           3.3467134710193416,
           3.4467134710193417,
           3.5467134710193418,
           3.646713471019342,
           3.746713471019342,
           3.846713471019342,
           3.946713471019342,
           4.046713471019342,
           4.146713471019343,
           4.246713471019342,
           4.346713471019342,
           4.446713471019343,
           4.546713471019343,
           4.646713471019343,
           4.746713471019342,
           4.846713471019343,
           4.9467134710193434,
           5.046713471019343,
           5.146713471019343,
           5.246713471019343,
           5.346713471019344,
           5.4467134710193434,
           5.546713471019343,
           5.646713471019344,
           5.746713471019344,
           5.846713471019344,
           5.9467134710193434,
           6.046713471019344,
           6.1467134710193445,
           6.246713471019344,
           6.346713471019344,
           6.446713471019345,
           6.546713471019345,
           6.6467134710193445,
           6.746713471019344,
           6.846713471019346,
           6.946713471019345,
           7.046713471019345,
           7.1467134710193445,
           7.246713471019346,
           7.346713471019346,
           7.446713471019345,
           7.546713471019345,
           7.646713471019346,
           7.746713471019346,
           7.846713471019346,
           7.946713471019345,
           8.046713471019347,
           8.146713471019346,
           8.246713471019346,
           8.346713471019346,
           8.446713471019347,
           8.546713471019347,
           8.646713471019346,
           8.746713471019346,
           8.846713471019347,
           8.946713471019347,
           9.046713471019347,
           9.146713471019346,
           9.246713471019348,
           9.346713471019347,
           9.446713471019347,
           9.546713471019347,
           9.646713471019348,
           9.746713471019348,
           9.846713471019347,
           9.946713471019347,
           10.046713471019348,
           10.146713471019348,
           10.246713471019348,
           10.346713471019347,
           10.446713471019349,
           10.546713471019348,
           10.646713471019348,
           10.74671347101935,
           10.84671347101935,
           10.946713471019349,
           11.046713471019348,
           11.146713471019348,
           11.24671347101935,
           11.34671347101935,
           11.446713471019349,
           11.54671347101935,
           11.64671347101935,
           11.74671347101935,
           11.84671347101935,
           11.946713471019349,
           12.04671347101935,
           12.14671347101935,
           12.24671347101935,
           12.346713471019351,
           12.44671347101935,
           12.54671347101935,
           12.64671347101935,
           12.74671347101935,
           12.846713471019351,
           12.94671347101935,
           13.04671347101935,
           13.146713471019352,
           13.246713471019351,
           13.346713471019351,
           13.44671347101935,
           13.54671347101935,
           13.646713471019352,
           13.746713471019351,
           13.846713471019351,
           13.946713471019352
          ],
          [
           2.1467134710193405,
           2.2467134710193406,
           2.3467134710193407,
           2.446713471019341,
           2.546713471019341,
           2.646713471019341,
           2.746713471019341,
           2.846713471019341,
           2.9467134710193412,
           3.0467134710193413,
           3.1467134710193414,
           3.2467134710193415,
           3.3467134710193416,
           3.4467134710193417,
           3.5467134710193418,
           3.646713471019342,
           3.746713471019342,
           3.846713471019342,
           3.946713471019342,
           4.046713471019342,
           4.146713471019343,
           4.246713471019342,
           4.346713471019342,
           4.446713471019343,
           4.546713471019343,
           4.646713471019343,
           4.746713471019342,
           4.846713471019343,
           4.9467134710193434,
           5.046713471019343,
           5.146713471019343,
           5.246713471019343,
           5.346713471019344,
           5.4467134710193434,
           5.546713471019343,
           5.646713471019344,
           5.746713471019344,
           5.846713471019344,
           5.9467134710193434,
           6.046713471019344,
           6.1467134710193445,
           6.246713471019344,
           6.346713471019344,
           6.446713471019345,
           6.546713471019345,
           6.6467134710193445,
           6.746713471019344,
           6.846713471019346,
           6.946713471019345,
           7.046713471019345,
           7.1467134710193445,
           7.246713471019346,
           7.346713471019346,
           7.446713471019345,
           7.546713471019345,
           7.646713471019346,
           7.746713471019346,
           7.846713471019346,
           7.946713471019345,
           8.046713471019347,
           8.146713471019346,
           8.246713471019346,
           8.346713471019346,
           8.446713471019347,
           8.546713471019347,
           8.646713471019346,
           8.746713471019346,
           8.846713471019347,
           8.946713471019347,
           9.046713471019347,
           9.146713471019346,
           9.246713471019348,
           9.346713471019347,
           9.446713471019347,
           9.546713471019347,
           9.646713471019348,
           9.746713471019348,
           9.846713471019347,
           9.946713471019347,
           10.046713471019348,
           10.146713471019348,
           10.246713471019348,
           10.346713471019347,
           10.446713471019349,
           10.546713471019348,
           10.646713471019348,
           10.74671347101935,
           10.84671347101935,
           10.946713471019349,
           11.046713471019348,
           11.146713471019348,
           11.24671347101935,
           11.34671347101935,
           11.446713471019349,
           11.54671347101935,
           11.64671347101935,
           11.74671347101935,
           11.84671347101935,
           11.946713471019349,
           12.04671347101935,
           12.14671347101935,
           12.24671347101935,
           12.346713471019351,
           12.44671347101935,
           12.54671347101935,
           12.64671347101935,
           12.74671347101935,
           12.846713471019351,
           12.94671347101935,
           13.04671347101935,
           13.146713471019352,
           13.246713471019351,
           13.346713471019351,
           13.44671347101935,
           13.54671347101935,
           13.646713471019352,
           13.746713471019351,
           13.846713471019351,
           13.946713471019352
          ],
          [
           2.1467134710193405,
           2.2467134710193406,
           2.3467134710193407,
           2.446713471019341,
           2.546713471019341,
           2.646713471019341,
           2.746713471019341,
           2.846713471019341,
           2.9467134710193412,
           3.0467134710193413,
           3.1467134710193414,
           3.2467134710193415,
           3.3467134710193416,
           3.4467134710193417,
           3.5467134710193418,
           3.646713471019342,
           3.746713471019342,
           3.846713471019342,
           3.946713471019342,
           4.046713471019342,
           4.146713471019343,
           4.246713471019342,
           4.346713471019342,
           4.446713471019343,
           4.546713471019343,
           4.646713471019343,
           4.746713471019342,
           4.846713471019343,
           4.9467134710193434,
           5.046713471019343,
           5.146713471019343,
           5.246713471019343,
           5.346713471019344,
           5.4467134710193434,
           5.546713471019343,
           5.646713471019344,
           5.746713471019344,
           5.846713471019344,
           5.9467134710193434,
           6.046713471019344,
           6.1467134710193445,
           6.246713471019344,
           6.346713471019344,
           6.446713471019345,
           6.546713471019345,
           6.6467134710193445,
           6.746713471019344,
           6.846713471019346,
           6.946713471019345,
           7.046713471019345,
           7.1467134710193445,
           7.246713471019346,
           7.346713471019346,
           7.446713471019345,
           7.546713471019345,
           7.646713471019346,
           7.746713471019346,
           7.846713471019346,
           7.946713471019345,
           8.046713471019347,
           8.146713471019346,
           8.246713471019346,
           8.346713471019346,
           8.446713471019347,
           8.546713471019347,
           8.646713471019346,
           8.746713471019346,
           8.846713471019347,
           8.946713471019347,
           9.046713471019347,
           9.146713471019346,
           9.246713471019348,
           9.346713471019347,
           9.446713471019347,
           9.546713471019347,
           9.646713471019348,
           9.746713471019348,
           9.846713471019347,
           9.946713471019347,
           10.046713471019348,
           10.146713471019348,
           10.246713471019348,
           10.346713471019347,
           10.446713471019349,
           10.546713471019348,
           10.646713471019348,
           10.74671347101935,
           10.84671347101935,
           10.946713471019349,
           11.046713471019348,
           11.146713471019348,
           11.24671347101935,
           11.34671347101935,
           11.446713471019349,
           11.54671347101935,
           11.64671347101935,
           11.74671347101935,
           11.84671347101935,
           11.946713471019349,
           12.04671347101935,
           12.14671347101935,
           12.24671347101935,
           12.346713471019351,
           12.44671347101935,
           12.54671347101935,
           12.64671347101935,
           12.74671347101935,
           12.846713471019351,
           12.94671347101935,
           13.04671347101935,
           13.146713471019352,
           13.246713471019351,
           13.346713471019351,
           13.44671347101935,
           13.54671347101935,
           13.646713471019352,
           13.746713471019351,
           13.846713471019351,
           13.946713471019352
          ],
          [
           2.1467134710193405,
           2.2467134710193406,
           2.3467134710193407,
           2.446713471019341,
           2.546713471019341,
           2.646713471019341,
           2.746713471019341,
           2.846713471019341,
           2.9467134710193412,
           3.0467134710193413,
           3.1467134710193414,
           3.2467134710193415,
           3.3467134710193416,
           3.4467134710193417,
           3.5467134710193418,
           3.646713471019342,
           3.746713471019342,
           3.846713471019342,
           3.946713471019342,
           4.046713471019342,
           4.146713471019343,
           4.246713471019342,
           4.346713471019342,
           4.446713471019343,
           4.546713471019343,
           4.646713471019343,
           4.746713471019342,
           4.846713471019343,
           4.9467134710193434,
           5.046713471019343,
           5.146713471019343,
           5.246713471019343,
           5.346713471019344,
           5.4467134710193434,
           5.546713471019343,
           5.646713471019344,
           5.746713471019344,
           5.846713471019344,
           5.9467134710193434,
           6.046713471019344,
           6.1467134710193445,
           6.246713471019344,
           6.346713471019344,
           6.446713471019345,
           6.546713471019345,
           6.6467134710193445,
           6.746713471019344,
           6.846713471019346,
           6.946713471019345,
           7.046713471019345,
           7.1467134710193445,
           7.246713471019346,
           7.346713471019346,
           7.446713471019345,
           7.546713471019345,
           7.646713471019346,
           7.746713471019346,
           7.846713471019346,
           7.946713471019345,
           8.046713471019347,
           8.146713471019346,
           8.246713471019346,
           8.346713471019346,
           8.446713471019347,
           8.546713471019347,
           8.646713471019346,
           8.746713471019346,
           8.846713471019347,
           8.946713471019347,
           9.046713471019347,
           9.146713471019346,
           9.246713471019348,
           9.346713471019347,
           9.446713471019347,
           9.546713471019347,
           9.646713471019348,
           9.746713471019348,
           9.846713471019347,
           9.946713471019347,
           10.046713471019348,
           10.146713471019348,
           10.246713471019348,
           10.346713471019347,
           10.446713471019349,
           10.546713471019348,
           10.646713471019348,
           10.74671347101935,
           10.84671347101935,
           10.946713471019349,
           11.046713471019348,
           11.146713471019348,
           11.24671347101935,
           11.34671347101935,
           11.446713471019349,
           11.54671347101935,
           11.64671347101935,
           11.74671347101935,
           11.84671347101935,
           11.946713471019349,
           12.04671347101935,
           12.14671347101935,
           12.24671347101935,
           12.346713471019351,
           12.44671347101935,
           12.54671347101935,
           12.64671347101935,
           12.74671347101935,
           12.846713471019351,
           12.94671347101935,
           13.04671347101935,
           13.146713471019352,
           13.246713471019351,
           13.346713471019351,
           13.44671347101935,
           13.54671347101935,
           13.646713471019352,
           13.746713471019351,
           13.846713471019351,
           13.946713471019352
          ],
          [
           2.1467134710193405,
           2.2467134710193406,
           2.3467134710193407,
           2.446713471019341,
           2.546713471019341,
           2.646713471019341,
           2.746713471019341,
           2.846713471019341,
           2.9467134710193412,
           3.0467134710193413,
           3.1467134710193414,
           3.2467134710193415,
           3.3467134710193416,
           3.4467134710193417,
           3.5467134710193418,
           3.646713471019342,
           3.746713471019342,
           3.846713471019342,
           3.946713471019342,
           4.046713471019342,
           4.146713471019343,
           4.246713471019342,
           4.346713471019342,
           4.446713471019343,
           4.546713471019343,
           4.646713471019343,
           4.746713471019342,
           4.846713471019343,
           4.9467134710193434,
           5.046713471019343,
           5.146713471019343,
           5.246713471019343,
           5.346713471019344,
           5.4467134710193434,
           5.546713471019343,
           5.646713471019344,
           5.746713471019344,
           5.846713471019344,
           5.9467134710193434,
           6.046713471019344,
           6.1467134710193445,
           6.246713471019344,
           6.346713471019344,
           6.446713471019345,
           6.546713471019345,
           6.6467134710193445,
           6.746713471019344,
           6.846713471019346,
           6.946713471019345,
           7.046713471019345,
           7.1467134710193445,
           7.246713471019346,
           7.346713471019346,
           7.446713471019345,
           7.546713471019345,
           7.646713471019346,
           7.746713471019346,
           7.846713471019346,
           7.946713471019345,
           8.046713471019347,
           8.146713471019346,
           8.246713471019346,
           8.346713471019346,
           8.446713471019347,
           8.546713471019347,
           8.646713471019346,
           8.746713471019346,
           8.846713471019347,
           8.946713471019347,
           9.046713471019347,
           9.146713471019346,
           9.246713471019348,
           9.346713471019347,
           9.446713471019347,
           9.546713471019347,
           9.646713471019348,
           9.746713471019348,
           9.846713471019347,
           9.946713471019347,
           10.046713471019348,
           10.146713471019348,
           10.246713471019348,
           10.346713471019347,
           10.446713471019349,
           10.546713471019348,
           10.646713471019348,
           10.74671347101935,
           10.84671347101935,
           10.946713471019349,
           11.046713471019348,
           11.146713471019348,
           11.24671347101935,
           11.34671347101935,
           11.446713471019349,
           11.54671347101935,
           11.64671347101935,
           11.74671347101935,
           11.84671347101935,
           11.946713471019349,
           12.04671347101935,
           12.14671347101935,
           12.24671347101935,
           12.346713471019351,
           12.44671347101935,
           12.54671347101935,
           12.64671347101935,
           12.74671347101935,
           12.846713471019351,
           12.94671347101935,
           13.04671347101935,
           13.146713471019352,
           13.246713471019351,
           13.346713471019351,
           13.44671347101935,
           13.54671347101935,
           13.646713471019352,
           13.746713471019351,
           13.846713471019351,
           13.946713471019352
          ],
          [
           2.1467134710193405,
           2.2467134710193406,
           2.3467134710193407,
           2.446713471019341,
           2.546713471019341,
           2.646713471019341,
           2.746713471019341,
           2.846713471019341,
           2.9467134710193412,
           3.0467134710193413,
           3.1467134710193414,
           3.2467134710193415,
           3.3467134710193416,
           3.4467134710193417,
           3.5467134710193418,
           3.646713471019342,
           3.746713471019342,
           3.846713471019342,
           3.946713471019342,
           4.046713471019342,
           4.146713471019343,
           4.246713471019342,
           4.346713471019342,
           4.446713471019343,
           4.546713471019343,
           4.646713471019343,
           4.746713471019342,
           4.846713471019343,
           4.9467134710193434,
           5.046713471019343,
           5.146713471019343,
           5.246713471019343,
           5.346713471019344,
           5.4467134710193434,
           5.546713471019343,
           5.646713471019344,
           5.746713471019344,
           5.846713471019344,
           5.9467134710193434,
           6.046713471019344,
           6.1467134710193445,
           6.246713471019344,
           6.346713471019344,
           6.446713471019345,
           6.546713471019345,
           6.6467134710193445,
           6.746713471019344,
           6.846713471019346,
           6.946713471019345,
           7.046713471019345,
           7.1467134710193445,
           7.246713471019346,
           7.346713471019346,
           7.446713471019345,
           7.546713471019345,
           7.646713471019346,
           7.746713471019346,
           7.846713471019346,
           7.946713471019345,
           8.046713471019347,
           8.146713471019346,
           8.246713471019346,
           8.346713471019346,
           8.446713471019347,
           8.546713471019347,
           8.646713471019346,
           8.746713471019346,
           8.846713471019347,
           8.946713471019347,
           9.046713471019347,
           9.146713471019346,
           9.246713471019348,
           9.346713471019347,
           9.446713471019347,
           9.546713471019347,
           9.646713471019348,
           9.746713471019348,
           9.846713471019347,
           9.946713471019347,
           10.046713471019348,
           10.146713471019348,
           10.246713471019348,
           10.346713471019347,
           10.446713471019349,
           10.546713471019348,
           10.646713471019348,
           10.74671347101935,
           10.84671347101935,
           10.946713471019349,
           11.046713471019348,
           11.146713471019348,
           11.24671347101935,
           11.34671347101935,
           11.446713471019349,
           11.54671347101935,
           11.64671347101935,
           11.74671347101935,
           11.84671347101935,
           11.946713471019349,
           12.04671347101935,
           12.14671347101935,
           12.24671347101935,
           12.346713471019351,
           12.44671347101935,
           12.54671347101935,
           12.64671347101935,
           12.74671347101935,
           12.846713471019351,
           12.94671347101935,
           13.04671347101935,
           13.146713471019352,
           13.246713471019351,
           13.346713471019351,
           13.44671347101935,
           13.54671347101935,
           13.646713471019352,
           13.746713471019351,
           13.846713471019351,
           13.946713471019352
          ],
          [
           2.1467134710193405,
           2.2467134710193406,
           2.3467134710193407,
           2.446713471019341,
           2.546713471019341,
           2.646713471019341,
           2.746713471019341,
           2.846713471019341,
           2.9467134710193412,
           3.0467134710193413,
           3.1467134710193414,
           3.2467134710193415,
           3.3467134710193416,
           3.4467134710193417,
           3.5467134710193418,
           3.646713471019342,
           3.746713471019342,
           3.846713471019342,
           3.946713471019342,
           4.046713471019342,
           4.146713471019343,
           4.246713471019342,
           4.346713471019342,
           4.446713471019343,
           4.546713471019343,
           4.646713471019343,
           4.746713471019342,
           4.846713471019343,
           4.9467134710193434,
           5.046713471019343,
           5.146713471019343,
           5.246713471019343,
           5.346713471019344,
           5.4467134710193434,
           5.546713471019343,
           5.646713471019344,
           5.746713471019344,
           5.846713471019344,
           5.9467134710193434,
           6.046713471019344,
           6.1467134710193445,
           6.246713471019344,
           6.346713471019344,
           6.446713471019345,
           6.546713471019345,
           6.6467134710193445,
           6.746713471019344,
           6.846713471019346,
           6.946713471019345,
           7.046713471019345,
           7.1467134710193445,
           7.246713471019346,
           7.346713471019346,
           7.446713471019345,
           7.546713471019345,
           7.646713471019346,
           7.746713471019346,
           7.846713471019346,
           7.946713471019345,
           8.046713471019347,
           8.146713471019346,
           8.246713471019346,
           8.346713471019346,
           8.446713471019347,
           8.546713471019347,
           8.646713471019346,
           8.746713471019346,
           8.846713471019347,
           8.946713471019347,
           9.046713471019347,
           9.146713471019346,
           9.246713471019348,
           9.346713471019347,
           9.446713471019347,
           9.546713471019347,
           9.646713471019348,
           9.746713471019348,
           9.846713471019347,
           9.946713471019347,
           10.046713471019348,
           10.146713471019348,
           10.246713471019348,
           10.346713471019347,
           10.446713471019349,
           10.546713471019348,
           10.646713471019348,
           10.74671347101935,
           10.84671347101935,
           10.946713471019349,
           11.046713471019348,
           11.146713471019348,
           11.24671347101935,
           11.34671347101935,
           11.446713471019349,
           11.54671347101935,
           11.64671347101935,
           11.74671347101935,
           11.84671347101935,
           11.946713471019349,
           12.04671347101935,
           12.14671347101935,
           12.24671347101935,
           12.346713471019351,
           12.44671347101935,
           12.54671347101935,
           12.64671347101935,
           12.74671347101935,
           12.846713471019351,
           12.94671347101935,
           13.04671347101935,
           13.146713471019352,
           13.246713471019351,
           13.346713471019351,
           13.44671347101935,
           13.54671347101935,
           13.646713471019352,
           13.746713471019351,
           13.846713471019351,
           13.946713471019352
          ],
          [
           2.1467134710193405,
           2.2467134710193406,
           2.3467134710193407,
           2.446713471019341,
           2.546713471019341,
           2.646713471019341,
           2.746713471019341,
           2.846713471019341,
           2.9467134710193412,
           3.0467134710193413,
           3.1467134710193414,
           3.2467134710193415,
           3.3467134710193416,
           3.4467134710193417,
           3.5467134710193418,
           3.646713471019342,
           3.746713471019342,
           3.846713471019342,
           3.946713471019342,
           4.046713471019342,
           4.146713471019343,
           4.246713471019342,
           4.346713471019342,
           4.446713471019343,
           4.546713471019343,
           4.646713471019343,
           4.746713471019342,
           4.846713471019343,
           4.9467134710193434,
           5.046713471019343,
           5.146713471019343,
           5.246713471019343,
           5.346713471019344,
           5.4467134710193434,
           5.546713471019343,
           5.646713471019344,
           5.746713471019344,
           5.846713471019344,
           5.9467134710193434,
           6.046713471019344,
           6.1467134710193445,
           6.246713471019344,
           6.346713471019344,
           6.446713471019345,
           6.546713471019345,
           6.6467134710193445,
           6.746713471019344,
           6.846713471019346,
           6.946713471019345,
           7.046713471019345,
           7.1467134710193445,
           7.246713471019346,
           7.346713471019346,
           7.446713471019345,
           7.546713471019345,
           7.646713471019346,
           7.746713471019346,
           7.846713471019346,
           7.946713471019345,
           8.046713471019347,
           8.146713471019346,
           8.246713471019346,
           8.346713471019346,
           8.446713471019347,
           8.546713471019347,
           8.646713471019346,
           8.746713471019346,
           8.846713471019347,
           8.946713471019347,
           9.046713471019347,
           9.146713471019346,
           9.246713471019348,
           9.346713471019347,
           9.446713471019347,
           9.546713471019347,
           9.646713471019348,
           9.746713471019348,
           9.846713471019347,
           9.946713471019347,
           10.046713471019348,
           10.146713471019348,
           10.246713471019348,
           10.346713471019347,
           10.446713471019349,
           10.546713471019348,
           10.646713471019348,
           10.74671347101935,
           10.84671347101935,
           10.946713471019349,
           11.046713471019348,
           11.146713471019348,
           11.24671347101935,
           11.34671347101935,
           11.446713471019349,
           11.54671347101935,
           11.64671347101935,
           11.74671347101935,
           11.84671347101935,
           11.946713471019349,
           12.04671347101935,
           12.14671347101935,
           12.24671347101935,
           12.346713471019351,
           12.44671347101935,
           12.54671347101935,
           12.64671347101935,
           12.74671347101935,
           12.846713471019351,
           12.94671347101935,
           13.04671347101935,
           13.146713471019352,
           13.246713471019351,
           13.346713471019351,
           13.44671347101935,
           13.54671347101935,
           13.646713471019352,
           13.746713471019351,
           13.846713471019351,
           13.946713471019352
          ],
          [
           2.1467134710193405,
           2.2467134710193406,
           2.3467134710193407,
           2.446713471019341,
           2.546713471019341,
           2.646713471019341,
           2.746713471019341,
           2.846713471019341,
           2.9467134710193412,
           3.0467134710193413,
           3.1467134710193414,
           3.2467134710193415,
           3.3467134710193416,
           3.4467134710193417,
           3.5467134710193418,
           3.646713471019342,
           3.746713471019342,
           3.846713471019342,
           3.946713471019342,
           4.046713471019342,
           4.146713471019343,
           4.246713471019342,
           4.346713471019342,
           4.446713471019343,
           4.546713471019343,
           4.646713471019343,
           4.746713471019342,
           4.846713471019343,
           4.9467134710193434,
           5.046713471019343,
           5.146713471019343,
           5.246713471019343,
           5.346713471019344,
           5.4467134710193434,
           5.546713471019343,
           5.646713471019344,
           5.746713471019344,
           5.846713471019344,
           5.9467134710193434,
           6.046713471019344,
           6.1467134710193445,
           6.246713471019344,
           6.346713471019344,
           6.446713471019345,
           6.546713471019345,
           6.6467134710193445,
           6.746713471019344,
           6.846713471019346,
           6.946713471019345,
           7.046713471019345,
           7.1467134710193445,
           7.246713471019346,
           7.346713471019346,
           7.446713471019345,
           7.546713471019345,
           7.646713471019346,
           7.746713471019346,
           7.846713471019346,
           7.946713471019345,
           8.046713471019347,
           8.146713471019346,
           8.246713471019346,
           8.346713471019346,
           8.446713471019347,
           8.546713471019347,
           8.646713471019346,
           8.746713471019346,
           8.846713471019347,
           8.946713471019347,
           9.046713471019347,
           9.146713471019346,
           9.246713471019348,
           9.346713471019347,
           9.446713471019347,
           9.546713471019347,
           9.646713471019348,
           9.746713471019348,
           9.846713471019347,
           9.946713471019347,
           10.046713471019348,
           10.146713471019348,
           10.246713471019348,
           10.346713471019347,
           10.446713471019349,
           10.546713471019348,
           10.646713471019348,
           10.74671347101935,
           10.84671347101935,
           10.946713471019349,
           11.046713471019348,
           11.146713471019348,
           11.24671347101935,
           11.34671347101935,
           11.446713471019349,
           11.54671347101935,
           11.64671347101935,
           11.74671347101935,
           11.84671347101935,
           11.946713471019349,
           12.04671347101935,
           12.14671347101935,
           12.24671347101935,
           12.346713471019351,
           12.44671347101935,
           12.54671347101935,
           12.64671347101935,
           12.74671347101935,
           12.846713471019351,
           12.94671347101935,
           13.04671347101935,
           13.146713471019352,
           13.246713471019351,
           13.346713471019351,
           13.44671347101935,
           13.54671347101935,
           13.646713471019352,
           13.746713471019351,
           13.846713471019351,
           13.946713471019352
          ],
          [
           2.1467134710193405,
           2.2467134710193406,
           2.3467134710193407,
           2.446713471019341,
           2.546713471019341,
           2.646713471019341,
           2.746713471019341,
           2.846713471019341,
           2.9467134710193412,
           3.0467134710193413,
           3.1467134710193414,
           3.2467134710193415,
           3.3467134710193416,
           3.4467134710193417,
           3.5467134710193418,
           3.646713471019342,
           3.746713471019342,
           3.846713471019342,
           3.946713471019342,
           4.046713471019342,
           4.146713471019343,
           4.246713471019342,
           4.346713471019342,
           4.446713471019343,
           4.546713471019343,
           4.646713471019343,
           4.746713471019342,
           4.846713471019343,
           4.9467134710193434,
           5.046713471019343,
           5.146713471019343,
           5.246713471019343,
           5.346713471019344,
           5.4467134710193434,
           5.546713471019343,
           5.646713471019344,
           5.746713471019344,
           5.846713471019344,
           5.9467134710193434,
           6.046713471019344,
           6.1467134710193445,
           6.246713471019344,
           6.346713471019344,
           6.446713471019345,
           6.546713471019345,
           6.6467134710193445,
           6.746713471019344,
           6.846713471019346,
           6.946713471019345,
           7.046713471019345,
           7.1467134710193445,
           7.246713471019346,
           7.346713471019346,
           7.446713471019345,
           7.546713471019345,
           7.646713471019346,
           7.746713471019346,
           7.846713471019346,
           7.946713471019345,
           8.046713471019347,
           8.146713471019346,
           8.246713471019346,
           8.346713471019346,
           8.446713471019347,
           8.546713471019347,
           8.646713471019346,
           8.746713471019346,
           8.846713471019347,
           8.946713471019347,
           9.046713471019347,
           9.146713471019346,
           9.246713471019348,
           9.346713471019347,
           9.446713471019347,
           9.546713471019347,
           9.646713471019348,
           9.746713471019348,
           9.846713471019347,
           9.946713471019347,
           10.046713471019348,
           10.146713471019348,
           10.246713471019348,
           10.346713471019347,
           10.446713471019349,
           10.546713471019348,
           10.646713471019348,
           10.74671347101935,
           10.84671347101935,
           10.946713471019349,
           11.046713471019348,
           11.146713471019348,
           11.24671347101935,
           11.34671347101935,
           11.446713471019349,
           11.54671347101935,
           11.64671347101935,
           11.74671347101935,
           11.84671347101935,
           11.946713471019349,
           12.04671347101935,
           12.14671347101935,
           12.24671347101935,
           12.346713471019351,
           12.44671347101935,
           12.54671347101935,
           12.64671347101935,
           12.74671347101935,
           12.846713471019351,
           12.94671347101935,
           13.04671347101935,
           13.146713471019352,
           13.246713471019351,
           13.346713471019351,
           13.44671347101935,
           13.54671347101935,
           13.646713471019352,
           13.746713471019351,
           13.846713471019351,
           13.946713471019352
          ],
          [
           2.1467134710193405,
           2.2467134710193406,
           2.3467134710193407,
           2.446713471019341,
           2.546713471019341,
           2.646713471019341,
           2.746713471019341,
           2.846713471019341,
           2.9467134710193412,
           3.0467134710193413,
           3.1467134710193414,
           3.2467134710193415,
           3.3467134710193416,
           3.4467134710193417,
           3.5467134710193418,
           3.646713471019342,
           3.746713471019342,
           3.846713471019342,
           3.946713471019342,
           4.046713471019342,
           4.146713471019343,
           4.246713471019342,
           4.346713471019342,
           4.446713471019343,
           4.546713471019343,
           4.646713471019343,
           4.746713471019342,
           4.846713471019343,
           4.9467134710193434,
           5.046713471019343,
           5.146713471019343,
           5.246713471019343,
           5.346713471019344,
           5.4467134710193434,
           5.546713471019343,
           5.646713471019344,
           5.746713471019344,
           5.846713471019344,
           5.9467134710193434,
           6.046713471019344,
           6.1467134710193445,
           6.246713471019344,
           6.346713471019344,
           6.446713471019345,
           6.546713471019345,
           6.6467134710193445,
           6.746713471019344,
           6.846713471019346,
           6.946713471019345,
           7.046713471019345,
           7.1467134710193445,
           7.246713471019346,
           7.346713471019346,
           7.446713471019345,
           7.546713471019345,
           7.646713471019346,
           7.746713471019346,
           7.846713471019346,
           7.946713471019345,
           8.046713471019347,
           8.146713471019346,
           8.246713471019346,
           8.346713471019346,
           8.446713471019347,
           8.546713471019347,
           8.646713471019346,
           8.746713471019346,
           8.846713471019347,
           8.946713471019347,
           9.046713471019347,
           9.146713471019346,
           9.246713471019348,
           9.346713471019347,
           9.446713471019347,
           9.546713471019347,
           9.646713471019348,
           9.746713471019348,
           9.846713471019347,
           9.946713471019347,
           10.046713471019348,
           10.146713471019348,
           10.246713471019348,
           10.346713471019347,
           10.446713471019349,
           10.546713471019348,
           10.646713471019348,
           10.74671347101935,
           10.84671347101935,
           10.946713471019349,
           11.046713471019348,
           11.146713471019348,
           11.24671347101935,
           11.34671347101935,
           11.446713471019349,
           11.54671347101935,
           11.64671347101935,
           11.74671347101935,
           11.84671347101935,
           11.946713471019349,
           12.04671347101935,
           12.14671347101935,
           12.24671347101935,
           12.346713471019351,
           12.44671347101935,
           12.54671347101935,
           12.64671347101935,
           12.74671347101935,
           12.846713471019351,
           12.94671347101935,
           13.04671347101935,
           13.146713471019352,
           13.246713471019351,
           13.346713471019351,
           13.44671347101935,
           13.54671347101935,
           13.646713471019352,
           13.746713471019351,
           13.846713471019351,
           13.946713471019352
          ]
         ],
         "y": [
          [
           -0.09114545714879381,
           -0.09114545714879381,
           -0.09114545714879381,
           -0.09114545714879381,
           -0.09114545714879381,
           -0.09114545714879381,
           -0.09114545714879381,
           -0.09114545714879381,
           -0.09114545714879381,
           -0.09114545714879381,
           -0.09114545714879381,
           -0.09114545714879381,
           -0.09114545714879381,
           -0.09114545714879381,
           -0.09114545714879381,
           -0.09114545714879381,
           -0.09114545714879381,
           -0.09114545714879381,
           -0.09114545714879381,
           -0.09114545714879381,
           -0.09114545714879381,
           -0.09114545714879381,
           -0.09114545714879381,
           -0.09114545714879381,
           -0.09114545714879381,
           -0.09114545714879381,
           -0.09114545714879381,
           -0.09114545714879381,
           -0.09114545714879381,
           -0.09114545714879381,
           -0.09114545714879381,
           -0.09114545714879381,
           -0.09114545714879381,
           -0.09114545714879381,
           -0.09114545714879381,
           -0.09114545714879381,
           -0.09114545714879381,
           -0.09114545714879381,
           -0.09114545714879381,
           -0.09114545714879381,
           -0.09114545714879381,
           -0.09114545714879381,
           -0.09114545714879381,
           -0.09114545714879381,
           -0.09114545714879381,
           -0.09114545714879381,
           -0.09114545714879381,
           -0.09114545714879381,
           -0.09114545714879381,
           -0.09114545714879381,
           -0.09114545714879381,
           -0.09114545714879381,
           -0.09114545714879381,
           -0.09114545714879381,
           -0.09114545714879381,
           -0.09114545714879381,
           -0.09114545714879381,
           -0.09114545714879381,
           -0.09114545714879381,
           -0.09114545714879381,
           -0.09114545714879381,
           -0.09114545714879381,
           -0.09114545714879381,
           -0.09114545714879381,
           -0.09114545714879381,
           -0.09114545714879381,
           -0.09114545714879381,
           -0.09114545714879381,
           -0.09114545714879381,
           -0.09114545714879381,
           -0.09114545714879381,
           -0.09114545714879381,
           -0.09114545714879381,
           -0.09114545714879381,
           -0.09114545714879381,
           -0.09114545714879381,
           -0.09114545714879381,
           -0.09114545714879381,
           -0.09114545714879381,
           -0.09114545714879381,
           -0.09114545714879381,
           -0.09114545714879381,
           -0.09114545714879381,
           -0.09114545714879381,
           -0.09114545714879381,
           -0.09114545714879381,
           -0.09114545714879381,
           -0.09114545714879381,
           -0.09114545714879381,
           -0.09114545714879381,
           -0.09114545714879381,
           -0.09114545714879381,
           -0.09114545714879381,
           -0.09114545714879381,
           -0.09114545714879381,
           -0.09114545714879381,
           -0.09114545714879381,
           -0.09114545714879381,
           -0.09114545714879381,
           -0.09114545714879381,
           -0.09114545714879381,
           -0.09114545714879381,
           -0.09114545714879381,
           -0.09114545714879381,
           -0.09114545714879381,
           -0.09114545714879381,
           -0.09114545714879381,
           -0.09114545714879381,
           -0.09114545714879381,
           -0.09114545714879381,
           -0.09114545714879381,
           -0.09114545714879381,
           -0.09114545714879381,
           -0.09114545714879381,
           -0.09114545714879381,
           -0.09114545714879381,
           -0.09114545714879381,
           -0.09114545714879381,
           -0.09114545714879381
          ],
          [
           0.008854542851206196,
           0.008854542851206196,
           0.008854542851206196,
           0.008854542851206196,
           0.008854542851206196,
           0.008854542851206196,
           0.008854542851206196,
           0.008854542851206196,
           0.008854542851206196,
           0.008854542851206196,
           0.008854542851206196,
           0.008854542851206196,
           0.008854542851206196,
           0.008854542851206196,
           0.008854542851206196,
           0.008854542851206196,
           0.008854542851206196,
           0.008854542851206196,
           0.008854542851206196,
           0.008854542851206196,
           0.008854542851206196,
           0.008854542851206196,
           0.008854542851206196,
           0.008854542851206196,
           0.008854542851206196,
           0.008854542851206196,
           0.008854542851206196,
           0.008854542851206196,
           0.008854542851206196,
           0.008854542851206196,
           0.008854542851206196,
           0.008854542851206196,
           0.008854542851206196,
           0.008854542851206196,
           0.008854542851206196,
           0.008854542851206196,
           0.008854542851206196,
           0.008854542851206196,
           0.008854542851206196,
           0.008854542851206196,
           0.008854542851206196,
           0.008854542851206196,
           0.008854542851206196,
           0.008854542851206196,
           0.008854542851206196,
           0.008854542851206196,
           0.008854542851206196,
           0.008854542851206196,
           0.008854542851206196,
           0.008854542851206196,
           0.008854542851206196,
           0.008854542851206196,
           0.008854542851206196,
           0.008854542851206196,
           0.008854542851206196,
           0.008854542851206196,
           0.008854542851206196,
           0.008854542851206196,
           0.008854542851206196,
           0.008854542851206196,
           0.008854542851206196,
           0.008854542851206196,
           0.008854542851206196,
           0.008854542851206196,
           0.008854542851206196,
           0.008854542851206196,
           0.008854542851206196,
           0.008854542851206196,
           0.008854542851206196,
           0.008854542851206196,
           0.008854542851206196,
           0.008854542851206196,
           0.008854542851206196,
           0.008854542851206196,
           0.008854542851206196,
           0.008854542851206196,
           0.008854542851206196,
           0.008854542851206196,
           0.008854542851206196,
           0.008854542851206196,
           0.008854542851206196,
           0.008854542851206196,
           0.008854542851206196,
           0.008854542851206196,
           0.008854542851206196,
           0.008854542851206196,
           0.008854542851206196,
           0.008854542851206196,
           0.008854542851206196,
           0.008854542851206196,
           0.008854542851206196,
           0.008854542851206196,
           0.008854542851206196,
           0.008854542851206196,
           0.008854542851206196,
           0.008854542851206196,
           0.008854542851206196,
           0.008854542851206196,
           0.008854542851206196,
           0.008854542851206196,
           0.008854542851206196,
           0.008854542851206196,
           0.008854542851206196,
           0.008854542851206196,
           0.008854542851206196,
           0.008854542851206196,
           0.008854542851206196,
           0.008854542851206196,
           0.008854542851206196,
           0.008854542851206196,
           0.008854542851206196,
           0.008854542851206196,
           0.008854542851206196,
           0.008854542851206196,
           0.008854542851206196,
           0.008854542851206196,
           0.008854542851206196,
           0.008854542851206196,
           0.008854542851206196
          ],
          [
           0.1088545428512062,
           0.1088545428512062,
           0.1088545428512062,
           0.1088545428512062,
           0.1088545428512062,
           0.1088545428512062,
           0.1088545428512062,
           0.1088545428512062,
           0.1088545428512062,
           0.1088545428512062,
           0.1088545428512062,
           0.1088545428512062,
           0.1088545428512062,
           0.1088545428512062,
           0.1088545428512062,
           0.1088545428512062,
           0.1088545428512062,
           0.1088545428512062,
           0.1088545428512062,
           0.1088545428512062,
           0.1088545428512062,
           0.1088545428512062,
           0.1088545428512062,
           0.1088545428512062,
           0.1088545428512062,
           0.1088545428512062,
           0.1088545428512062,
           0.1088545428512062,
           0.1088545428512062,
           0.1088545428512062,
           0.1088545428512062,
           0.1088545428512062,
           0.1088545428512062,
           0.1088545428512062,
           0.1088545428512062,
           0.1088545428512062,
           0.1088545428512062,
           0.1088545428512062,
           0.1088545428512062,
           0.1088545428512062,
           0.1088545428512062,
           0.1088545428512062,
           0.1088545428512062,
           0.1088545428512062,
           0.1088545428512062,
           0.1088545428512062,
           0.1088545428512062,
           0.1088545428512062,
           0.1088545428512062,
           0.1088545428512062,
           0.1088545428512062,
           0.1088545428512062,
           0.1088545428512062,
           0.1088545428512062,
           0.1088545428512062,
           0.1088545428512062,
           0.1088545428512062,
           0.1088545428512062,
           0.1088545428512062,
           0.1088545428512062,
           0.1088545428512062,
           0.1088545428512062,
           0.1088545428512062,
           0.1088545428512062,
           0.1088545428512062,
           0.1088545428512062,
           0.1088545428512062,
           0.1088545428512062,
           0.1088545428512062,
           0.1088545428512062,
           0.1088545428512062,
           0.1088545428512062,
           0.1088545428512062,
           0.1088545428512062,
           0.1088545428512062,
           0.1088545428512062,
           0.1088545428512062,
           0.1088545428512062,
           0.1088545428512062,
           0.1088545428512062,
           0.1088545428512062,
           0.1088545428512062,
           0.1088545428512062,
           0.1088545428512062,
           0.1088545428512062,
           0.1088545428512062,
           0.1088545428512062,
           0.1088545428512062,
           0.1088545428512062,
           0.1088545428512062,
           0.1088545428512062,
           0.1088545428512062,
           0.1088545428512062,
           0.1088545428512062,
           0.1088545428512062,
           0.1088545428512062,
           0.1088545428512062,
           0.1088545428512062,
           0.1088545428512062,
           0.1088545428512062,
           0.1088545428512062,
           0.1088545428512062,
           0.1088545428512062,
           0.1088545428512062,
           0.1088545428512062,
           0.1088545428512062,
           0.1088545428512062,
           0.1088545428512062,
           0.1088545428512062,
           0.1088545428512062,
           0.1088545428512062,
           0.1088545428512062,
           0.1088545428512062,
           0.1088545428512062,
           0.1088545428512062,
           0.1088545428512062,
           0.1088545428512062,
           0.1088545428512062,
           0.1088545428512062
          ],
          [
           0.20885454285120625,
           0.20885454285120625,
           0.20885454285120625,
           0.20885454285120625,
           0.20885454285120625,
           0.20885454285120625,
           0.20885454285120625,
           0.20885454285120625,
           0.20885454285120625,
           0.20885454285120625,
           0.20885454285120625,
           0.20885454285120625,
           0.20885454285120625,
           0.20885454285120625,
           0.20885454285120625,
           0.20885454285120625,
           0.20885454285120625,
           0.20885454285120625,
           0.20885454285120625,
           0.20885454285120625,
           0.20885454285120625,
           0.20885454285120625,
           0.20885454285120625,
           0.20885454285120625,
           0.20885454285120625,
           0.20885454285120625,
           0.20885454285120625,
           0.20885454285120625,
           0.20885454285120625,
           0.20885454285120625,
           0.20885454285120625,
           0.20885454285120625,
           0.20885454285120625,
           0.20885454285120625,
           0.20885454285120625,
           0.20885454285120625,
           0.20885454285120625,
           0.20885454285120625,
           0.20885454285120625,
           0.20885454285120625,
           0.20885454285120625,
           0.20885454285120625,
           0.20885454285120625,
           0.20885454285120625,
           0.20885454285120625,
           0.20885454285120625,
           0.20885454285120625,
           0.20885454285120625,
           0.20885454285120625,
           0.20885454285120625,
           0.20885454285120625,
           0.20885454285120625,
           0.20885454285120625,
           0.20885454285120625,
           0.20885454285120625,
           0.20885454285120625,
           0.20885454285120625,
           0.20885454285120625,
           0.20885454285120625,
           0.20885454285120625,
           0.20885454285120625,
           0.20885454285120625,
           0.20885454285120625,
           0.20885454285120625,
           0.20885454285120625,
           0.20885454285120625,
           0.20885454285120625,
           0.20885454285120625,
           0.20885454285120625,
           0.20885454285120625,
           0.20885454285120625,
           0.20885454285120625,
           0.20885454285120625,
           0.20885454285120625,
           0.20885454285120625,
           0.20885454285120625,
           0.20885454285120625,
           0.20885454285120625,
           0.20885454285120625,
           0.20885454285120625,
           0.20885454285120625,
           0.20885454285120625,
           0.20885454285120625,
           0.20885454285120625,
           0.20885454285120625,
           0.20885454285120625,
           0.20885454285120625,
           0.20885454285120625,
           0.20885454285120625,
           0.20885454285120625,
           0.20885454285120625,
           0.20885454285120625,
           0.20885454285120625,
           0.20885454285120625,
           0.20885454285120625,
           0.20885454285120625,
           0.20885454285120625,
           0.20885454285120625,
           0.20885454285120625,
           0.20885454285120625,
           0.20885454285120625,
           0.20885454285120625,
           0.20885454285120625,
           0.20885454285120625,
           0.20885454285120625,
           0.20885454285120625,
           0.20885454285120625,
           0.20885454285120625,
           0.20885454285120625,
           0.20885454285120625,
           0.20885454285120625,
           0.20885454285120625,
           0.20885454285120625,
           0.20885454285120625,
           0.20885454285120625,
           0.20885454285120625,
           0.20885454285120625,
           0.20885454285120625,
           0.20885454285120625
          ],
          [
           0.3088545428512062,
           0.3088545428512062,
           0.3088545428512062,
           0.3088545428512062,
           0.3088545428512062,
           0.3088545428512062,
           0.3088545428512062,
           0.3088545428512062,
           0.3088545428512062,
           0.3088545428512062,
           0.3088545428512062,
           0.3088545428512062,
           0.3088545428512062,
           0.3088545428512062,
           0.3088545428512062,
           0.3088545428512062,
           0.3088545428512062,
           0.3088545428512062,
           0.3088545428512062,
           0.3088545428512062,
           0.3088545428512062,
           0.3088545428512062,
           0.3088545428512062,
           0.3088545428512062,
           0.3088545428512062,
           0.3088545428512062,
           0.3088545428512062,
           0.3088545428512062,
           0.3088545428512062,
           0.3088545428512062,
           0.3088545428512062,
           0.3088545428512062,
           0.3088545428512062,
           0.3088545428512062,
           0.3088545428512062,
           0.3088545428512062,
           0.3088545428512062,
           0.3088545428512062,
           0.3088545428512062,
           0.3088545428512062,
           0.3088545428512062,
           0.3088545428512062,
           0.3088545428512062,
           0.3088545428512062,
           0.3088545428512062,
           0.3088545428512062,
           0.3088545428512062,
           0.3088545428512062,
           0.3088545428512062,
           0.3088545428512062,
           0.3088545428512062,
           0.3088545428512062,
           0.3088545428512062,
           0.3088545428512062,
           0.3088545428512062,
           0.3088545428512062,
           0.3088545428512062,
           0.3088545428512062,
           0.3088545428512062,
           0.3088545428512062,
           0.3088545428512062,
           0.3088545428512062,
           0.3088545428512062,
           0.3088545428512062,
           0.3088545428512062,
           0.3088545428512062,
           0.3088545428512062,
           0.3088545428512062,
           0.3088545428512062,
           0.3088545428512062,
           0.3088545428512062,
           0.3088545428512062,
           0.3088545428512062,
           0.3088545428512062,
           0.3088545428512062,
           0.3088545428512062,
           0.3088545428512062,
           0.3088545428512062,
           0.3088545428512062,
           0.3088545428512062,
           0.3088545428512062,
           0.3088545428512062,
           0.3088545428512062,
           0.3088545428512062,
           0.3088545428512062,
           0.3088545428512062,
           0.3088545428512062,
           0.3088545428512062,
           0.3088545428512062,
           0.3088545428512062,
           0.3088545428512062,
           0.3088545428512062,
           0.3088545428512062,
           0.3088545428512062,
           0.3088545428512062,
           0.3088545428512062,
           0.3088545428512062,
           0.3088545428512062,
           0.3088545428512062,
           0.3088545428512062,
           0.3088545428512062,
           0.3088545428512062,
           0.3088545428512062,
           0.3088545428512062,
           0.3088545428512062,
           0.3088545428512062,
           0.3088545428512062,
           0.3088545428512062,
           0.3088545428512062,
           0.3088545428512062,
           0.3088545428512062,
           0.3088545428512062,
           0.3088545428512062,
           0.3088545428512062,
           0.3088545428512062,
           0.3088545428512062,
           0.3088545428512062,
           0.3088545428512062,
           0.3088545428512062
          ],
          [
           0.4088545428512062,
           0.4088545428512062,
           0.4088545428512062,
           0.4088545428512062,
           0.4088545428512062,
           0.4088545428512062,
           0.4088545428512062,
           0.4088545428512062,
           0.4088545428512062,
           0.4088545428512062,
           0.4088545428512062,
           0.4088545428512062,
           0.4088545428512062,
           0.4088545428512062,
           0.4088545428512062,
           0.4088545428512062,
           0.4088545428512062,
           0.4088545428512062,
           0.4088545428512062,
           0.4088545428512062,
           0.4088545428512062,
           0.4088545428512062,
           0.4088545428512062,
           0.4088545428512062,
           0.4088545428512062,
           0.4088545428512062,
           0.4088545428512062,
           0.4088545428512062,
           0.4088545428512062,
           0.4088545428512062,
           0.4088545428512062,
           0.4088545428512062,
           0.4088545428512062,
           0.4088545428512062,
           0.4088545428512062,
           0.4088545428512062,
           0.4088545428512062,
           0.4088545428512062,
           0.4088545428512062,
           0.4088545428512062,
           0.4088545428512062,
           0.4088545428512062,
           0.4088545428512062,
           0.4088545428512062,
           0.4088545428512062,
           0.4088545428512062,
           0.4088545428512062,
           0.4088545428512062,
           0.4088545428512062,
           0.4088545428512062,
           0.4088545428512062,
           0.4088545428512062,
           0.4088545428512062,
           0.4088545428512062,
           0.4088545428512062,
           0.4088545428512062,
           0.4088545428512062,
           0.4088545428512062,
           0.4088545428512062,
           0.4088545428512062,
           0.4088545428512062,
           0.4088545428512062,
           0.4088545428512062,
           0.4088545428512062,
           0.4088545428512062,
           0.4088545428512062,
           0.4088545428512062,
           0.4088545428512062,
           0.4088545428512062,
           0.4088545428512062,
           0.4088545428512062,
           0.4088545428512062,
           0.4088545428512062,
           0.4088545428512062,
           0.4088545428512062,
           0.4088545428512062,
           0.4088545428512062,
           0.4088545428512062,
           0.4088545428512062,
           0.4088545428512062,
           0.4088545428512062,
           0.4088545428512062,
           0.4088545428512062,
           0.4088545428512062,
           0.4088545428512062,
           0.4088545428512062,
           0.4088545428512062,
           0.4088545428512062,
           0.4088545428512062,
           0.4088545428512062,
           0.4088545428512062,
           0.4088545428512062,
           0.4088545428512062,
           0.4088545428512062,
           0.4088545428512062,
           0.4088545428512062,
           0.4088545428512062,
           0.4088545428512062,
           0.4088545428512062,
           0.4088545428512062,
           0.4088545428512062,
           0.4088545428512062,
           0.4088545428512062,
           0.4088545428512062,
           0.4088545428512062,
           0.4088545428512062,
           0.4088545428512062,
           0.4088545428512062,
           0.4088545428512062,
           0.4088545428512062,
           0.4088545428512062,
           0.4088545428512062,
           0.4088545428512062,
           0.4088545428512062,
           0.4088545428512062,
           0.4088545428512062,
           0.4088545428512062,
           0.4088545428512062,
           0.4088545428512062
          ],
          [
           0.5088545428512062,
           0.5088545428512062,
           0.5088545428512062,
           0.5088545428512062,
           0.5088545428512062,
           0.5088545428512062,
           0.5088545428512062,
           0.5088545428512062,
           0.5088545428512062,
           0.5088545428512062,
           0.5088545428512062,
           0.5088545428512062,
           0.5088545428512062,
           0.5088545428512062,
           0.5088545428512062,
           0.5088545428512062,
           0.5088545428512062,
           0.5088545428512062,
           0.5088545428512062,
           0.5088545428512062,
           0.5088545428512062,
           0.5088545428512062,
           0.5088545428512062,
           0.5088545428512062,
           0.5088545428512062,
           0.5088545428512062,
           0.5088545428512062,
           0.5088545428512062,
           0.5088545428512062,
           0.5088545428512062,
           0.5088545428512062,
           0.5088545428512062,
           0.5088545428512062,
           0.5088545428512062,
           0.5088545428512062,
           0.5088545428512062,
           0.5088545428512062,
           0.5088545428512062,
           0.5088545428512062,
           0.5088545428512062,
           0.5088545428512062,
           0.5088545428512062,
           0.5088545428512062,
           0.5088545428512062,
           0.5088545428512062,
           0.5088545428512062,
           0.5088545428512062,
           0.5088545428512062,
           0.5088545428512062,
           0.5088545428512062,
           0.5088545428512062,
           0.5088545428512062,
           0.5088545428512062,
           0.5088545428512062,
           0.5088545428512062,
           0.5088545428512062,
           0.5088545428512062,
           0.5088545428512062,
           0.5088545428512062,
           0.5088545428512062,
           0.5088545428512062,
           0.5088545428512062,
           0.5088545428512062,
           0.5088545428512062,
           0.5088545428512062,
           0.5088545428512062,
           0.5088545428512062,
           0.5088545428512062,
           0.5088545428512062,
           0.5088545428512062,
           0.5088545428512062,
           0.5088545428512062,
           0.5088545428512062,
           0.5088545428512062,
           0.5088545428512062,
           0.5088545428512062,
           0.5088545428512062,
           0.5088545428512062,
           0.5088545428512062,
           0.5088545428512062,
           0.5088545428512062,
           0.5088545428512062,
           0.5088545428512062,
           0.5088545428512062,
           0.5088545428512062,
           0.5088545428512062,
           0.5088545428512062,
           0.5088545428512062,
           0.5088545428512062,
           0.5088545428512062,
           0.5088545428512062,
           0.5088545428512062,
           0.5088545428512062,
           0.5088545428512062,
           0.5088545428512062,
           0.5088545428512062,
           0.5088545428512062,
           0.5088545428512062,
           0.5088545428512062,
           0.5088545428512062,
           0.5088545428512062,
           0.5088545428512062,
           0.5088545428512062,
           0.5088545428512062,
           0.5088545428512062,
           0.5088545428512062,
           0.5088545428512062,
           0.5088545428512062,
           0.5088545428512062,
           0.5088545428512062,
           0.5088545428512062,
           0.5088545428512062,
           0.5088545428512062,
           0.5088545428512062,
           0.5088545428512062,
           0.5088545428512062,
           0.5088545428512062,
           0.5088545428512062,
           0.5088545428512062
          ],
          [
           0.6088545428512062,
           0.6088545428512062,
           0.6088545428512062,
           0.6088545428512062,
           0.6088545428512062,
           0.6088545428512062,
           0.6088545428512062,
           0.6088545428512062,
           0.6088545428512062,
           0.6088545428512062,
           0.6088545428512062,
           0.6088545428512062,
           0.6088545428512062,
           0.6088545428512062,
           0.6088545428512062,
           0.6088545428512062,
           0.6088545428512062,
           0.6088545428512062,
           0.6088545428512062,
           0.6088545428512062,
           0.6088545428512062,
           0.6088545428512062,
           0.6088545428512062,
           0.6088545428512062,
           0.6088545428512062,
           0.6088545428512062,
           0.6088545428512062,
           0.6088545428512062,
           0.6088545428512062,
           0.6088545428512062,
           0.6088545428512062,
           0.6088545428512062,
           0.6088545428512062,
           0.6088545428512062,
           0.6088545428512062,
           0.6088545428512062,
           0.6088545428512062,
           0.6088545428512062,
           0.6088545428512062,
           0.6088545428512062,
           0.6088545428512062,
           0.6088545428512062,
           0.6088545428512062,
           0.6088545428512062,
           0.6088545428512062,
           0.6088545428512062,
           0.6088545428512062,
           0.6088545428512062,
           0.6088545428512062,
           0.6088545428512062,
           0.6088545428512062,
           0.6088545428512062,
           0.6088545428512062,
           0.6088545428512062,
           0.6088545428512062,
           0.6088545428512062,
           0.6088545428512062,
           0.6088545428512062,
           0.6088545428512062,
           0.6088545428512062,
           0.6088545428512062,
           0.6088545428512062,
           0.6088545428512062,
           0.6088545428512062,
           0.6088545428512062,
           0.6088545428512062,
           0.6088545428512062,
           0.6088545428512062,
           0.6088545428512062,
           0.6088545428512062,
           0.6088545428512062,
           0.6088545428512062,
           0.6088545428512062,
           0.6088545428512062,
           0.6088545428512062,
           0.6088545428512062,
           0.6088545428512062,
           0.6088545428512062,
           0.6088545428512062,
           0.6088545428512062,
           0.6088545428512062,
           0.6088545428512062,
           0.6088545428512062,
           0.6088545428512062,
           0.6088545428512062,
           0.6088545428512062,
           0.6088545428512062,
           0.6088545428512062,
           0.6088545428512062,
           0.6088545428512062,
           0.6088545428512062,
           0.6088545428512062,
           0.6088545428512062,
           0.6088545428512062,
           0.6088545428512062,
           0.6088545428512062,
           0.6088545428512062,
           0.6088545428512062,
           0.6088545428512062,
           0.6088545428512062,
           0.6088545428512062,
           0.6088545428512062,
           0.6088545428512062,
           0.6088545428512062,
           0.6088545428512062,
           0.6088545428512062,
           0.6088545428512062,
           0.6088545428512062,
           0.6088545428512062,
           0.6088545428512062,
           0.6088545428512062,
           0.6088545428512062,
           0.6088545428512062,
           0.6088545428512062,
           0.6088545428512062,
           0.6088545428512062,
           0.6088545428512062,
           0.6088545428512062,
           0.6088545428512062
          ],
          [
           0.7088545428512062,
           0.7088545428512062,
           0.7088545428512062,
           0.7088545428512062,
           0.7088545428512062,
           0.7088545428512062,
           0.7088545428512062,
           0.7088545428512062,
           0.7088545428512062,
           0.7088545428512062,
           0.7088545428512062,
           0.7088545428512062,
           0.7088545428512062,
           0.7088545428512062,
           0.7088545428512062,
           0.7088545428512062,
           0.7088545428512062,
           0.7088545428512062,
           0.7088545428512062,
           0.7088545428512062,
           0.7088545428512062,
           0.7088545428512062,
           0.7088545428512062,
           0.7088545428512062,
           0.7088545428512062,
           0.7088545428512062,
           0.7088545428512062,
           0.7088545428512062,
           0.7088545428512062,
           0.7088545428512062,
           0.7088545428512062,
           0.7088545428512062,
           0.7088545428512062,
           0.7088545428512062,
           0.7088545428512062,
           0.7088545428512062,
           0.7088545428512062,
           0.7088545428512062,
           0.7088545428512062,
           0.7088545428512062,
           0.7088545428512062,
           0.7088545428512062,
           0.7088545428512062,
           0.7088545428512062,
           0.7088545428512062,
           0.7088545428512062,
           0.7088545428512062,
           0.7088545428512062,
           0.7088545428512062,
           0.7088545428512062,
           0.7088545428512062,
           0.7088545428512062,
           0.7088545428512062,
           0.7088545428512062,
           0.7088545428512062,
           0.7088545428512062,
           0.7088545428512062,
           0.7088545428512062,
           0.7088545428512062,
           0.7088545428512062,
           0.7088545428512062,
           0.7088545428512062,
           0.7088545428512062,
           0.7088545428512062,
           0.7088545428512062,
           0.7088545428512062,
           0.7088545428512062,
           0.7088545428512062,
           0.7088545428512062,
           0.7088545428512062,
           0.7088545428512062,
           0.7088545428512062,
           0.7088545428512062,
           0.7088545428512062,
           0.7088545428512062,
           0.7088545428512062,
           0.7088545428512062,
           0.7088545428512062,
           0.7088545428512062,
           0.7088545428512062,
           0.7088545428512062,
           0.7088545428512062,
           0.7088545428512062,
           0.7088545428512062,
           0.7088545428512062,
           0.7088545428512062,
           0.7088545428512062,
           0.7088545428512062,
           0.7088545428512062,
           0.7088545428512062,
           0.7088545428512062,
           0.7088545428512062,
           0.7088545428512062,
           0.7088545428512062,
           0.7088545428512062,
           0.7088545428512062,
           0.7088545428512062,
           0.7088545428512062,
           0.7088545428512062,
           0.7088545428512062,
           0.7088545428512062,
           0.7088545428512062,
           0.7088545428512062,
           0.7088545428512062,
           0.7088545428512062,
           0.7088545428512062,
           0.7088545428512062,
           0.7088545428512062,
           0.7088545428512062,
           0.7088545428512062,
           0.7088545428512062,
           0.7088545428512062,
           0.7088545428512062,
           0.7088545428512062,
           0.7088545428512062,
           0.7088545428512062,
           0.7088545428512062,
           0.7088545428512062,
           0.7088545428512062
          ],
          [
           0.8088545428512062,
           0.8088545428512062,
           0.8088545428512062,
           0.8088545428512062,
           0.8088545428512062,
           0.8088545428512062,
           0.8088545428512062,
           0.8088545428512062,
           0.8088545428512062,
           0.8088545428512062,
           0.8088545428512062,
           0.8088545428512062,
           0.8088545428512062,
           0.8088545428512062,
           0.8088545428512062,
           0.8088545428512062,
           0.8088545428512062,
           0.8088545428512062,
           0.8088545428512062,
           0.8088545428512062,
           0.8088545428512062,
           0.8088545428512062,
           0.8088545428512062,
           0.8088545428512062,
           0.8088545428512062,
           0.8088545428512062,
           0.8088545428512062,
           0.8088545428512062,
           0.8088545428512062,
           0.8088545428512062,
           0.8088545428512062,
           0.8088545428512062,
           0.8088545428512062,
           0.8088545428512062,
           0.8088545428512062,
           0.8088545428512062,
           0.8088545428512062,
           0.8088545428512062,
           0.8088545428512062,
           0.8088545428512062,
           0.8088545428512062,
           0.8088545428512062,
           0.8088545428512062,
           0.8088545428512062,
           0.8088545428512062,
           0.8088545428512062,
           0.8088545428512062,
           0.8088545428512062,
           0.8088545428512062,
           0.8088545428512062,
           0.8088545428512062,
           0.8088545428512062,
           0.8088545428512062,
           0.8088545428512062,
           0.8088545428512062,
           0.8088545428512062,
           0.8088545428512062,
           0.8088545428512062,
           0.8088545428512062,
           0.8088545428512062,
           0.8088545428512062,
           0.8088545428512062,
           0.8088545428512062,
           0.8088545428512062,
           0.8088545428512062,
           0.8088545428512062,
           0.8088545428512062,
           0.8088545428512062,
           0.8088545428512062,
           0.8088545428512062,
           0.8088545428512062,
           0.8088545428512062,
           0.8088545428512062,
           0.8088545428512062,
           0.8088545428512062,
           0.8088545428512062,
           0.8088545428512062,
           0.8088545428512062,
           0.8088545428512062,
           0.8088545428512062,
           0.8088545428512062,
           0.8088545428512062,
           0.8088545428512062,
           0.8088545428512062,
           0.8088545428512062,
           0.8088545428512062,
           0.8088545428512062,
           0.8088545428512062,
           0.8088545428512062,
           0.8088545428512062,
           0.8088545428512062,
           0.8088545428512062,
           0.8088545428512062,
           0.8088545428512062,
           0.8088545428512062,
           0.8088545428512062,
           0.8088545428512062,
           0.8088545428512062,
           0.8088545428512062,
           0.8088545428512062,
           0.8088545428512062,
           0.8088545428512062,
           0.8088545428512062,
           0.8088545428512062,
           0.8088545428512062,
           0.8088545428512062,
           0.8088545428512062,
           0.8088545428512062,
           0.8088545428512062,
           0.8088545428512062,
           0.8088545428512062,
           0.8088545428512062,
           0.8088545428512062,
           0.8088545428512062,
           0.8088545428512062,
           0.8088545428512062,
           0.8088545428512062,
           0.8088545428512062,
           0.8088545428512062
          ],
          [
           0.9088545428512061,
           0.9088545428512061,
           0.9088545428512061,
           0.9088545428512061,
           0.9088545428512061,
           0.9088545428512061,
           0.9088545428512061,
           0.9088545428512061,
           0.9088545428512061,
           0.9088545428512061,
           0.9088545428512061,
           0.9088545428512061,
           0.9088545428512061,
           0.9088545428512061,
           0.9088545428512061,
           0.9088545428512061,
           0.9088545428512061,
           0.9088545428512061,
           0.9088545428512061,
           0.9088545428512061,
           0.9088545428512061,
           0.9088545428512061,
           0.9088545428512061,
           0.9088545428512061,
           0.9088545428512061,
           0.9088545428512061,
           0.9088545428512061,
           0.9088545428512061,
           0.9088545428512061,
           0.9088545428512061,
           0.9088545428512061,
           0.9088545428512061,
           0.9088545428512061,
           0.9088545428512061,
           0.9088545428512061,
           0.9088545428512061,
           0.9088545428512061,
           0.9088545428512061,
           0.9088545428512061,
           0.9088545428512061,
           0.9088545428512061,
           0.9088545428512061,
           0.9088545428512061,
           0.9088545428512061,
           0.9088545428512061,
           0.9088545428512061,
           0.9088545428512061,
           0.9088545428512061,
           0.9088545428512061,
           0.9088545428512061,
           0.9088545428512061,
           0.9088545428512061,
           0.9088545428512061,
           0.9088545428512061,
           0.9088545428512061,
           0.9088545428512061,
           0.9088545428512061,
           0.9088545428512061,
           0.9088545428512061,
           0.9088545428512061,
           0.9088545428512061,
           0.9088545428512061,
           0.9088545428512061,
           0.9088545428512061,
           0.9088545428512061,
           0.9088545428512061,
           0.9088545428512061,
           0.9088545428512061,
           0.9088545428512061,
           0.9088545428512061,
           0.9088545428512061,
           0.9088545428512061,
           0.9088545428512061,
           0.9088545428512061,
           0.9088545428512061,
           0.9088545428512061,
           0.9088545428512061,
           0.9088545428512061,
           0.9088545428512061,
           0.9088545428512061,
           0.9088545428512061,
           0.9088545428512061,
           0.9088545428512061,
           0.9088545428512061,
           0.9088545428512061,
           0.9088545428512061,
           0.9088545428512061,
           0.9088545428512061,
           0.9088545428512061,
           0.9088545428512061,
           0.9088545428512061,
           0.9088545428512061,
           0.9088545428512061,
           0.9088545428512061,
           0.9088545428512061,
           0.9088545428512061,
           0.9088545428512061,
           0.9088545428512061,
           0.9088545428512061,
           0.9088545428512061,
           0.9088545428512061,
           0.9088545428512061,
           0.9088545428512061,
           0.9088545428512061,
           0.9088545428512061,
           0.9088545428512061,
           0.9088545428512061,
           0.9088545428512061,
           0.9088545428512061,
           0.9088545428512061,
           0.9088545428512061,
           0.9088545428512061,
           0.9088545428512061,
           0.9088545428512061,
           0.9088545428512061,
           0.9088545428512061,
           0.9088545428512061,
           0.9088545428512061,
           0.9088545428512061
          ]
         ],
         "z": [
          [
           0.4201260125146194,
           0.4283942602611128,
           0.4366625080076064,
           0.44493075575409985,
           0.45319900350059344,
           0.46146725124708693,
           0.4697354989935805,
           0.47800374674007395,
           0.48627199448656755,
           0.494540242233061,
           0.5028084899795544,
           0.511076737726048,
           0.5193449854725415,
           0.5276132332190351,
           0.5358814809655285,
           0.544149728712022,
           0.5524179764585155,
           0.5606862242050091,
           0.5689544719515026,
           0.577222719697996,
           0.5854909674444896,
           0.5937592151909831,
           0.6020274629374767,
           0.61029571068397,
           0.6185639584304636,
           0.6268322061769571,
           0.6351004539234506,
           0.6433687016699442,
           0.6516369494164378,
           0.6599051971629312,
           0.6681734449094247,
           0.6764416926559182,
           0.6847099404024116,
           0.6929781881489052,
           0.7012464358953987,
           0.7095146836418922,
           0.7177829313883858,
           0.7260511791348792,
           0.7343194268813727,
           0.7425876746278662,
           0.7508559223743598,
           0.7591241701208532,
           0.7673924178673467,
           0.7756606656138405,
           0.7839289133603339,
           0.7921971611068274,
           0.8004654088533207,
           0.8087336565998143,
           0.8170019043463079,
           0.8252701520928014,
           0.8335383998392949,
           0.8418066475857885,
           0.8500748953322819,
           0.8583431430787755,
           0.866611390825269,
           0.8748796385717625,
           0.8831478863182559,
           0.8914161340647494,
           0.899684381811243,
           0.9079526295577366,
           0.9162208773042301,
           0.9244891250507234,
           0.9327573727972169,
           0.9410256205437105,
           0.9492938682902041,
           0.9575621160366975,
           0.965830363783191,
           0.9740986115296846,
           0.9823668592761781,
           0.9906351070226714,
           0.998903354769165,
           1.0071716025156587,
           1.015439850262152,
           1.0237080980086455,
           1.031976345755139,
           1.0402445935016327,
           1.0485128412481262,
           1.0567810889946196,
           1.0650493367411131,
           1.0733175844876066,
           1.0815858322341003,
           1.0898540799805936,
           1.098122327727087,
           1.1063905754735808,
           1.1146588232200743,
           1.1229270709665677,
           1.1311953187130614,
           1.1394635664595547,
           1.1477318142060482,
           1.1560000619525417,
           1.1642683096990354,
           1.1725365574455289,
           1.1808048051920224,
           1.1890730529385158,
           1.1973413006850093,
           1.2056095484315028,
           1.2138777961779963,
           1.2221460439244898,
           1.2304142916709833,
           1.238682539417477,
           1.2469507871639702,
           1.255219034910464,
           1.2634872826569574,
           1.271755530403451,
           1.2800237781499444,
           1.2882920258964379,
           1.2965602736429314,
           1.304828521389425,
           1.3130967691359186,
           1.3213650168824118,
           1.3296332646289055,
           1.337901512375399,
           1.3461697601218925,
           1.354438007868386,
           1.3627062556148795,
           1.370974503361373,
           1.3792427511078666,
           1.3875109988543601,
           1.3957792466008536
          ],
          [
           0.3850367418172753,
           0.3933049895637688,
           0.4015732373102624,
           0.4098414850567558,
           0.4181097328032494,
           0.42637798054974285,
           0.4346462282962364,
           0.4429144760427299,
           0.4511827237892234,
           0.45945097153571696,
           0.4677192192822104,
           0.475987467028704,
           0.4842557147751974,
           0.492523962521691,
           0.5007922102681844,
           0.5090604580146779,
           0.5173287057611715,
           0.525596953507665,
           0.5338652012541585,
           0.542133449000652,
           0.5504016967471456,
           0.558669944493639,
           0.5669381922401325,
           0.575206439986626,
           0.5834746877331196,
           0.5917429354796131,
           0.6000111832261065,
           0.6082794309726001,
           0.6165476787190937,
           0.6248159264655871,
           0.6330841742120806,
           0.6413524219585742,
           0.6496206697050676,
           0.6578889174515612,
           0.6661571651980547,
           0.674425412944548,
           0.6826936606910416,
           0.6909619084375351,
           0.6992301561840287,
           0.7074984039305222,
           0.7157666516770158,
           0.7240348994235092,
           0.7323031471700027,
           0.7405713949164964,
           0.7488396426629899,
           0.7571078904094833,
           0.7653761381559767,
           0.7736443859024703,
           0.7819126336489639,
           0.7901808813954574,
           0.7984491291419508,
           0.8067173768884444,
           0.8149856246349378,
           0.8232538723814314,
           0.8315221201279249,
           0.8397903678744185,
           0.8480586156209119,
           0.8563268633674054,
           0.864595111113899,
           0.8728633588603926,
           0.8811316066068859,
           0.8893998543533794,
           0.8976681020998729,
           0.9059363498463665,
           0.9142045975928601,
           0.9224728453393535,
           0.930741093085847,
           0.9390093408323406,
           0.9472775885788339,
           0.9555458363253274,
           0.963814084071821,
           0.9720823318183146,
           0.9803505795648081,
           0.9886188273113015,
           0.996887075057795,
           1.0051553228042887,
           1.0134235705507821,
           1.0216918182972756,
           1.029960066043769,
           1.0382283137902626,
           1.0464965615367563,
           1.0547648092832496,
           1.063033057029743,
           1.0713013047762368,
           1.07956955252273,
           1.0878378002692237,
           1.0961060480157174,
           1.1043742957622107,
           1.1126425435087042,
           1.1209107912551977,
           1.1291790390016911,
           1.1374472867481848,
           1.1457155344946783,
           1.1539837822411718,
           1.1622520299876653,
           1.1705202777341588,
           1.1787885254806523,
           1.1870567732271458,
           1.1953250209736392,
           1.2035932687201327,
           1.2118615164666262,
           1.22012976421312,
           1.2283980119596134,
           1.2366662597061069,
           1.2449345074526004,
           1.2532027551990939,
           1.2614710029455873,
           1.269739250692081,
           1.2780074984385743,
           1.2862757461850678,
           1.2945439939315615,
           1.302812241678055,
           1.3110804894245485,
           1.319348737171042,
           1.3276169849175354,
           1.335885232664029,
           1.3441534804105226,
           1.352421728157016,
           1.3606899759035096
          ],
          [
           0.34994747111993124,
           0.35821571886642467,
           0.3664839666129183,
           0.37475221435941175,
           0.38302046210590535,
           0.39128870985239883,
           0.3995569575988923,
           0.40782520534538585,
           0.4160934530918794,
           0.4243617008383729,
           0.4326299485848663,
           0.4408981963313599,
           0.4491664440778534,
           0.457434691824347,
           0.4657029395708404,
           0.4739711873173339,
           0.48223943506382744,
           0.490507682810321,
           0.49877593055681446,
           0.507044178303308,
           0.5153124260498015,
           0.5235806737962949,
           0.5318489215427885,
           0.540117169289282,
           0.5483854170357756,
           0.5566536647822691,
           0.5649219125287624,
           0.573190160275256,
           0.5814584080217496,
           0.5897266557682431,
           0.5979949035147365,
           0.6062631512612301,
           0.6145313990077236,
           0.6227996467542172,
           0.6310678945007107,
           0.639336142247204,
           0.6476043899936976,
           0.6558726377401911,
           0.6641408854866847,
           0.6724091332331781,
           0.6806773809796717,
           0.6889456287261652,
           0.6972138764726586,
           0.7054821242191524,
           0.7137503719656458,
           0.7220186197121392,
           0.7302868674586327,
           0.7385551152051263,
           0.7468233629516199,
           0.7550916106981134,
           0.7633598584446067,
           0.7716281061911003,
           0.7798963539375938,
           0.7881646016840874,
           0.7964328494305808,
           0.8047010971770744,
           0.8129693449235679,
           0.8212375926700614,
           0.829505840416555,
           0.8377740881630485,
           0.8460423359095419,
           0.8543105836560354,
           0.8625788314025288,
           0.8708470791490224,
           0.879115326895516,
           0.8873835746420095,
           0.8956518223885029,
           0.9039200701349965,
           0.9121883178814899,
           0.9204565656279834,
           0.928724813374477,
           0.9369930611209706,
           0.945261308867464,
           0.9535295566139574,
           0.9617978043604509,
           0.9700660521069446,
           0.9783342998534381,
           0.9866025475999315,
           0.994870795346425,
           1.0031390430929186,
           1.011407290839412,
           1.0196755385859055,
           1.027943786332399,
           1.0362120340788927,
           1.044480281825386,
           1.0527485295718797,
           1.0610167773183732,
           1.0692850250648667,
           1.0775532728113602,
           1.0858215205578536,
           1.0940897683043471,
           1.1023580160508408,
           1.1106262637973343,
           1.1188945115438276,
           1.1271627592903213,
           1.1354310070368148,
           1.1436992547833083,
           1.1519675025298017,
           1.1602357502762952,
           1.1685039980227887,
           1.1767722457692822,
           1.185040493515776,
           1.1933087412622694,
           1.2015769890087629,
           1.2098452367552563,
           1.2181134845017498,
           1.2263817322482433,
           1.234649979994737,
           1.2429182277412303,
           1.2511864754877238,
           1.2594547232342175,
           1.267722970980711,
           1.2759912187272044,
           1.284259466473698,
           1.2925277142201914,
           1.300795961966685,
           1.3090642097131786,
           1.3173324574596719,
           1.3256007052061656
          ],
          [
           0.31485820042258716,
           0.3231264481690806,
           0.3313946959155742,
           0.3396629436620677,
           0.34793119140856127,
           0.3561994391550547,
           0.3644676869015482,
           0.3727359346480417,
           0.38100418239453526,
           0.38927243014102875,
           0.3975406778875222,
           0.40580892563401577,
           0.41407717338050926,
           0.42234542112700285,
           0.4306136688734963,
           0.4388819166199898,
           0.4471501643664833,
           0.45541841211297684,
           0.46368665985947033,
           0.4719549076059638,
           0.4802231553524574,
           0.48849140309895084,
           0.4967596508454443,
           0.5050278985919379,
           0.5132961463384315,
           0.5215643940849249,
           0.5298326418314183,
           0.5381008895779119,
           0.5463691373244055,
           0.554637385070899,
           0.5629056328173924,
           0.571173880563886,
           0.5794421283103794,
           0.587710376056873,
           0.5959786238033665,
           0.6042468715498599,
           0.6125151192963535,
           0.620783367042847,
           0.6290516147893406,
           0.6373198625358341,
           0.6455881102823277,
           0.653856358028821,
           0.6621246057753145,
           0.6703928535218082,
           0.6786611012683017,
           0.6869293490147951,
           0.6951975967612886,
           0.7034658445077822,
           0.7117340922542758,
           0.7200023400007692,
           0.7282705877472627,
           0.7365388354937562,
           0.7448070832402496,
           0.7530753309867434,
           0.7613435787332368,
           0.7696118264797303,
           0.7778800742262236,
           0.7861483219727171,
           0.7944165697192108,
           0.8026848174657043,
           0.8109530652121978,
           0.8192213129586912,
           0.8274895607051846,
           0.8357578084516784,
           0.8440260561981718,
           0.8522943039446652,
           0.8605625516911587,
           0.8688307994376524,
           0.8770990471841459,
           0.8853672949306394,
           0.8936355426771327,
           0.9019037904236266,
           0.9101720381701199,
           0.9184402859166134,
           0.9267085336631068,
           0.9349767814096006,
           0.9432450291560941,
           0.9515132769025875,
           0.959781524649081,
           0.9680497723955743,
           0.9763180201420681,
           0.9845862678885615,
           0.992854515635055,
           1.0011227633815485,
           1.009391011128042,
           1.0176592588745357,
           1.0259275066210292,
           1.0341957543675224,
           1.042464002114016,
           1.0507322498605094,
           1.059000497607003,
           1.0672687453534966,
           1.07553699309999,
           1.0838052408464836,
           1.0920734885929773,
           1.1003417363394707,
           1.108609984085964,
           1.1168782318324575,
           1.125146479578951,
           1.1334147273254447,
           1.1416829750719382,
           1.1499512228184317,
           1.1582194705649254,
           1.1664877183114188,
           1.1747559660579123,
           1.1830242138044056,
           1.191292461550899,
           1.1995607092973928,
           1.2078289570438863,
           1.2160972047903797,
           1.2243654525368732,
           1.232633700283367,
           1.2409019480298604,
           1.249170195776354,
           1.2574384435228472,
           1.2657066912693407,
           1.2739749390158344,
           1.2822431867623278,
           1.2905114345088213
          ],
          [
           0.27976892972524314,
           0.28803717747173657,
           0.29630542521823017,
           0.3045736729647236,
           0.3128419207112172,
           0.3211101684577106,
           0.32937841620420416,
           0.3376466639506977,
           0.3459149116971912,
           0.3541831594436847,
           0.36245140719017815,
           0.37071965493667175,
           0.3789879026831652,
           0.3872561504296588,
           0.3955243981761522,
           0.40379264592264574,
           0.4120608936691393,
           0.42032914141563277,
           0.4285973891621263,
           0.43686563690861974,
           0.44513388465511333,
           0.45340213240160676,
           0.4616703801481003,
           0.46993862789459384,
           0.47820687564108744,
           0.48647512338758087,
           0.4947433711340743,
           0.5030116188805679,
           0.5112798666270615,
           0.519548114373555,
           0.5278163621200483,
           0.5360846098665419,
           0.5443528576130354,
           0.552621105359529,
           0.5608893531060224,
           0.5691576008525159,
           0.5774258485990095,
           0.585694096345503,
           0.5939623440919966,
           0.6022305918384899,
           0.6104988395849835,
           0.618767087331477,
           0.6270353350779705,
           0.6353035828244642,
           0.6435718305709577,
           0.651840078317451,
           0.6601083260639445,
           0.6683765738104381,
           0.6766448215569317,
           0.6849130693034251,
           0.6931813170499186,
           0.7014495647964122,
           0.7097178125429057,
           0.7179860602893993,
           0.7262543080358925,
           0.7345225557823862,
           0.7427908035288796,
           0.7510590512753731,
           0.7593272990218667,
           0.7675955467683603,
           0.7758637945148537,
           0.7841320422613471,
           0.7924002900078406,
           0.8006685377543342,
           0.8089367855008278,
           0.8172050332473212,
           0.8254732809938147,
           0.8337415287403083,
           0.8420097764868016,
           0.8502780242332951,
           0.8585462719797887,
           0.8668145197262823,
           0.8750827674727758,
           0.8833510152192692,
           0.8916192629657627,
           0.8998875107122564,
           0.9081557584587499,
           0.9164240062052432,
           0.9246922539517367,
           0.9329605016982303,
           0.9412287494447239,
           0.9494969971912174,
           0.9577652449377108,
           0.9660334926842044,
           0.9743017404306978,
           0.9825699881771914,
           0.990838235923685,
           0.9991064836701785,
           1.0073747314166719,
           1.0156429791631654,
           1.0239112269096589,
           1.0321794746561526,
           1.040447722402646,
           1.0487159701491393,
           1.056984217895633,
           1.0652524656421265,
           1.07352071338862,
           1.0817889611351135,
           1.090057208881607,
           1.0983254566281004,
           1.106593704374594,
           1.1148619521210876,
           1.1231301998675811,
           1.1313984476140746,
           1.139666695360568,
           1.1479349431070616,
           1.156203190853555,
           1.1644714386000488,
           1.172739686346542,
           1.1810079340930355,
           1.1892761818395292,
           1.1975444295860227,
           1.2058126773325162,
           1.2140809250790097,
           1.2223491728255031,
           1.2306174205719966,
           1.2388856683184903,
           1.2471539160649836,
           1.2554221638114773
          ],
          [
           0.24467965902789904,
           0.2529479067743925,
           0.2612161545208861,
           0.2694844022673795,
           0.2777526500138731,
           0.28602089776036654,
           0.2942891455068601,
           0.30255739325335357,
           0.3108256409998471,
           0.31909388874634065,
           0.3273621364928341,
           0.3356303842393277,
           0.3438986319858211,
           0.3521668797323147,
           0.3604351274788081,
           0.3687033752253017,
           0.37697162297179515,
           0.38523987071828875,
           0.3935081184647822,
           0.4017763662112756,
           0.4100446139577692,
           0.41831286170426263,
           0.4265811094507563,
           0.4348493571972497,
           0.4431176049437433,
           0.45138585269023673,
           0.45965410043673016,
           0.46792234818322376,
           0.47619059592971735,
           0.4844588436762108,
           0.49272709142270427,
           0.5009953391691978,
           0.5092635869156913,
           0.5175318346621849,
           0.5258000824086784,
           0.5340683301551717,
           0.5423365779016653,
           0.5506048256481588,
           0.5588730733946524,
           0.5671413211411458,
           0.5754095688876394,
           0.5836778166341329,
           0.5919460643806264,
           0.6002143121271201,
           0.6084825598736135,
           0.6167508076201069,
           0.6250190553666004,
           0.633287303113094,
           0.6415555508595876,
           0.649823798606081,
           0.6580920463525745,
           0.666360294099068,
           0.6746285418455615,
           0.6828967895920551,
           0.6911650373385485,
           0.6994332850850421,
           0.7077015328315356,
           0.715969780578029,
           0.7242380283245227,
           0.7325062760710163,
           0.7407745238175096,
           0.7490427715640031,
           0.7573110193104965,
           0.7655792670569901,
           0.7738475148034837,
           0.7821157625499772,
           0.7903840102964707,
           0.7986522580429642,
           0.8069205057894576,
           0.8151887535359511,
           0.8234570012824447,
           0.8317252490289383,
           0.8399934967754317,
           0.8482617445219252,
           0.8565299922684186,
           0.8647982400149123,
           0.8730664877614058,
           0.8813347355078992,
           0.8896029832543927,
           0.8978712310008863,
           0.9061394787473799,
           0.9144077264938733,
           0.9226759742403667,
           0.9309442219868603,
           0.9392124697333538,
           0.9474807174798474,
           0.955748965226341,
           0.9640172129728344,
           0.9722854607193279,
           0.9805537084658212,
           0.988821956212315,
           0.9970902039588085,
           1.005358451705302,
           1.0136266994517953,
           1.021894947198289,
           1.0301631949447825,
           1.038431442691276,
           1.0466996904377694,
           1.054967938184263,
           1.0632361859307564,
           1.07150443367725,
           1.0797726814237436,
           1.088040929170237,
           1.0963091769167306,
           1.104577424663224,
           1.1128456724097173,
           1.121113920156211,
           1.1293821679027047,
           1.137650415649198,
           1.1459186633956915,
           1.1541869111421852,
           1.1624551588886787,
           1.1707234066351722,
           1.1789916543816656,
           1.1872599021281591,
           1.1955281498746526,
           1.2037963976211463,
           1.2120646453676396,
           1.2203328931141333
          ],
          [
           0.20959038833055496,
           0.2178586360770484,
           0.22612688382354199,
           0.23439513157003544,
           0.24266337931652904,
           0.25093162706302247,
           0.259199874809516,
           0.2674681225560095,
           0.27573637030250303,
           0.28400461804899657,
           0.29227286579549,
           0.3005411135419836,
           0.308809361288477,
           0.3170776090349706,
           0.32534585678146405,
           0.3336141045279576,
           0.3418823522744511,
           0.3501506000209446,
           0.35841884776743815,
           0.3666870955139316,
           0.3749553432604252,
           0.3832235910069186,
           0.39149183875341215,
           0.39976008649990563,
           0.4080283342463992,
           0.4162965819928927,
           0.42456482973938614,
           0.43283307748587974,
           0.44110132523237333,
           0.44936957297886676,
           0.4576378207253602,
           0.4659060684718538,
           0.4741743162183472,
           0.4824425639648408,
           0.4907108117113343,
           0.4989790594578277,
           0.5072473072043213,
           0.5155155549508148,
           0.5237838026973084,
           0.5320520504438018,
           0.5403202981902954,
           0.5485885459367889,
           0.5568567936832822,
           0.565125041429776,
           0.5733932891762694,
           0.5816615369227629,
           0.5899297846692564,
           0.59819803241575,
           0.6064662801622436,
           0.614734527908737,
           0.6230027756552304,
           0.631271023401724,
           0.6395392711482174,
           0.647807518894711,
           0.6560757666412045,
           0.6643440143876981,
           0.6726122621341916,
           0.6808805098806849,
           0.6891487576271785,
           0.6974170053736721,
           0.7056852531201656,
           0.7139535008666591,
           0.7222217486131525,
           0.7304899963596461,
           0.7387582441061397,
           0.7470264918526331,
           0.7552947395991265,
           0.7635629873456201,
           0.7718312350921136,
           0.7800994828386071,
           0.7883677305851007,
           0.7966359783315943,
           0.8049042260780876,
           0.8131724738245811,
           0.8214407215710745,
           0.8297089693175683,
           0.8379772170640617,
           0.8462454648105552,
           0.8545137125570487,
           0.8627819603035423,
           0.8710502080500359,
           0.8793184557965292,
           0.8875867035430227,
           0.8958549512895163,
           0.9041231990360097,
           0.9123914467825033,
           0.920659694528997,
           0.9289279422754904,
           0.9371961900219838,
           0.9454644377684772,
           0.9537326855149708,
           0.9620009332614644,
           0.9702691810079579,
           0.9785374287544514,
           0.986805676500945,
           0.9950739242474383,
           1.003342171993932,
           1.0116104197404254,
           1.019878667486919,
           1.0281469152334124,
           1.0364151629799059,
           1.0446834107263994,
           1.052951658472893,
           1.0612199062193866,
           1.06948815396588,
           1.0777564017123733,
           1.086024649458867,
           1.0942928972053605,
           1.102561144951854,
           1.1108293926983475,
           1.1190976404448412,
           1.1273658881913347,
           1.1356341359378281,
           1.1439023836843216,
           1.1521706314308149,
           1.1604388791773086,
           1.168707126923802,
           1.1769753746702956,
           1.1852436224167893
          ],
          [
           0.17450111763321088,
           0.1827693653797043,
           0.1910376131261979,
           0.19930586087269134,
           0.20757410861918493,
           0.2158423563656784,
           0.2241106041121719,
           0.23237885185866541,
           0.24064709960515895,
           0.24891534735165247,
           0.2571835950981459,
           0.2654518428446395,
           0.27372009059113295,
           0.28198833833762654,
           0.29025658608411997,
           0.2985248338306135,
           0.306793081577107,
           0.31506132932360054,
           0.3233295770700941,
           0.3315978248165875,
           0.3398660725630811,
           0.34813432030957453,
           0.35640256805606807,
           0.3646708158025616,
           0.3729390635490552,
           0.38120731129554863,
           0.38947555904204206,
           0.39774380678853566,
           0.40601205453502925,
           0.41428030228152274,
           0.42254855002801617,
           0.43081679777450976,
           0.4390850455210032,
           0.4473532932674968,
           0.4556215410139902,
           0.46388978876048365,
           0.47215803650697724,
           0.4804262842534707,
           0.4886945319999643,
           0.49696277974645775,
           0.5052310274929513,
           0.5134992752394448,
           0.5217675229859382,
           0.530035770732432,
           0.5383040184789254,
           0.5465722662254189,
           0.5548405139719123,
           0.5631087617184058,
           0.5713770094648994,
           0.5796452572113929,
           0.5879135049578864,
           0.59618175270438,
           0.6044500004508734,
           0.612718248197367,
           0.6209864959438605,
           0.6292547436903541,
           0.6375229914368474,
           0.6457912391833409,
           0.6540594869298345,
           0.6623277346763281,
           0.6705959824228216,
           0.678864230169315,
           0.6871324779158084,
           0.695400725662302,
           0.7036689734087956,
           0.7119372211552891,
           0.7202054689017825,
           0.7284737166482761,
           0.7367419643947696,
           0.745010212141263,
           0.7532784598877565,
           0.7615467076342501,
           0.7698149553807436,
           0.7780832031272371,
           0.7863514508737305,
           0.7946196986202243,
           0.8028879463667177,
           0.8111561941132112,
           0.8194244418597045,
           0.8276926896061981,
           0.8359609373526917,
           0.8442291850991852,
           0.8524974328456787,
           0.8607656805921723,
           0.8690339283386657,
           0.8773021760851593,
           0.8855704238316529,
           0.8938386715781463,
           0.9021069193246397,
           0.9103751670711332,
           0.9186434148176268,
           0.9269116625641204,
           0.9351799103106139,
           0.9434481580571072,
           0.9517164058036008,
           0.9599846535500943,
           0.9682529012965879,
           0.9765211490430814,
           0.9847893967895748,
           0.9930576445360684,
           1.0013258922825619,
           1.0095941400290553,
           1.017862387775549,
           1.0261306355220425,
           1.0343988832685358,
           1.0426671310150293,
           1.050935378761523,
           1.0592036265080165,
           1.06747187425451,
           1.0757401220010034,
           1.084008369747497,
           1.0922766174939906,
           1.1005448652404841,
           1.1088131129869776,
           1.1170813607334709,
           1.1253496084799646,
           1.133617856226458,
           1.1418861039729515,
           1.1501543517194452
          ],
          [
           0.13941184693586683,
           0.14768009468236026,
           0.15594834242885386,
           0.16421659017534732,
           0.1724848379218409,
           0.18075308566833434,
           0.18902133341482785,
           0.19728958116132136,
           0.2055578289078149,
           0.21382607665430842,
           0.22209432440080185,
           0.23036257214729544,
           0.2386308198937889,
           0.2468990676402825,
           0.25516731538677595,
           0.26343556313326943,
           0.271703810879763,
           0.27997205862625646,
           0.28824030637275,
           0.29650855411924343,
           0.304776801865737,
           0.31304504961223045,
           0.321313297358724,
           0.32958154510521753,
           0.33784979285171113,
           0.34611804059820456,
           0.354386288344698,
           0.36265453609119164,
           0.37092278383768523,
           0.37919103158417866,
           0.3874592793306721,
           0.3957275270771657,
           0.40399577482365917,
           0.41226402257015277,
           0.4205322703166462,
           0.4288005180631396,
           0.4370687658096332,
           0.44533701355612665,
           0.45360526130262024,
           0.4618735090491137,
           0.4701417567956073,
           0.47841000454210075,
           0.4866782522885942,
           0.49494650003508794,
           0.5032147477815814,
           0.5114829955280749,
           0.5197512432745682,
           0.5280194910210618,
           0.5362877387675554,
           0.5445559865140489,
           0.5528242342605423,
           0.5610924820070359,
           0.5693607297535294,
           0.577628977500023,
           0.5858972252465164,
           0.59416547299301,
           0.6024337207395034,
           0.6107019684859969,
           0.6189702162324905,
           0.6272384639789841,
           0.6355067117254775,
           0.6437749594719709,
           0.6520432072184644,
           0.660311454964958,
           0.6685797027114516,
           0.676847950457945,
           0.6851161982044385,
           0.6933844459509321,
           0.7016526936974256,
           0.7099209414439189,
           0.7181891891904125,
           0.7264574369369061,
           0.7347256846833996,
           0.742993932429893,
           0.7512621801763865,
           0.7595304279228802,
           0.7677986756693737,
           0.7760669234158671,
           0.7843351711623605,
           0.7926034189088541,
           0.8008716666553477,
           0.8091399144018412,
           0.8174081621483346,
           0.8256764098948282,
           0.8339446576413216,
           0.8422129053878152,
           0.8504811531343088,
           0.8587494008808023,
           0.8670176486272957,
           0.8752858963737892,
           0.8835541441202828,
           0.8918223918667764,
           0.9000906396132697,
           0.9083588873597632,
           0.9166271351062568,
           0.9248953828527503,
           0.9331636305992439,
           0.9414318783457373,
           0.9497001260922308,
           0.9579683738387244,
           0.9662366215852178,
           0.9745048693317114,
           0.982773117078205,
           0.9910413648246984,
           0.9993096125711919,
           1.0075778603176853,
           1.015846108064179,
           1.0241143558106724,
           1.032382603557166,
           1.0406508513036594,
           1.048919099050153,
           1.0571873467966466,
           1.06545559454314,
           1.0737238422896334,
           1.0819920900361268,
           1.0902603377826205,
           1.098528585529114,
           1.1067968332756075,
           1.1150650810221012
          ],
          [
           0.10432257623852274,
           0.11259082398501617,
           0.12085907173150978,
           0.1291273194780032,
           0.1373955672244968,
           0.14566381497099026,
           0.15393206271748378,
           0.1622003104639773,
           0.1704685582104708,
           0.17873680595696434,
           0.18700505370345777,
           0.19527330144995136,
           0.2035415491964448,
           0.21180979694293842,
           0.22007804468943185,
           0.22834629243592536,
           0.23661454018241887,
           0.2448827879289124,
           0.2531510356754059,
           0.26141928342189935,
           0.26968753116839295,
           0.2779557789148864,
           0.2862240266613799,
           0.29449227440787346,
           0.30276052215436705,
           0.3110287699008605,
           0.3192970176473539,
           0.3275652653938475,
           0.3358335131403411,
           0.34410176088683453,
           0.35237000863332796,
           0.3606382563798216,
           0.36890650412631504,
           0.37717475187280863,
           0.38544299961930206,
           0.3937112473657955,
           0.4019794951122891,
           0.4102477428587825,
           0.4185159906052761,
           0.4267842383517696,
           0.4350524860982632,
           0.4433207338447566,
           0.45158898159125005,
           0.4598572293377438,
           0.46812547708423724,
           0.47639372483073067,
           0.4846619725772241,
           0.49293022032371775,
           0.5011984680702113,
           0.5094667158167048,
           0.5177349635631981,
           0.5260032113096917,
           0.5342714590561852,
           0.5425397068026788,
           0.5508079545491723,
           0.5590762022956659,
           0.5673444500421593,
           0.5756126977886528,
           0.5838809455351464,
           0.59214919328164,
           0.6004174410281334,
           0.6086856887746268,
           0.6169539365211203,
           0.6252221842676139,
           0.6334904320141075,
           0.6417586797606009,
           0.6500269275070943,
           0.6582951752535879,
           0.6665634230000814,
           0.6748316707465748,
           0.6830999184930684,
           0.691368166239562,
           0.6996364139860555,
           0.7079046617325488,
           0.7161729094790423,
           0.724441157225536,
           0.7327094049720294,
           0.7409776527185229,
           0.7492459004650164,
           0.7575141482115101,
           0.7657823959580036,
           0.7740506437044969,
           0.7823188914509904,
           0.7905871391974841,
           0.7988553869439776,
           0.807123634690471,
           0.8153918824369648,
           0.8236601301834582,
           0.8319283779299517,
           0.8401966256764452,
           0.8484648734229385,
           0.8567331211694323,
           0.8650013689159257,
           0.8732696166624192,
           0.8815378644089126,
           0.8898061121554061,
           0.8980743599018999,
           0.9063426076483933,
           0.9146108553948867,
           0.9228791031413801,
           0.9311473508878736,
           0.9394155986343673,
           0.9476838463808608,
           0.9559520941273543,
           0.9642203418738476,
           0.9724885896203411,
           0.9807568373668348,
           0.9890250851133283,
           0.9972933328598217,
           1.0055615806063152,
           1.0138298283528089,
           1.0220980760993024,
           1.0303663238457959,
           1.0386345715922893,
           1.0469028193387826,
           1.0551710670852765,
           1.0634393148317698,
           1.0717075625782633,
           1.079975810324757
          ],
          [
           0.06923330554117865,
           0.0775015532876721,
           0.08576980103416569,
           0.09403804878065913,
           0.10230629652715273,
           0.11057454427364617,
           0.11884279202013968,
           0.1271110397666332,
           0.13537928751312672,
           0.14364753525962023,
           0.1519157830061137,
           0.1601840307526073,
           0.16845227849910072,
           0.1767205262455943,
           0.18498877399208777,
           0.19325702173858128,
           0.2015252694850748,
           0.2097935172315683,
           0.21806176497806184,
           0.22633001272455527,
           0.23459826047104887,
           0.2428665082175423,
           0.25113475596403584,
           0.2594030037105293,
           0.2676712514570229,
           0.2759394992035164,
           0.28420774695000983,
           0.2924759946965034,
           0.300744242442997,
           0.30901249018949045,
           0.3172807379359839,
           0.3255489856824775,
           0.33381723342897096,
           0.34208548117546456,
           0.350353728921958,
           0.3586219766684514,
           0.36689022441494495,
           0.3751584721614384,
           0.38342671990793203,
           0.39169496765442546,
           0.39996321540091906,
           0.4082314631474125,
           0.4164997108939059,
           0.4247679586403997,
           0.4330362063868931,
           0.44130445413338654,
           0.44957270187988,
           0.4578409496263736,
           0.4661091973728672,
           0.47437744511936064,
           0.48264569286585407,
           0.49091394061234767,
           0.4991821883588411,
           0.5074504361053347,
           0.5157186838518282,
           0.5239869315983218,
           0.5322551793448151,
           0.5405234270913086,
           0.5487916748378022,
           0.5570599225842958,
           0.5653281703307893,
           0.5735964180772827,
           0.5818646658237762,
           0.5901329135702698,
           0.5984011613167634,
           0.6066694090632567,
           0.6149376568097502,
           0.6232059045562438,
           0.6314741523027373,
           0.6397424000492307,
           0.6480106477957243,
           0.6562788955422179,
           0.6645471432887113,
           0.6728153910352047,
           0.6810836387816982,
           0.689351886528192,
           0.6976201342746854,
           0.7058883820211789,
           0.7141566297676722,
           0.7224248775141658,
           0.7306931252606594,
           0.7389613730071529,
           0.7472296207536464,
           0.75549786850014,
           0.7637661162466334,
           0.772034363993127,
           0.7803026117396206,
           0.788570859486114,
           0.7968391072326074,
           0.8051073549791009,
           0.8133756027255945,
           0.8216438504720881,
           0.8299120982185816,
           0.838180345965075,
           0.8464485937115686,
           0.854716841458062,
           0.8629850892045556,
           0.871253336951049,
           0.8795215846975425,
           0.8877898324440361,
           0.8960580801905296,
           0.9043263279370232,
           0.9125945756835168,
           0.9208628234300101,
           0.9291310711765036,
           0.937399318922997,
           0.9456675666694907,
           0.9539358144159843,
           0.9622040621624777,
           0.9704723099089712,
           0.9787405576554647,
           0.9870088054019583,
           0.9952770531484517,
           1.003545300894945,
           1.0118135486414386,
           1.0200817963879323,
           1.0283500441344258,
           1.0366182918809193,
           1.044886539627413
          ]
         ]
        }
       ],
       "layout": {
        "coloraxis": {
         "colorbar": {
          "title": {
           "text": "class"
          }
         },
         "colorscale": [
          [
           0,
           "#0d0887"
          ],
          [
           0.1111111111111111,
           "#46039f"
          ],
          [
           0.2222222222222222,
           "#7201a8"
          ],
          [
           0.3333333333333333,
           "#9c179e"
          ],
          [
           0.4444444444444444,
           "#bd3786"
          ],
          [
           0.5555555555555556,
           "#d8576b"
          ],
          [
           0.6666666666666666,
           "#ed7953"
          ],
          [
           0.7777777777777778,
           "#fb9f3a"
          ],
          [
           0.8888888888888888,
           "#fdca26"
          ],
          [
           1,
           "#f0f921"
          ]
         ]
        },
        "legend": {
         "tracegroupgap": 0
        },
        "margin": {
         "t": 60
        },
        "scene": {
         "domain": {
          "x": [
           0,
           1
          ],
          "y": [
           0,
           1
          ]
         },
         "xaxis": {
          "title": {
           "text": "max_zscore"
          }
         },
         "yaxis": {
          "title": {
           "text": "autocorr"
          }
         },
         "zaxis": {
          "title": {
           "text": "mean"
          }
         }
        },
        "template": {
         "data": {
          "bar": [
           {
            "error_x": {
             "color": "#2a3f5f"
            },
            "error_y": {
             "color": "#2a3f5f"
            },
            "marker": {
             "line": {
              "color": "#E5ECF6",
              "width": 0.5
             },
             "pattern": {
              "fillmode": "overlay",
              "size": 10,
              "solidity": 0.2
             }
            },
            "type": "bar"
           }
          ],
          "barpolar": [
           {
            "marker": {
             "line": {
              "color": "#E5ECF6",
              "width": 0.5
             },
             "pattern": {
              "fillmode": "overlay",
              "size": 10,
              "solidity": 0.2
             }
            },
            "type": "barpolar"
           }
          ],
          "carpet": [
           {
            "aaxis": {
             "endlinecolor": "#2a3f5f",
             "gridcolor": "white",
             "linecolor": "white",
             "minorgridcolor": "white",
             "startlinecolor": "#2a3f5f"
            },
            "baxis": {
             "endlinecolor": "#2a3f5f",
             "gridcolor": "white",
             "linecolor": "white",
             "minorgridcolor": "white",
             "startlinecolor": "#2a3f5f"
            },
            "type": "carpet"
           }
          ],
          "choropleth": [
           {
            "colorbar": {
             "outlinewidth": 0,
             "ticks": ""
            },
            "type": "choropleth"
           }
          ],
          "contour": [
           {
            "colorbar": {
             "outlinewidth": 0,
             "ticks": ""
            },
            "colorscale": [
             [
              0,
              "#0d0887"
             ],
             [
              0.1111111111111111,
              "#46039f"
             ],
             [
              0.2222222222222222,
              "#7201a8"
             ],
             [
              0.3333333333333333,
              "#9c179e"
             ],
             [
              0.4444444444444444,
              "#bd3786"
             ],
             [
              0.5555555555555556,
              "#d8576b"
             ],
             [
              0.6666666666666666,
              "#ed7953"
             ],
             [
              0.7777777777777778,
              "#fb9f3a"
             ],
             [
              0.8888888888888888,
              "#fdca26"
             ],
             [
              1,
              "#f0f921"
             ]
            ],
            "type": "contour"
           }
          ],
          "contourcarpet": [
           {
            "colorbar": {
             "outlinewidth": 0,
             "ticks": ""
            },
            "type": "contourcarpet"
           }
          ],
          "heatmap": [
           {
            "colorbar": {
             "outlinewidth": 0,
             "ticks": ""
            },
            "colorscale": [
             [
              0,
              "#0d0887"
             ],
             [
              0.1111111111111111,
              "#46039f"
             ],
             [
              0.2222222222222222,
              "#7201a8"
             ],
             [
              0.3333333333333333,
              "#9c179e"
             ],
             [
              0.4444444444444444,
              "#bd3786"
             ],
             [
              0.5555555555555556,
              "#d8576b"
             ],
             [
              0.6666666666666666,
              "#ed7953"
             ],
             [
              0.7777777777777778,
              "#fb9f3a"
             ],
             [
              0.8888888888888888,
              "#fdca26"
             ],
             [
              1,
              "#f0f921"
             ]
            ],
            "type": "heatmap"
           }
          ],
          "heatmapgl": [
           {
            "colorbar": {
             "outlinewidth": 0,
             "ticks": ""
            },
            "colorscale": [
             [
              0,
              "#0d0887"
             ],
             [
              0.1111111111111111,
              "#46039f"
             ],
             [
              0.2222222222222222,
              "#7201a8"
             ],
             [
              0.3333333333333333,
              "#9c179e"
             ],
             [
              0.4444444444444444,
              "#bd3786"
             ],
             [
              0.5555555555555556,
              "#d8576b"
             ],
             [
              0.6666666666666666,
              "#ed7953"
             ],
             [
              0.7777777777777778,
              "#fb9f3a"
             ],
             [
              0.8888888888888888,
              "#fdca26"
             ],
             [
              1,
              "#f0f921"
             ]
            ],
            "type": "heatmapgl"
           }
          ],
          "histogram": [
           {
            "marker": {
             "pattern": {
              "fillmode": "overlay",
              "size": 10,
              "solidity": 0.2
             }
            },
            "type": "histogram"
           }
          ],
          "histogram2d": [
           {
            "colorbar": {
             "outlinewidth": 0,
             "ticks": ""
            },
            "colorscale": [
             [
              0,
              "#0d0887"
             ],
             [
              0.1111111111111111,
              "#46039f"
             ],
             [
              0.2222222222222222,
              "#7201a8"
             ],
             [
              0.3333333333333333,
              "#9c179e"
             ],
             [
              0.4444444444444444,
              "#bd3786"
             ],
             [
              0.5555555555555556,
              "#d8576b"
             ],
             [
              0.6666666666666666,
              "#ed7953"
             ],
             [
              0.7777777777777778,
              "#fb9f3a"
             ],
             [
              0.8888888888888888,
              "#fdca26"
             ],
             [
              1,
              "#f0f921"
             ]
            ],
            "type": "histogram2d"
           }
          ],
          "histogram2dcontour": [
           {
            "colorbar": {
             "outlinewidth": 0,
             "ticks": ""
            },
            "colorscale": [
             [
              0,
              "#0d0887"
             ],
             [
              0.1111111111111111,
              "#46039f"
             ],
             [
              0.2222222222222222,
              "#7201a8"
             ],
             [
              0.3333333333333333,
              "#9c179e"
             ],
             [
              0.4444444444444444,
              "#bd3786"
             ],
             [
              0.5555555555555556,
              "#d8576b"
             ],
             [
              0.6666666666666666,
              "#ed7953"
             ],
             [
              0.7777777777777778,
              "#fb9f3a"
             ],
             [
              0.8888888888888888,
              "#fdca26"
             ],
             [
              1,
              "#f0f921"
             ]
            ],
            "type": "histogram2dcontour"
           }
          ],
          "mesh3d": [
           {
            "colorbar": {
             "outlinewidth": 0,
             "ticks": ""
            },
            "type": "mesh3d"
           }
          ],
          "parcoords": [
           {
            "line": {
             "colorbar": {
              "outlinewidth": 0,
              "ticks": ""
             }
            },
            "type": "parcoords"
           }
          ],
          "pie": [
           {
            "automargin": true,
            "type": "pie"
           }
          ],
          "scatter": [
           {
            "fillpattern": {
             "fillmode": "overlay",
             "size": 10,
             "solidity": 0.2
            },
            "type": "scatter"
           }
          ],
          "scatter3d": [
           {
            "line": {
             "colorbar": {
              "outlinewidth": 0,
              "ticks": ""
             }
            },
            "marker": {
             "colorbar": {
              "outlinewidth": 0,
              "ticks": ""
             }
            },
            "type": "scatter3d"
           }
          ],
          "scattercarpet": [
           {
            "marker": {
             "colorbar": {
              "outlinewidth": 0,
              "ticks": ""
             }
            },
            "type": "scattercarpet"
           }
          ],
          "scattergeo": [
           {
            "marker": {
             "colorbar": {
              "outlinewidth": 0,
              "ticks": ""
             }
            },
            "type": "scattergeo"
           }
          ],
          "scattergl": [
           {
            "marker": {
             "colorbar": {
              "outlinewidth": 0,
              "ticks": ""
             }
            },
            "type": "scattergl"
           }
          ],
          "scattermapbox": [
           {
            "marker": {
             "colorbar": {
              "outlinewidth": 0,
              "ticks": ""
             }
            },
            "type": "scattermapbox"
           }
          ],
          "scatterpolar": [
           {
            "marker": {
             "colorbar": {
              "outlinewidth": 0,
              "ticks": ""
             }
            },
            "type": "scatterpolar"
           }
          ],
          "scatterpolargl": [
           {
            "marker": {
             "colorbar": {
              "outlinewidth": 0,
              "ticks": ""
             }
            },
            "type": "scatterpolargl"
           }
          ],
          "scatterternary": [
           {
            "marker": {
             "colorbar": {
              "outlinewidth": 0,
              "ticks": ""
             }
            },
            "type": "scatterternary"
           }
          ],
          "surface": [
           {
            "colorbar": {
             "outlinewidth": 0,
             "ticks": ""
            },
            "colorscale": [
             [
              0,
              "#0d0887"
             ],
             [
              0.1111111111111111,
              "#46039f"
             ],
             [
              0.2222222222222222,
              "#7201a8"
             ],
             [
              0.3333333333333333,
              "#9c179e"
             ],
             [
              0.4444444444444444,
              "#bd3786"
             ],
             [
              0.5555555555555556,
              "#d8576b"
             ],
             [
              0.6666666666666666,
              "#ed7953"
             ],
             [
              0.7777777777777778,
              "#fb9f3a"
             ],
             [
              0.8888888888888888,
              "#fdca26"
             ],
             [
              1,
              "#f0f921"
             ]
            ],
            "type": "surface"
           }
          ],
          "table": [
           {
            "cells": {
             "fill": {
              "color": "#EBF0F8"
             },
             "line": {
              "color": "white"
             }
            },
            "header": {
             "fill": {
              "color": "#C8D4E3"
             },
             "line": {
              "color": "white"
             }
            },
            "type": "table"
           }
          ]
         },
         "layout": {
          "annotationdefaults": {
           "arrowcolor": "#2a3f5f",
           "arrowhead": 0,
           "arrowwidth": 1
          },
          "autotypenumbers": "strict",
          "coloraxis": {
           "colorbar": {
            "outlinewidth": 0,
            "ticks": ""
           }
          },
          "colorscale": {
           "diverging": [
            [
             0,
             "#8e0152"
            ],
            [
             0.1,
             "#c51b7d"
            ],
            [
             0.2,
             "#de77ae"
            ],
            [
             0.3,
             "#f1b6da"
            ],
            [
             0.4,
             "#fde0ef"
            ],
            [
             0.5,
             "#f7f7f7"
            ],
            [
             0.6,
             "#e6f5d0"
            ],
            [
             0.7,
             "#b8e186"
            ],
            [
             0.8,
             "#7fbc41"
            ],
            [
             0.9,
             "#4d9221"
            ],
            [
             1,
             "#276419"
            ]
           ],
           "sequential": [
            [
             0,
             "#0d0887"
            ],
            [
             0.1111111111111111,
             "#46039f"
            ],
            [
             0.2222222222222222,
             "#7201a8"
            ],
            [
             0.3333333333333333,
             "#9c179e"
            ],
            [
             0.4444444444444444,
             "#bd3786"
            ],
            [
             0.5555555555555556,
             "#d8576b"
            ],
            [
             0.6666666666666666,
             "#ed7953"
            ],
            [
             0.7777777777777778,
             "#fb9f3a"
            ],
            [
             0.8888888888888888,
             "#fdca26"
            ],
            [
             1,
             "#f0f921"
            ]
           ],
           "sequentialminus": [
            [
             0,
             "#0d0887"
            ],
            [
             0.1111111111111111,
             "#46039f"
            ],
            [
             0.2222222222222222,
             "#7201a8"
            ],
            [
             0.3333333333333333,
             "#9c179e"
            ],
            [
             0.4444444444444444,
             "#bd3786"
            ],
            [
             0.5555555555555556,
             "#d8576b"
            ],
            [
             0.6666666666666666,
             "#ed7953"
            ],
            [
             0.7777777777777778,
             "#fb9f3a"
            ],
            [
             0.8888888888888888,
             "#fdca26"
            ],
            [
             1,
             "#f0f921"
            ]
           ]
          },
          "colorway": [
           "#636efa",
           "#EF553B",
           "#00cc96",
           "#ab63fa",
           "#FFA15A",
           "#19d3f3",
           "#FF6692",
           "#B6E880",
           "#FF97FF",
           "#FECB52"
          ],
          "font": {
           "color": "#2a3f5f"
          },
          "geo": {
           "bgcolor": "white",
           "lakecolor": "white",
           "landcolor": "#E5ECF6",
           "showlakes": true,
           "showland": true,
           "subunitcolor": "white"
          },
          "hoverlabel": {
           "align": "left"
          },
          "hovermode": "closest",
          "mapbox": {
           "style": "light"
          },
          "paper_bgcolor": "white",
          "plot_bgcolor": "#E5ECF6",
          "polar": {
           "angularaxis": {
            "gridcolor": "white",
            "linecolor": "white",
            "ticks": ""
           },
           "bgcolor": "#E5ECF6",
           "radialaxis": {
            "gridcolor": "white",
            "linecolor": "white",
            "ticks": ""
           }
          },
          "scene": {
           "xaxis": {
            "backgroundcolor": "#E5ECF6",
            "gridcolor": "white",
            "gridwidth": 2,
            "linecolor": "white",
            "showbackground": true,
            "ticks": "",
            "zerolinecolor": "white"
           },
           "yaxis": {
            "backgroundcolor": "#E5ECF6",
            "gridcolor": "white",
            "gridwidth": 2,
            "linecolor": "white",
            "showbackground": true,
            "ticks": "",
            "zerolinecolor": "white"
           },
           "zaxis": {
            "backgroundcolor": "#E5ECF6",
            "gridcolor": "white",
            "gridwidth": 2,
            "linecolor": "white",
            "showbackground": true,
            "ticks": "",
            "zerolinecolor": "white"
           }
          },
          "shapedefaults": {
           "line": {
            "color": "#2a3f5f"
           }
          },
          "ternary": {
           "aaxis": {
            "gridcolor": "white",
            "linecolor": "white",
            "ticks": ""
           },
           "baxis": {
            "gridcolor": "white",
            "linecolor": "white",
            "ticks": ""
           },
           "bgcolor": "#E5ECF6",
           "caxis": {
            "gridcolor": "white",
            "linecolor": "white",
            "ticks": ""
           }
          },
          "title": {
           "x": 0.05
          },
          "xaxis": {
           "automargin": true,
           "gridcolor": "white",
           "linecolor": "white",
           "ticks": "",
           "title": {
            "standoff": 15
           },
           "zerolinecolor": "white",
           "zerolinewidth": 2
          },
          "yaxis": {
           "automargin": true,
           "gridcolor": "white",
           "linecolor": "white",
           "ticks": "",
           "title": {
            "standoff": 15
           },
           "zerolinecolor": "white",
           "zerolinewidth": 2
          }
         }
        }
       }
      }
     },
     "metadata": {},
     "output_type": "display_data"
    }
   ],
   "source": [
    "plot_svm_nth_separation_plane(features, svm_model, 0) # 0 to 5 planes"
   ]
  },
  {
   "attachments": {},
   "cell_type": "markdown",
   "id": "52b5018e",
   "metadata": {},
   "source": [
    "# Predicting the classes with the SVM"
   ]
  },
  {
   "cell_type": "code",
   "execution_count": 78,
   "id": "2fdabfea",
   "metadata": {},
   "outputs": [],
   "source": [
    "def predic_with_svm_model(clf, features):\n",
    "    X = features[[\"max_zscore\", \"autocorr\", \"mean\"]]\n",
    "    # append the class prediction to the features dataframe\n",
    "    features[\"svm_label\"] = clf.predict(X)\n",
    "    return features"
   ]
  },
  {
   "attachments": {},
   "cell_type": "markdown",
   "id": "9e664189",
   "metadata": {},
   "source": [
    "# Testing the model\n",
    "\n",
    "Here we download the data of some topics and use the model to predict the classes of the time series."
   ]
  },
  {
   "cell_type": "code",
   "execution_count": 79,
   "id": "04eb9841",
   "metadata": {},
   "outputs": [
    {
     "name": "stdout",
     "output_type": "stream",
     "text": [
      "Downloading Google Trends...\n"
     ]
    },
    {
     "name": "stderr",
     "output_type": "stream",
     "text": [
      "100%|██████████| 3/3 [03:03<00:00, 61.16s/it]\n"
     ]
    }
   ],
   "source": [
    "import google_trends.dl_google_trends as gt\n",
    "from datetime import datetime, timedelta\n",
    "\n",
    "# defining time range\n",
    "start_date = str(datetime.today() - timedelta(days=365 * 4))\n",
    "end_date = str(datetime.today())\n",
    "# topics to download\n",
    "topic = [\"sciarpa\",\"1 gennaio 2022\",\"rosso\"]\n",
    "\n",
    "# downloading data from google trends\n",
    "# take at least 1 min to download data\n",
    "gtrends_series = gt.get_google_trends(\n",
    "    topic, start_date, end_date, \"\", \"it-IT\"\n",
    ")\n",
    "\n",
    "# seve data to csv\n",
    "gtrends_series.to_csv(\"../data/gtrends_downloaded.csv\")"
   ]
  },
  {
   "attachments": {},
   "cell_type": "markdown",
   "id": "a9c8ca31",
   "metadata": {},
   "source": [
    "# Showing the results"
   ]
  },
  {
   "cell_type": "code",
   "execution_count": 80,
   "id": "3df2ec6c",
   "metadata": {},
   "outputs": [
    {
     "name": "stdout",
     "output_type": "stream",
     "text": [
      "Topic : sciarpa - Predicted class : 2 - Hot topic recurrently\n",
      "Topic : 1 gennaio 2022 - Predicted class : 3 - Hot topic for a single time\n",
      "Topic : rosso - Predicted class : 0 - Hot topic\n"
     ]
    },
    {
     "data": {
      "application/vnd.plotly.v1+json": {
       "config": {
        "plotlyServerURL": "https://plot.ly"
       },
       "data": [
        {
         "hovertemplate": "variable=sciarpa<br>date=%{x}<br>value=%{y}<extra></extra>",
         "legendgroup": "sciarpa",
         "line": {
          "color": "#636efa",
          "dash": "solid"
         },
         "marker": {
          "symbol": "circle"
         },
         "mode": "lines",
         "name": "sciarpa",
         "orientation": "v",
         "showlegend": true,
         "type": "scatter",
         "x": [
          "2019-02-04",
          "2019-02-11",
          "2019-02-18",
          "2019-02-25",
          "2019-03-04",
          "2019-03-11",
          "2019-03-18",
          "2019-03-25",
          "2019-04-01",
          "2019-04-08",
          "2019-04-15",
          "2019-04-22",
          "2019-04-29",
          "2019-05-06",
          "2019-05-13",
          "2019-05-20",
          "2019-05-27",
          "2019-06-03",
          "2019-06-10",
          "2019-06-17",
          "2019-06-24",
          "2019-07-01",
          "2019-07-08",
          "2019-07-15",
          "2019-07-22",
          "2019-07-29",
          "2019-08-05",
          "2019-08-12",
          "2019-08-19",
          "2019-08-26",
          "2019-09-02",
          "2019-09-09",
          "2019-09-16",
          "2019-09-23",
          "2019-09-30",
          "2019-10-07",
          "2019-10-14",
          "2019-10-21",
          "2019-10-28",
          "2019-11-04",
          "2019-11-11",
          "2019-11-18",
          "2019-11-25",
          "2019-12-02",
          "2019-12-09",
          "2019-12-16",
          "2019-12-23",
          "2019-12-30",
          "2020-01-06",
          "2020-01-13",
          "2020-01-20",
          "2020-01-27",
          "2020-02-03",
          "2020-02-10",
          "2020-02-17",
          "2020-02-24",
          "2020-03-02",
          "2020-03-09",
          "2020-03-16",
          "2020-03-23",
          "2020-03-30",
          "2020-04-06",
          "2020-04-13",
          "2020-04-20",
          "2020-04-27",
          "2020-05-04",
          "2020-05-11",
          "2020-05-18",
          "2020-05-25",
          "2020-06-01",
          "2020-06-08",
          "2020-06-15",
          "2020-06-22",
          "2020-06-29",
          "2020-07-06",
          "2020-07-13",
          "2020-07-20",
          "2020-07-27",
          "2020-08-03",
          "2020-08-10",
          "2020-08-17",
          "2020-08-24",
          "2020-08-31",
          "2020-09-07",
          "2020-09-14",
          "2020-09-21",
          "2020-09-28",
          "2020-10-05",
          "2020-10-12",
          "2020-10-19",
          "2020-10-26",
          "2020-11-02",
          "2020-11-09",
          "2020-11-16",
          "2020-11-23",
          "2020-11-30",
          "2020-12-07",
          "2020-12-14",
          "2020-12-21",
          "2020-12-28",
          "2021-01-04",
          "2021-01-11",
          "2021-01-18",
          "2021-01-25",
          "2021-02-01",
          "2021-02-08",
          "2021-02-15",
          "2021-02-22",
          "2021-03-01",
          "2021-03-08",
          "2021-03-15",
          "2021-03-22",
          "2021-03-29",
          "2021-04-05",
          "2021-04-12",
          "2021-04-19",
          "2021-04-26",
          "2021-05-03",
          "2021-05-10",
          "2021-05-17",
          "2021-05-24",
          "2021-05-31",
          "2021-06-07",
          "2021-06-14",
          "2021-06-21",
          "2021-06-28",
          "2021-07-05",
          "2021-07-12",
          "2021-07-19",
          "2021-07-26",
          "2021-08-02",
          "2021-08-09",
          "2021-08-16",
          "2021-08-23",
          "2021-08-30",
          "2021-09-06",
          "2021-09-13",
          "2021-09-20",
          "2021-09-27",
          "2021-10-04",
          "2021-10-11",
          "2021-10-18",
          "2021-10-25",
          "2021-11-01",
          "2021-11-08",
          "2021-11-15",
          "2021-11-22",
          "2021-11-29",
          "2021-12-06",
          "2021-12-13",
          "2021-12-20",
          "2021-12-27",
          "2022-01-03",
          "2022-01-10",
          "2022-01-17",
          "2022-01-24",
          "2022-01-31",
          "2022-02-07",
          "2022-02-14",
          "2022-02-21",
          "2022-02-28",
          "2022-03-07",
          "2022-03-14",
          "2022-03-21",
          "2022-03-28",
          "2022-04-04",
          "2022-04-11",
          "2022-04-18",
          "2022-04-25",
          "2022-05-02",
          "2022-05-09",
          "2022-05-16",
          "2022-05-23",
          "2022-05-30",
          "2022-06-06",
          "2022-06-13",
          "2022-06-20",
          "2022-06-27",
          "2022-07-04",
          "2022-07-11",
          "2022-07-18",
          "2022-07-25",
          "2022-08-01",
          "2022-08-08",
          "2022-08-15",
          "2022-08-22",
          "2022-08-29",
          "2022-09-05",
          "2022-09-12",
          "2022-09-19",
          "2022-09-26",
          "2022-10-03",
          "2022-10-10",
          "2022-10-17",
          "2022-10-24",
          "2022-10-31",
          "2022-11-07",
          "2022-11-14",
          "2022-11-21",
          "2022-11-28",
          "2022-12-05",
          "2022-12-12",
          "2022-12-19",
          "2022-12-26",
          "2023-01-02",
          "2023-01-09",
          "2023-01-16",
          "2023-01-23"
         ],
         "xaxis": "x",
         "y": [
          26,
          22,
          22,
          20,
          15,
          15,
          14,
          10,
          11,
          12,
          11,
          9,
          9,
          11,
          11,
          8,
          7,
          7,
          7,
          5,
          5,
          4,
          7,
          7,
          7,
          6,
          7,
          6,
          10,
          10,
          13,
          13,
          14,
          16,
          19,
          22,
          26,
          23,
          30,
          33,
          41,
          44,
          48,
          59,
          77,
          69,
          62,
          48,
          42,
          39,
          30,
          30,
          22,
          23,
          17,
          16,
          16,
          17,
          12,
          11,
          11,
          12,
          8,
          8,
          8,
          7,
          8,
          6,
          7,
          6,
          7,
          7,
          5,
          5,
          6,
          8,
          6,
          5,
          6,
          6,
          6,
          9,
          12,
          12,
          10,
          15,
          22,
          23,
          29,
          30,
          28,
          27,
          32,
          39,
          50,
          55,
          68,
          68,
          56,
          42,
          32,
          32,
          31,
          28,
          22,
          23,
          18,
          16,
          14,
          11,
          13,
          11,
          10,
          9,
          11,
          8,
          8,
          10,
          9,
          8,
          7,
          6,
          7,
          7,
          5,
          6,
          5,
          8,
          8,
          8,
          7,
          6,
          8,
          12,
          11,
          11,
          13,
          11,
          16,
          22,
          31,
          28,
          33,
          36,
          41,
          37,
          48,
          58,
          80,
          82,
          68,
          41,
          39,
          37,
          32,
          33,
          25,
          29,
          20,
          18,
          19,
          19,
          17,
          15,
          14,
          15,
          11,
          12,
          12,
          12,
          11,
          9,
          11,
          6,
          6,
          6,
          6,
          6,
          6,
          7,
          8,
          7,
          8,
          8,
          8,
          11,
          13,
          12,
          14,
          20,
          24,
          24,
          28,
          25,
          24,
          32,
          41,
          49,
          63,
          76,
          81,
          100,
          83,
          66,
          47,
          44,
          43,
          42
         ],
         "yaxis": "y"
        },
        {
         "hovertemplate": "variable=1 gennaio 2022<br>date=%{x}<br>value=%{y}<extra></extra>",
         "legendgroup": "1 gennaio 2022",
         "line": {
          "color": "#EF553B",
          "dash": "solid"
         },
         "marker": {
          "symbol": "circle"
         },
         "mode": "lines",
         "name": "1 gennaio 2022",
         "orientation": "v",
         "showlegend": true,
         "type": "scatter",
         "x": [
          "2019-02-04",
          "2019-02-11",
          "2019-02-18",
          "2019-02-25",
          "2019-03-04",
          "2019-03-11",
          "2019-03-18",
          "2019-03-25",
          "2019-04-01",
          "2019-04-08",
          "2019-04-15",
          "2019-04-22",
          "2019-04-29",
          "2019-05-06",
          "2019-05-13",
          "2019-05-20",
          "2019-05-27",
          "2019-06-03",
          "2019-06-10",
          "2019-06-17",
          "2019-06-24",
          "2019-07-01",
          "2019-07-08",
          "2019-07-15",
          "2019-07-22",
          "2019-07-29",
          "2019-08-05",
          "2019-08-12",
          "2019-08-19",
          "2019-08-26",
          "2019-09-02",
          "2019-09-09",
          "2019-09-16",
          "2019-09-23",
          "2019-09-30",
          "2019-10-07",
          "2019-10-14",
          "2019-10-21",
          "2019-10-28",
          "2019-11-04",
          "2019-11-11",
          "2019-11-18",
          "2019-11-25",
          "2019-12-02",
          "2019-12-09",
          "2019-12-16",
          "2019-12-23",
          "2019-12-30",
          "2020-01-06",
          "2020-01-13",
          "2020-01-20",
          "2020-01-27",
          "2020-02-03",
          "2020-02-10",
          "2020-02-17",
          "2020-02-24",
          "2020-03-02",
          "2020-03-09",
          "2020-03-16",
          "2020-03-23",
          "2020-03-30",
          "2020-04-06",
          "2020-04-13",
          "2020-04-20",
          "2020-04-27",
          "2020-05-04",
          "2020-05-11",
          "2020-05-18",
          "2020-05-25",
          "2020-06-01",
          "2020-06-08",
          "2020-06-15",
          "2020-06-22",
          "2020-06-29",
          "2020-07-06",
          "2020-07-13",
          "2020-07-20",
          "2020-07-27",
          "2020-08-03",
          "2020-08-10",
          "2020-08-17",
          "2020-08-24",
          "2020-08-31",
          "2020-09-07",
          "2020-09-14",
          "2020-09-21",
          "2020-09-28",
          "2020-10-05",
          "2020-10-12",
          "2020-10-19",
          "2020-10-26",
          "2020-11-02",
          "2020-11-09",
          "2020-11-16",
          "2020-11-23",
          "2020-11-30",
          "2020-12-07",
          "2020-12-14",
          "2020-12-21",
          "2020-12-28",
          "2021-01-04",
          "2021-01-11",
          "2021-01-18",
          "2021-01-25",
          "2021-02-01",
          "2021-02-08",
          "2021-02-15",
          "2021-02-22",
          "2021-03-01",
          "2021-03-08",
          "2021-03-15",
          "2021-03-22",
          "2021-03-29",
          "2021-04-05",
          "2021-04-12",
          "2021-04-19",
          "2021-04-26",
          "2021-05-03",
          "2021-05-10",
          "2021-05-17",
          "2021-05-24",
          "2021-05-31",
          "2021-06-07",
          "2021-06-14",
          "2021-06-21",
          "2021-06-28",
          "2021-07-05",
          "2021-07-12",
          "2021-07-19",
          "2021-07-26",
          "2021-08-02",
          "2021-08-09",
          "2021-08-16",
          "2021-08-23",
          "2021-08-30",
          "2021-09-06",
          "2021-09-13",
          "2021-09-20",
          "2021-09-27",
          "2021-10-04",
          "2021-10-11",
          "2021-10-18",
          "2021-10-25",
          "2021-11-01",
          "2021-11-08",
          "2021-11-15",
          "2021-11-22",
          "2021-11-29",
          "2021-12-06",
          "2021-12-13",
          "2021-12-20",
          "2021-12-27",
          "2022-01-03",
          "2022-01-10",
          "2022-01-17",
          "2022-01-24",
          "2022-01-31",
          "2022-02-07",
          "2022-02-14",
          "2022-02-21",
          "2022-02-28",
          "2022-03-07",
          "2022-03-14",
          "2022-03-21",
          "2022-03-28",
          "2022-04-04",
          "2022-04-11",
          "2022-04-18",
          "2022-04-25",
          "2022-05-02",
          "2022-05-09",
          "2022-05-16",
          "2022-05-23",
          "2022-05-30",
          "2022-06-06",
          "2022-06-13",
          "2022-06-20",
          "2022-06-27",
          "2022-07-04",
          "2022-07-11",
          "2022-07-18",
          "2022-07-25",
          "2022-08-01",
          "2022-08-08",
          "2022-08-15",
          "2022-08-22",
          "2022-08-29",
          "2022-09-05",
          "2022-09-12",
          "2022-09-19",
          "2022-09-26",
          "2022-10-03",
          "2022-10-10",
          "2022-10-17",
          "2022-10-24",
          "2022-10-31",
          "2022-11-07",
          "2022-11-14",
          "2022-11-21",
          "2022-11-28",
          "2022-12-05",
          "2022-12-12",
          "2022-12-19",
          "2022-12-26",
          "2023-01-02",
          "2023-01-09",
          "2023-01-16",
          "2023-01-23"
         ],
         "xaxis": "x",
         "y": [
          0,
          0,
          0,
          0,
          0,
          0,
          1,
          0,
          0,
          0,
          0,
          0,
          0,
          0,
          1,
          0,
          0,
          0,
          0,
          0,
          0,
          0,
          0,
          0,
          0,
          0,
          0,
          0,
          0,
          0,
          0,
          0,
          0,
          0,
          0,
          0,
          0,
          0,
          0,
          0,
          0,
          0,
          0,
          0,
          0,
          0,
          0,
          0,
          0,
          0,
          0,
          0,
          0,
          0,
          0,
          0,
          0,
          0,
          0,
          0,
          0,
          0,
          0,
          0,
          0,
          0,
          0,
          0,
          0,
          0,
          0,
          0,
          0,
          0,
          0,
          0,
          0,
          0,
          0,
          0,
          0,
          0,
          0,
          0,
          0,
          0,
          0,
          0,
          0,
          0,
          0,
          0,
          0,
          0,
          0,
          0,
          0,
          0,
          0,
          0,
          0,
          0,
          0,
          1,
          0,
          0,
          0,
          0,
          0,
          0,
          0,
          0,
          0,
          0,
          0,
          0,
          0,
          0,
          0,
          0,
          0,
          0,
          0,
          0,
          0,
          0,
          0,
          0,
          0,
          0,
          0,
          0,
          0,
          0,
          0,
          0,
          1,
          0,
          0,
          0,
          0,
          0,
          0,
          0,
          1,
          1,
          1,
          1,
          2,
          3,
          4,
          100,
          21,
          8,
          6,
          8,
          8,
          2,
          1,
          1,
          1,
          1,
          1,
          1,
          1,
          1,
          1,
          1,
          1,
          1,
          1,
          1,
          1,
          1,
          0,
          1,
          0,
          0,
          0,
          0,
          0,
          0,
          0,
          0,
          0,
          0,
          0,
          1,
          0,
          0,
          1,
          1,
          1,
          0,
          0,
          1,
          1,
          1,
          1,
          1,
          1,
          1,
          2,
          9,
          7,
          1,
          1,
          1
         ],
         "yaxis": "y"
        },
        {
         "hovertemplate": "variable=rosso<br>date=%{x}<br>value=%{y}<extra></extra>",
         "legendgroup": "rosso",
         "line": {
          "color": "#00cc96",
          "dash": "solid"
         },
         "marker": {
          "symbol": "circle"
         },
         "mode": "lines",
         "name": "rosso",
         "orientation": "v",
         "showlegend": true,
         "type": "scatter",
         "x": [
          "2019-02-04",
          "2019-02-11",
          "2019-02-18",
          "2019-02-25",
          "2019-03-04",
          "2019-03-11",
          "2019-03-18",
          "2019-03-25",
          "2019-04-01",
          "2019-04-08",
          "2019-04-15",
          "2019-04-22",
          "2019-04-29",
          "2019-05-06",
          "2019-05-13",
          "2019-05-20",
          "2019-05-27",
          "2019-06-03",
          "2019-06-10",
          "2019-06-17",
          "2019-06-24",
          "2019-07-01",
          "2019-07-08",
          "2019-07-15",
          "2019-07-22",
          "2019-07-29",
          "2019-08-05",
          "2019-08-12",
          "2019-08-19",
          "2019-08-26",
          "2019-09-02",
          "2019-09-09",
          "2019-09-16",
          "2019-09-23",
          "2019-09-30",
          "2019-10-07",
          "2019-10-14",
          "2019-10-21",
          "2019-10-28",
          "2019-11-04",
          "2019-11-11",
          "2019-11-18",
          "2019-11-25",
          "2019-12-02",
          "2019-12-09",
          "2019-12-16",
          "2019-12-23",
          "2019-12-30",
          "2020-01-06",
          "2020-01-13",
          "2020-01-20",
          "2020-01-27",
          "2020-02-03",
          "2020-02-10",
          "2020-02-17",
          "2020-02-24",
          "2020-03-02",
          "2020-03-09",
          "2020-03-16",
          "2020-03-23",
          "2020-03-30",
          "2020-04-06",
          "2020-04-13",
          "2020-04-20",
          "2020-04-27",
          "2020-05-04",
          "2020-05-11",
          "2020-05-18",
          "2020-05-25",
          "2020-06-01",
          "2020-06-08",
          "2020-06-15",
          "2020-06-22",
          "2020-06-29",
          "2020-07-06",
          "2020-07-13",
          "2020-07-20",
          "2020-07-27",
          "2020-08-03",
          "2020-08-10",
          "2020-08-17",
          "2020-08-24",
          "2020-08-31",
          "2020-09-07",
          "2020-09-14",
          "2020-09-21",
          "2020-09-28",
          "2020-10-05",
          "2020-10-12",
          "2020-10-19",
          "2020-10-26",
          "2020-11-02",
          "2020-11-09",
          "2020-11-16",
          "2020-11-23",
          "2020-11-30",
          "2020-12-07",
          "2020-12-14",
          "2020-12-21",
          "2020-12-28",
          "2021-01-04",
          "2021-01-11",
          "2021-01-18",
          "2021-01-25",
          "2021-02-01",
          "2021-02-08",
          "2021-02-15",
          "2021-02-22",
          "2021-03-01",
          "2021-03-08",
          "2021-03-15",
          "2021-03-22",
          "2021-03-29",
          "2021-04-05",
          "2021-04-12",
          "2021-04-19",
          "2021-04-26",
          "2021-05-03",
          "2021-05-10",
          "2021-05-17",
          "2021-05-24",
          "2021-05-31",
          "2021-06-07",
          "2021-06-14",
          "2021-06-21",
          "2021-06-28",
          "2021-07-05",
          "2021-07-12",
          "2021-07-19",
          "2021-07-26",
          "2021-08-02",
          "2021-08-09",
          "2021-08-16",
          "2021-08-23",
          "2021-08-30",
          "2021-09-06",
          "2021-09-13",
          "2021-09-20",
          "2021-09-27",
          "2021-10-04",
          "2021-10-11",
          "2021-10-18",
          "2021-10-25",
          "2021-11-01",
          "2021-11-08",
          "2021-11-15",
          "2021-11-22",
          "2021-11-29",
          "2021-12-06",
          "2021-12-13",
          "2021-12-20",
          "2021-12-27",
          "2022-01-03",
          "2022-01-10",
          "2022-01-17",
          "2022-01-24",
          "2022-01-31",
          "2022-02-07",
          "2022-02-14",
          "2022-02-21",
          "2022-02-28",
          "2022-03-07",
          "2022-03-14",
          "2022-03-21",
          "2022-03-28",
          "2022-04-04",
          "2022-04-11",
          "2022-04-18",
          "2022-04-25",
          "2022-05-02",
          "2022-05-09",
          "2022-05-16",
          "2022-05-23",
          "2022-05-30",
          "2022-06-06",
          "2022-06-13",
          "2022-06-20",
          "2022-06-27",
          "2022-07-04",
          "2022-07-11",
          "2022-07-18",
          "2022-07-25",
          "2022-08-01",
          "2022-08-08",
          "2022-08-15",
          "2022-08-22",
          "2022-08-29",
          "2022-09-05",
          "2022-09-12",
          "2022-09-19",
          "2022-09-26",
          "2022-10-03",
          "2022-10-10",
          "2022-10-17",
          "2022-10-24",
          "2022-10-31",
          "2022-11-07",
          "2022-11-14",
          "2022-11-21",
          "2022-11-28",
          "2022-12-05",
          "2022-12-12",
          "2022-12-19",
          "2022-12-26",
          "2023-01-02",
          "2023-01-09",
          "2023-01-16",
          "2023-01-23"
         ],
         "xaxis": "x",
         "y": [
          81,
          85,
          79,
          78,
          75,
          73,
          77,
          76,
          87,
          78,
          80,
          83,
          78,
          75,
          78,
          72,
          79,
          71,
          71,
          69,
          69,
          71,
          75,
          72,
          75,
          79,
          76,
          76,
          73,
          74,
          82,
          86,
          73,
          75,
          72,
          71,
          75,
          75,
          78,
          79,
          79,
          87,
          84,
          83,
          84,
          94,
          92,
          92,
          81,
          80,
          82,
          82,
          87,
          93,
          80,
          73,
          80,
          65,
          64,
          70,
          70,
          80,
          77,
          81,
          85,
          76,
          78,
          79,
          75,
          84,
          81,
          78,
          75,
          73,
          71,
          73,
          74,
          72,
          72,
          72,
          73,
          75,
          77,
          77,
          70,
          74,
          71,
          71,
          68,
          70,
          69,
          69,
          76,
          80,
          86,
          79,
          84,
          86,
          93,
          100,
          75,
          71,
          74,
          81,
          72,
          77,
          71,
          70,
          75,
          82,
          72,
          81,
          77,
          73,
          77,
          71,
          72,
          68,
          71,
          74,
          69,
          73,
          70,
          75,
          82,
          76,
          75,
          74,
          77,
          72,
          71,
          76,
          78,
          79,
          71,
          70,
          73,
          68,
          70,
          71,
          72,
          73,
          68,
          75,
          77,
          76,
          80,
          75,
          83,
          82,
          78,
          75,
          80,
          77,
          73,
          80,
          82,
          81,
          87,
          77,
          80,
          82,
          78,
          85,
          81,
          82,
          84,
          81,
          85,
          85,
          81,
          81,
          77,
          81,
          78,
          80,
          77,
          79,
          79,
          79,
          80,
          77,
          81,
          82,
          81,
          79,
          76,
          76,
          79,
          78,
          77,
          74,
          77,
          77,
          81,
          80,
          77,
          89,
          88,
          86,
          90,
          91,
          95,
          100,
          88,
          82,
          81,
          74
         ],
         "yaxis": "y"
        }
       ],
       "layout": {
        "legend": {
         "title": {
          "text": "variable"
         },
         "tracegroupgap": 0
        },
        "margin": {
         "t": 60
        },
        "template": {
         "data": {
          "bar": [
           {
            "error_x": {
             "color": "#2a3f5f"
            },
            "error_y": {
             "color": "#2a3f5f"
            },
            "marker": {
             "line": {
              "color": "#E5ECF6",
              "width": 0.5
             },
             "pattern": {
              "fillmode": "overlay",
              "size": 10,
              "solidity": 0.2
             }
            },
            "type": "bar"
           }
          ],
          "barpolar": [
           {
            "marker": {
             "line": {
              "color": "#E5ECF6",
              "width": 0.5
             },
             "pattern": {
              "fillmode": "overlay",
              "size": 10,
              "solidity": 0.2
             }
            },
            "type": "barpolar"
           }
          ],
          "carpet": [
           {
            "aaxis": {
             "endlinecolor": "#2a3f5f",
             "gridcolor": "white",
             "linecolor": "white",
             "minorgridcolor": "white",
             "startlinecolor": "#2a3f5f"
            },
            "baxis": {
             "endlinecolor": "#2a3f5f",
             "gridcolor": "white",
             "linecolor": "white",
             "minorgridcolor": "white",
             "startlinecolor": "#2a3f5f"
            },
            "type": "carpet"
           }
          ],
          "choropleth": [
           {
            "colorbar": {
             "outlinewidth": 0,
             "ticks": ""
            },
            "type": "choropleth"
           }
          ],
          "contour": [
           {
            "colorbar": {
             "outlinewidth": 0,
             "ticks": ""
            },
            "colorscale": [
             [
              0,
              "#0d0887"
             ],
             [
              0.1111111111111111,
              "#46039f"
             ],
             [
              0.2222222222222222,
              "#7201a8"
             ],
             [
              0.3333333333333333,
              "#9c179e"
             ],
             [
              0.4444444444444444,
              "#bd3786"
             ],
             [
              0.5555555555555556,
              "#d8576b"
             ],
             [
              0.6666666666666666,
              "#ed7953"
             ],
             [
              0.7777777777777778,
              "#fb9f3a"
             ],
             [
              0.8888888888888888,
              "#fdca26"
             ],
             [
              1,
              "#f0f921"
             ]
            ],
            "type": "contour"
           }
          ],
          "contourcarpet": [
           {
            "colorbar": {
             "outlinewidth": 0,
             "ticks": ""
            },
            "type": "contourcarpet"
           }
          ],
          "heatmap": [
           {
            "colorbar": {
             "outlinewidth": 0,
             "ticks": ""
            },
            "colorscale": [
             [
              0,
              "#0d0887"
             ],
             [
              0.1111111111111111,
              "#46039f"
             ],
             [
              0.2222222222222222,
              "#7201a8"
             ],
             [
              0.3333333333333333,
              "#9c179e"
             ],
             [
              0.4444444444444444,
              "#bd3786"
             ],
             [
              0.5555555555555556,
              "#d8576b"
             ],
             [
              0.6666666666666666,
              "#ed7953"
             ],
             [
              0.7777777777777778,
              "#fb9f3a"
             ],
             [
              0.8888888888888888,
              "#fdca26"
             ],
             [
              1,
              "#f0f921"
             ]
            ],
            "type": "heatmap"
           }
          ],
          "heatmapgl": [
           {
            "colorbar": {
             "outlinewidth": 0,
             "ticks": ""
            },
            "colorscale": [
             [
              0,
              "#0d0887"
             ],
             [
              0.1111111111111111,
              "#46039f"
             ],
             [
              0.2222222222222222,
              "#7201a8"
             ],
             [
              0.3333333333333333,
              "#9c179e"
             ],
             [
              0.4444444444444444,
              "#bd3786"
             ],
             [
              0.5555555555555556,
              "#d8576b"
             ],
             [
              0.6666666666666666,
              "#ed7953"
             ],
             [
              0.7777777777777778,
              "#fb9f3a"
             ],
             [
              0.8888888888888888,
              "#fdca26"
             ],
             [
              1,
              "#f0f921"
             ]
            ],
            "type": "heatmapgl"
           }
          ],
          "histogram": [
           {
            "marker": {
             "pattern": {
              "fillmode": "overlay",
              "size": 10,
              "solidity": 0.2
             }
            },
            "type": "histogram"
           }
          ],
          "histogram2d": [
           {
            "colorbar": {
             "outlinewidth": 0,
             "ticks": ""
            },
            "colorscale": [
             [
              0,
              "#0d0887"
             ],
             [
              0.1111111111111111,
              "#46039f"
             ],
             [
              0.2222222222222222,
              "#7201a8"
             ],
             [
              0.3333333333333333,
              "#9c179e"
             ],
             [
              0.4444444444444444,
              "#bd3786"
             ],
             [
              0.5555555555555556,
              "#d8576b"
             ],
             [
              0.6666666666666666,
              "#ed7953"
             ],
             [
              0.7777777777777778,
              "#fb9f3a"
             ],
             [
              0.8888888888888888,
              "#fdca26"
             ],
             [
              1,
              "#f0f921"
             ]
            ],
            "type": "histogram2d"
           }
          ],
          "histogram2dcontour": [
           {
            "colorbar": {
             "outlinewidth": 0,
             "ticks": ""
            },
            "colorscale": [
             [
              0,
              "#0d0887"
             ],
             [
              0.1111111111111111,
              "#46039f"
             ],
             [
              0.2222222222222222,
              "#7201a8"
             ],
             [
              0.3333333333333333,
              "#9c179e"
             ],
             [
              0.4444444444444444,
              "#bd3786"
             ],
             [
              0.5555555555555556,
              "#d8576b"
             ],
             [
              0.6666666666666666,
              "#ed7953"
             ],
             [
              0.7777777777777778,
              "#fb9f3a"
             ],
             [
              0.8888888888888888,
              "#fdca26"
             ],
             [
              1,
              "#f0f921"
             ]
            ],
            "type": "histogram2dcontour"
           }
          ],
          "mesh3d": [
           {
            "colorbar": {
             "outlinewidth": 0,
             "ticks": ""
            },
            "type": "mesh3d"
           }
          ],
          "parcoords": [
           {
            "line": {
             "colorbar": {
              "outlinewidth": 0,
              "ticks": ""
             }
            },
            "type": "parcoords"
           }
          ],
          "pie": [
           {
            "automargin": true,
            "type": "pie"
           }
          ],
          "scatter": [
           {
            "fillpattern": {
             "fillmode": "overlay",
             "size": 10,
             "solidity": 0.2
            },
            "type": "scatter"
           }
          ],
          "scatter3d": [
           {
            "line": {
             "colorbar": {
              "outlinewidth": 0,
              "ticks": ""
             }
            },
            "marker": {
             "colorbar": {
              "outlinewidth": 0,
              "ticks": ""
             }
            },
            "type": "scatter3d"
           }
          ],
          "scattercarpet": [
           {
            "marker": {
             "colorbar": {
              "outlinewidth": 0,
              "ticks": ""
             }
            },
            "type": "scattercarpet"
           }
          ],
          "scattergeo": [
           {
            "marker": {
             "colorbar": {
              "outlinewidth": 0,
              "ticks": ""
             }
            },
            "type": "scattergeo"
           }
          ],
          "scattergl": [
           {
            "marker": {
             "colorbar": {
              "outlinewidth": 0,
              "ticks": ""
             }
            },
            "type": "scattergl"
           }
          ],
          "scattermapbox": [
           {
            "marker": {
             "colorbar": {
              "outlinewidth": 0,
              "ticks": ""
             }
            },
            "type": "scattermapbox"
           }
          ],
          "scatterpolar": [
           {
            "marker": {
             "colorbar": {
              "outlinewidth": 0,
              "ticks": ""
             }
            },
            "type": "scatterpolar"
           }
          ],
          "scatterpolargl": [
           {
            "marker": {
             "colorbar": {
              "outlinewidth": 0,
              "ticks": ""
             }
            },
            "type": "scatterpolargl"
           }
          ],
          "scatterternary": [
           {
            "marker": {
             "colorbar": {
              "outlinewidth": 0,
              "ticks": ""
             }
            },
            "type": "scatterternary"
           }
          ],
          "surface": [
           {
            "colorbar": {
             "outlinewidth": 0,
             "ticks": ""
            },
            "colorscale": [
             [
              0,
              "#0d0887"
             ],
             [
              0.1111111111111111,
              "#46039f"
             ],
             [
              0.2222222222222222,
              "#7201a8"
             ],
             [
              0.3333333333333333,
              "#9c179e"
             ],
             [
              0.4444444444444444,
              "#bd3786"
             ],
             [
              0.5555555555555556,
              "#d8576b"
             ],
             [
              0.6666666666666666,
              "#ed7953"
             ],
             [
              0.7777777777777778,
              "#fb9f3a"
             ],
             [
              0.8888888888888888,
              "#fdca26"
             ],
             [
              1,
              "#f0f921"
             ]
            ],
            "type": "surface"
           }
          ],
          "table": [
           {
            "cells": {
             "fill": {
              "color": "#EBF0F8"
             },
             "line": {
              "color": "white"
             }
            },
            "header": {
             "fill": {
              "color": "#C8D4E3"
             },
             "line": {
              "color": "white"
             }
            },
            "type": "table"
           }
          ]
         },
         "layout": {
          "annotationdefaults": {
           "arrowcolor": "#2a3f5f",
           "arrowhead": 0,
           "arrowwidth": 1
          },
          "autotypenumbers": "strict",
          "coloraxis": {
           "colorbar": {
            "outlinewidth": 0,
            "ticks": ""
           }
          },
          "colorscale": {
           "diverging": [
            [
             0,
             "#8e0152"
            ],
            [
             0.1,
             "#c51b7d"
            ],
            [
             0.2,
             "#de77ae"
            ],
            [
             0.3,
             "#f1b6da"
            ],
            [
             0.4,
             "#fde0ef"
            ],
            [
             0.5,
             "#f7f7f7"
            ],
            [
             0.6,
             "#e6f5d0"
            ],
            [
             0.7,
             "#b8e186"
            ],
            [
             0.8,
             "#7fbc41"
            ],
            [
             0.9,
             "#4d9221"
            ],
            [
             1,
             "#276419"
            ]
           ],
           "sequential": [
            [
             0,
             "#0d0887"
            ],
            [
             0.1111111111111111,
             "#46039f"
            ],
            [
             0.2222222222222222,
             "#7201a8"
            ],
            [
             0.3333333333333333,
             "#9c179e"
            ],
            [
             0.4444444444444444,
             "#bd3786"
            ],
            [
             0.5555555555555556,
             "#d8576b"
            ],
            [
             0.6666666666666666,
             "#ed7953"
            ],
            [
             0.7777777777777778,
             "#fb9f3a"
            ],
            [
             0.8888888888888888,
             "#fdca26"
            ],
            [
             1,
             "#f0f921"
            ]
           ],
           "sequentialminus": [
            [
             0,
             "#0d0887"
            ],
            [
             0.1111111111111111,
             "#46039f"
            ],
            [
             0.2222222222222222,
             "#7201a8"
            ],
            [
             0.3333333333333333,
             "#9c179e"
            ],
            [
             0.4444444444444444,
             "#bd3786"
            ],
            [
             0.5555555555555556,
             "#d8576b"
            ],
            [
             0.6666666666666666,
             "#ed7953"
            ],
            [
             0.7777777777777778,
             "#fb9f3a"
            ],
            [
             0.8888888888888888,
             "#fdca26"
            ],
            [
             1,
             "#f0f921"
            ]
           ]
          },
          "colorway": [
           "#636efa",
           "#EF553B",
           "#00cc96",
           "#ab63fa",
           "#FFA15A",
           "#19d3f3",
           "#FF6692",
           "#B6E880",
           "#FF97FF",
           "#FECB52"
          ],
          "font": {
           "color": "#2a3f5f"
          },
          "geo": {
           "bgcolor": "white",
           "lakecolor": "white",
           "landcolor": "#E5ECF6",
           "showlakes": true,
           "showland": true,
           "subunitcolor": "white"
          },
          "hoverlabel": {
           "align": "left"
          },
          "hovermode": "closest",
          "mapbox": {
           "style": "light"
          },
          "paper_bgcolor": "white",
          "plot_bgcolor": "#E5ECF6",
          "polar": {
           "angularaxis": {
            "gridcolor": "white",
            "linecolor": "white",
            "ticks": ""
           },
           "bgcolor": "#E5ECF6",
           "radialaxis": {
            "gridcolor": "white",
            "linecolor": "white",
            "ticks": ""
           }
          },
          "scene": {
           "xaxis": {
            "backgroundcolor": "#E5ECF6",
            "gridcolor": "white",
            "gridwidth": 2,
            "linecolor": "white",
            "showbackground": true,
            "ticks": "",
            "zerolinecolor": "white"
           },
           "yaxis": {
            "backgroundcolor": "#E5ECF6",
            "gridcolor": "white",
            "gridwidth": 2,
            "linecolor": "white",
            "showbackground": true,
            "ticks": "",
            "zerolinecolor": "white"
           },
           "zaxis": {
            "backgroundcolor": "#E5ECF6",
            "gridcolor": "white",
            "gridwidth": 2,
            "linecolor": "white",
            "showbackground": true,
            "ticks": "",
            "zerolinecolor": "white"
           }
          },
          "shapedefaults": {
           "line": {
            "color": "#2a3f5f"
           }
          },
          "ternary": {
           "aaxis": {
            "gridcolor": "white",
            "linecolor": "white",
            "ticks": ""
           },
           "baxis": {
            "gridcolor": "white",
            "linecolor": "white",
            "ticks": ""
           },
           "bgcolor": "#E5ECF6",
           "caxis": {
            "gridcolor": "white",
            "linecolor": "white",
            "ticks": ""
           }
          },
          "title": {
           "x": 0.05
          },
          "xaxis": {
           "automargin": true,
           "gridcolor": "white",
           "linecolor": "white",
           "ticks": "",
           "title": {
            "standoff": 15
           },
           "zerolinecolor": "white",
           "zerolinewidth": 2
          },
          "yaxis": {
           "automargin": true,
           "gridcolor": "white",
           "linecolor": "white",
           "ticks": "",
           "title": {
            "standoff": 15
           },
           "zerolinecolor": "white",
           "zerolinewidth": 2
          }
         }
        },
        "xaxis": {
         "anchor": "y",
         "domain": [
          0,
          1
         ],
         "title": {
          "text": "date"
         }
        },
        "yaxis": {
         "anchor": "x",
         "domain": [
          0,
          1
         ],
         "range": [
          0,
          100
         ],
         "title": {
          "text": "value"
         }
        }
       }
      }
     },
     "metadata": {},
     "output_type": "display_data"
    }
   ],
   "source": [
    "gtrends_series = pd.read_csv(\"../data/gtrends_downloaded.csv\")\n",
    "\n",
    "gtrends_series_features = feature_ext(gtrends_series)\n",
    "\n",
    "gtrends_series_features = drop_rows_with_nan(gtrends_series_features)\n",
    "\n",
    "if len(gtrends_series_features) > 0:\n",
    "    gtrends_series_features = predic_with_svm_model(svm_model, gtrends_series_features)\n",
    "\n",
    "    # print predicted class\n",
    "    for i in range(0, len(gtrends_series_features)):\n",
    "        print(\n",
    "            f\"Topic : {gtrends_series_features['topic'][i]} - Predicted class : {gtrends_series_features['svm_label'][i]} - {class_meaning[str(gtrends_series_features['svm_label'][i])]}\"\n",
    "        )\n",
    "\n",
    "    fig = px.line(gtrends_series, x=\"date\", y=topic)\n",
    "    fig.update_layout(yaxis_range=[0, 100])\n",
    "    fig.show()"
   ]
  }
 ],
 "metadata": {
  "kernelspec": {
   "display_name": ".env",
   "language": "python",
   "name": "python3"
  },
  "language_info": {
   "codemirror_mode": {
    "name": "ipython",
    "version": 3
   },
   "file_extension": ".py",
   "mimetype": "text/x-python",
   "name": "python",
   "nbconvert_exporter": "python",
   "pygments_lexer": "ipython3",
   "version": "3.10.9"
  },
  "vscode": {
   "interpreter": {
    "hash": "57b21b4d4efdc43318257e26656fa263190e1ad257d12ccf96dddad554a30da7"
   }
  }
 },
 "nbformat": 4,
 "nbformat_minor": 5
}
